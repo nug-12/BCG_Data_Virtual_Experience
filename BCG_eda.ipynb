{
  "cells": [
    {
      "cell_type": "markdown",
      "id": "a207638d-2d90-4a41-81e0-f86b35a174f9",
      "metadata": {
        "id": "a207638d-2d90-4a41-81e0-f86b35a174f9"
      },
      "source": [
        "# Exploratory Data Analysis Starter\n",
        "\n",
        "## Import packages"
      ]
    },
    {
      "cell_type": "code",
      "execution_count": null,
      "id": "21fa22a3-62fc-4ee9-ad3b-5e3fbc059bdf",
      "metadata": {
        "id": "21fa22a3-62fc-4ee9-ad3b-5e3fbc059bdf"
      },
      "outputs": [],
      "source": [
        "import matplotlib.pyplot as plt\n",
        "import seaborn as sns\n",
        "import pandas as pd\n",
        "\n",
        "# Shows plots in jupyter notebook\n",
        "%matplotlib inline\n",
        "\n",
        "# Set plot style\n",
        "sns.set(color_codes=True)"
      ]
    },
    {
      "cell_type": "markdown",
      "id": "88cb5312-cbc0-4193-b84e-2c94455c9edf",
      "metadata": {
        "id": "88cb5312-cbc0-4193-b84e-2c94455c9edf"
      },
      "source": [
        "---\n",
        "\n",
        "## Loading data with Pandas\n",
        "\n",
        "We need to load `client_data.csv` and `price_data.csv` into individual dataframes so that we can work with them in Python. For this notebook and all further notebooks, it will be assumed that the CSV files will the placed in the same file location as the notebook. If they are not, please adjust the directory within the `read_csv` method accordingly."
      ]
    },
    {
      "cell_type": "code",
      "execution_count": null,
      "id": "82e6a4ae-2b8a-4152-b04f-0c998466fd50",
      "metadata": {
        "id": "82e6a4ae-2b8a-4152-b04f-0c998466fd50"
      },
      "outputs": [],
      "source": [
        "client_df = pd.read_csv('https://github.com/nugi1209/BCG_Data_Virtual_Experience/blob/main/client_data.csv?raw=true')\n",
        "price_df = pd.read_csv('https://github.com/nugi1209/BCG_Data_Virtual_Experience/blob/main/price_data.csv?raw=true')"
      ]
    },
    {
      "cell_type": "markdown",
      "id": "4ac7aaab-7c26-40ca-8f63-cf2ef9541ce6",
      "metadata": {
        "id": "4ac7aaab-7c26-40ca-8f63-cf2ef9541ce6"
      },
      "source": [
        "You can view the first 3 rows of a dataframe using the `head` method. Similarly, if you wanted to see the last 3, you can use `tail(3)`"
      ]
    },
    {
      "cell_type": "code",
      "execution_count": null,
      "id": "dcf0d488-d3df-4819-a52b-e335c0674e43",
      "metadata": {
        "colab": {
          "base_uri": "https://localhost:8080/",
          "height": 215
        },
        "id": "dcf0d488-d3df-4819-a52b-e335c0674e43",
        "outputId": "6caad6f0-33ef-483c-ccfe-d62bbb263325"
      },
      "outputs": [
        {
          "output_type": "execute_result",
          "data": {
            "text/html": [
              "<div>\n",
              "<style scoped>\n",
              "    .dataframe tbody tr th:only-of-type {\n",
              "        vertical-align: middle;\n",
              "    }\n",
              "\n",
              "    .dataframe tbody tr th {\n",
              "        vertical-align: top;\n",
              "    }\n",
              "\n",
              "    .dataframe thead th {\n",
              "        text-align: right;\n",
              "    }\n",
              "</style>\n",
              "<table border=\"1\" class=\"dataframe\">\n",
              "  <thead>\n",
              "    <tr style=\"text-align: right;\">\n",
              "      <th></th>\n",
              "      <th>id</th>\n",
              "      <th>channel_sales</th>\n",
              "      <th>cons_12m</th>\n",
              "      <th>cons_gas_12m</th>\n",
              "      <th>cons_last_month</th>\n",
              "      <th>date_activ</th>\n",
              "      <th>date_end</th>\n",
              "      <th>date_modif_prod</th>\n",
              "      <th>date_renewal</th>\n",
              "      <th>forecast_cons_12m</th>\n",
              "      <th>forecast_cons_year</th>\n",
              "      <th>forecast_discount_energy</th>\n",
              "      <th>forecast_meter_rent_12m</th>\n",
              "      <th>forecast_price_energy_off_peak</th>\n",
              "      <th>forecast_price_energy_peak</th>\n",
              "      <th>forecast_price_pow_off_peak</th>\n",
              "      <th>has_gas</th>\n",
              "      <th>imp_cons</th>\n",
              "      <th>margin_gross_pow_ele</th>\n",
              "      <th>margin_net_pow_ele</th>\n",
              "      <th>nb_prod_act</th>\n",
              "      <th>net_margin</th>\n",
              "      <th>num_years_antig</th>\n",
              "      <th>origin_up</th>\n",
              "      <th>pow_max</th>\n",
              "      <th>churn</th>\n",
              "    </tr>\n",
              "  </thead>\n",
              "  <tbody>\n",
              "    <tr>\n",
              "      <th>0</th>\n",
              "      <td>24011ae4ebbe3035111d65fa7c15bc57</td>\n",
              "      <td>foosdfpfkusacimwkcsosbicdxkicaua</td>\n",
              "      <td>0</td>\n",
              "      <td>54946</td>\n",
              "      <td>0</td>\n",
              "      <td>2013-06-15</td>\n",
              "      <td>2016-06-15</td>\n",
              "      <td>2015-11-01</td>\n",
              "      <td>2015-06-23</td>\n",
              "      <td>0.00</td>\n",
              "      <td>0</td>\n",
              "      <td>0.0</td>\n",
              "      <td>1.78</td>\n",
              "      <td>0.114481</td>\n",
              "      <td>0.098142</td>\n",
              "      <td>40.606701</td>\n",
              "      <td>t</td>\n",
              "      <td>0.0</td>\n",
              "      <td>25.44</td>\n",
              "      <td>25.44</td>\n",
              "      <td>2</td>\n",
              "      <td>678.99</td>\n",
              "      <td>3</td>\n",
              "      <td>lxidpiddsbxsbosboudacockeimpuepw</td>\n",
              "      <td>43.648</td>\n",
              "      <td>1</td>\n",
              "    </tr>\n",
              "    <tr>\n",
              "      <th>1</th>\n",
              "      <td>d29c2c54acc38ff3c0614d0a653813dd</td>\n",
              "      <td>MISSING</td>\n",
              "      <td>4660</td>\n",
              "      <td>0</td>\n",
              "      <td>0</td>\n",
              "      <td>2009-08-21</td>\n",
              "      <td>2016-08-30</td>\n",
              "      <td>2009-08-21</td>\n",
              "      <td>2015-08-31</td>\n",
              "      <td>189.95</td>\n",
              "      <td>0</td>\n",
              "      <td>0.0</td>\n",
              "      <td>16.27</td>\n",
              "      <td>0.145711</td>\n",
              "      <td>0.000000</td>\n",
              "      <td>44.311378</td>\n",
              "      <td>f</td>\n",
              "      <td>0.0</td>\n",
              "      <td>16.38</td>\n",
              "      <td>16.38</td>\n",
              "      <td>1</td>\n",
              "      <td>18.89</td>\n",
              "      <td>6</td>\n",
              "      <td>kamkkxfxxuwbdslkwifmmcsiusiuosws</td>\n",
              "      <td>13.800</td>\n",
              "      <td>0</td>\n",
              "    </tr>\n",
              "    <tr>\n",
              "      <th>2</th>\n",
              "      <td>764c75f661154dac3a6c254cd082ea7d</td>\n",
              "      <td>foosdfpfkusacimwkcsosbicdxkicaua</td>\n",
              "      <td>544</td>\n",
              "      <td>0</td>\n",
              "      <td>0</td>\n",
              "      <td>2010-04-16</td>\n",
              "      <td>2016-04-16</td>\n",
              "      <td>2010-04-16</td>\n",
              "      <td>2015-04-17</td>\n",
              "      <td>47.96</td>\n",
              "      <td>0</td>\n",
              "      <td>0.0</td>\n",
              "      <td>38.72</td>\n",
              "      <td>0.165794</td>\n",
              "      <td>0.087899</td>\n",
              "      <td>44.311378</td>\n",
              "      <td>f</td>\n",
              "      <td>0.0</td>\n",
              "      <td>28.60</td>\n",
              "      <td>28.60</td>\n",
              "      <td>1</td>\n",
              "      <td>6.60</td>\n",
              "      <td>6</td>\n",
              "      <td>kamkkxfxxuwbdslkwifmmcsiusiuosws</td>\n",
              "      <td>13.856</td>\n",
              "      <td>0</td>\n",
              "    </tr>\n",
              "  </tbody>\n",
              "</table>\n",
              "</div>"
            ],
            "text/plain": [
              "                                 id  ... churn\n",
              "0  24011ae4ebbe3035111d65fa7c15bc57  ...     1\n",
              "1  d29c2c54acc38ff3c0614d0a653813dd  ...     0\n",
              "2  764c75f661154dac3a6c254cd082ea7d  ...     0\n",
              "\n",
              "[3 rows x 26 columns]"
            ]
          },
          "metadata": {},
          "execution_count": 90
        }
      ],
      "source": [
        "client_df.head(3)"
      ]
    },
    {
      "cell_type": "code",
      "execution_count": null,
      "id": "2654a02d-8cf3-4a18-903e-b4f7f95d8e9e",
      "metadata": {
        "colab": {
          "base_uri": "https://localhost:8080/",
          "height": 226
        },
        "id": "2654a02d-8cf3-4a18-903e-b4f7f95d8e9e",
        "outputId": "e787940f-a218-4d0f-ee28-94006528b96c"
      },
      "outputs": [
        {
          "output_type": "execute_result",
          "data": {
            "text/html": [
              "<div>\n",
              "<style scoped>\n",
              "    .dataframe tbody tr th:only-of-type {\n",
              "        vertical-align: middle;\n",
              "    }\n",
              "\n",
              "    .dataframe tbody tr th {\n",
              "        vertical-align: top;\n",
              "    }\n",
              "\n",
              "    .dataframe thead th {\n",
              "        text-align: right;\n",
              "    }\n",
              "</style>\n",
              "<table border=\"1\" class=\"dataframe\">\n",
              "  <thead>\n",
              "    <tr style=\"text-align: right;\">\n",
              "      <th></th>\n",
              "      <th>id</th>\n",
              "      <th>price_date</th>\n",
              "      <th>price_off_peak_var</th>\n",
              "      <th>price_peak_var</th>\n",
              "      <th>price_mid_peak_var</th>\n",
              "      <th>price_off_peak_fix</th>\n",
              "      <th>price_peak_fix</th>\n",
              "      <th>price_mid_peak_fix</th>\n",
              "    </tr>\n",
              "  </thead>\n",
              "  <tbody>\n",
              "    <tr>\n",
              "      <th>0</th>\n",
              "      <td>038af19179925da21a25619c5a24b745</td>\n",
              "      <td>2015-01-01</td>\n",
              "      <td>0.151367</td>\n",
              "      <td>0.0</td>\n",
              "      <td>0.0</td>\n",
              "      <td>44.266931</td>\n",
              "      <td>0.0</td>\n",
              "      <td>0.0</td>\n",
              "    </tr>\n",
              "    <tr>\n",
              "      <th>1</th>\n",
              "      <td>038af19179925da21a25619c5a24b745</td>\n",
              "      <td>2015-02-01</td>\n",
              "      <td>0.151367</td>\n",
              "      <td>0.0</td>\n",
              "      <td>0.0</td>\n",
              "      <td>44.266931</td>\n",
              "      <td>0.0</td>\n",
              "      <td>0.0</td>\n",
              "    </tr>\n",
              "    <tr>\n",
              "      <th>2</th>\n",
              "      <td>038af19179925da21a25619c5a24b745</td>\n",
              "      <td>2015-03-01</td>\n",
              "      <td>0.151367</td>\n",
              "      <td>0.0</td>\n",
              "      <td>0.0</td>\n",
              "      <td>44.266931</td>\n",
              "      <td>0.0</td>\n",
              "      <td>0.0</td>\n",
              "    </tr>\n",
              "    <tr>\n",
              "      <th>3</th>\n",
              "      <td>038af19179925da21a25619c5a24b745</td>\n",
              "      <td>2015-04-01</td>\n",
              "      <td>0.149626</td>\n",
              "      <td>0.0</td>\n",
              "      <td>0.0</td>\n",
              "      <td>44.266931</td>\n",
              "      <td>0.0</td>\n",
              "      <td>0.0</td>\n",
              "    </tr>\n",
              "    <tr>\n",
              "      <th>4</th>\n",
              "      <td>038af19179925da21a25619c5a24b745</td>\n",
              "      <td>2015-05-01</td>\n",
              "      <td>0.149626</td>\n",
              "      <td>0.0</td>\n",
              "      <td>0.0</td>\n",
              "      <td>44.266931</td>\n",
              "      <td>0.0</td>\n",
              "      <td>0.0</td>\n",
              "    </tr>\n",
              "  </tbody>\n",
              "</table>\n",
              "</div>"
            ],
            "text/plain": [
              "                                 id  ... price_mid_peak_fix\n",
              "0  038af19179925da21a25619c5a24b745  ...                0.0\n",
              "1  038af19179925da21a25619c5a24b745  ...                0.0\n",
              "2  038af19179925da21a25619c5a24b745  ...                0.0\n",
              "3  038af19179925da21a25619c5a24b745  ...                0.0\n",
              "4  038af19179925da21a25619c5a24b745  ...                0.0\n",
              "\n",
              "[5 rows x 8 columns]"
            ]
          },
          "metadata": {},
          "execution_count": 91
        }
      ],
      "source": [
        "price_df.head(5)"
      ]
    },
    {
      "cell_type": "code",
      "source": [
        "client_df.shape"
      ],
      "metadata": {
        "colab": {
          "base_uri": "https://localhost:8080/"
        },
        "id": "fkRm0vytv1_Y",
        "outputId": "5828ff3f-670a-4f31-d894-abbc46af18c2"
      },
      "id": "fkRm0vytv1_Y",
      "execution_count": null,
      "outputs": [
        {
          "output_type": "execute_result",
          "data": {
            "text/plain": [
              "(14606, 26)"
            ]
          },
          "metadata": {},
          "execution_count": 92
        }
      ]
    },
    {
      "cell_type": "markdown",
      "id": "966c3948-41c0-4183-9118-dd665c58a93c",
      "metadata": {
        "id": "966c3948-41c0-4183-9118-dd665c58a93c"
      },
      "source": [
        "---\n",
        "\n",
        "## Descriptive statistics of data\n",
        "\n",
        "### Data types\n",
        "\n",
        "It is useful to first understand the data that you're dealing with along with the data types of each column. The data types may dictate how you transform and engineer features.\n",
        "\n",
        "To get an overview of the data types within a data frame, use the `info()` method."
      ]
    },
    {
      "cell_type": "code",
      "execution_count": null,
      "id": "2dc75b07-c286-4852-bc33-e501782e67d9",
      "metadata": {
        "colab": {
          "base_uri": "https://localhost:8080/"
        },
        "id": "2dc75b07-c286-4852-bc33-e501782e67d9",
        "outputId": "016a2cd9-f547-4a33-afed-c525f6a1f3be"
      },
      "outputs": [
        {
          "output_type": "stream",
          "name": "stdout",
          "text": [
            "<class 'pandas.core.frame.DataFrame'>\n",
            "RangeIndex: 14606 entries, 0 to 14605\n",
            "Data columns (total 26 columns):\n",
            " #   Column                          Non-Null Count  Dtype  \n",
            "---  ------                          --------------  -----  \n",
            " 0   id                              14606 non-null  object \n",
            " 1   channel_sales                   14606 non-null  object \n",
            " 2   cons_12m                        14606 non-null  int64  \n",
            " 3   cons_gas_12m                    14606 non-null  int64  \n",
            " 4   cons_last_month                 14606 non-null  int64  \n",
            " 5   date_activ                      14606 non-null  object \n",
            " 6   date_end                        14606 non-null  object \n",
            " 7   date_modif_prod                 14606 non-null  object \n",
            " 8   date_renewal                    14606 non-null  object \n",
            " 9   forecast_cons_12m               14606 non-null  float64\n",
            " 10  forecast_cons_year              14606 non-null  int64  \n",
            " 11  forecast_discount_energy        14606 non-null  float64\n",
            " 12  forecast_meter_rent_12m         14606 non-null  float64\n",
            " 13  forecast_price_energy_off_peak  14606 non-null  float64\n",
            " 14  forecast_price_energy_peak      14606 non-null  float64\n",
            " 15  forecast_price_pow_off_peak     14606 non-null  float64\n",
            " 16  has_gas                         14606 non-null  object \n",
            " 17  imp_cons                        14606 non-null  float64\n",
            " 18  margin_gross_pow_ele            14606 non-null  float64\n",
            " 19  margin_net_pow_ele              14606 non-null  float64\n",
            " 20  nb_prod_act                     14606 non-null  int64  \n",
            " 21  net_margin                      14606 non-null  float64\n",
            " 22  num_years_antig                 14606 non-null  int64  \n",
            " 23  origin_up                       14606 non-null  object \n",
            " 24  pow_max                         14606 non-null  float64\n",
            " 25  churn                           14606 non-null  int64  \n",
            "dtypes: float64(11), int64(7), object(8)\n",
            "memory usage: 2.9+ MB\n"
          ]
        }
      ],
      "source": [
        "client_df.info()"
      ]
    },
    {
      "cell_type": "code",
      "execution_count": null,
      "id": "b67f2628-351a-48ee-b8ba-88c54042af88",
      "metadata": {
        "colab": {
          "base_uri": "https://localhost:8080/"
        },
        "id": "b67f2628-351a-48ee-b8ba-88c54042af88",
        "outputId": "68610dae-b0cd-4f6e-a45c-ef2025e3f904"
      },
      "outputs": [
        {
          "output_type": "stream",
          "name": "stdout",
          "text": [
            "<class 'pandas.core.frame.DataFrame'>\n",
            "RangeIndex: 193002 entries, 0 to 193001\n",
            "Data columns (total 8 columns):\n",
            " #   Column              Non-Null Count   Dtype  \n",
            "---  ------              --------------   -----  \n",
            " 0   id                  193002 non-null  object \n",
            " 1   price_date          193002 non-null  object \n",
            " 2   price_off_peak_var  193002 non-null  float64\n",
            " 3   price_peak_var      193002 non-null  float64\n",
            " 4   price_mid_peak_var  193002 non-null  float64\n",
            " 5   price_off_peak_fix  193002 non-null  float64\n",
            " 6   price_peak_fix      193002 non-null  float64\n",
            " 7   price_mid_peak_fix  193002 non-null  float64\n",
            "dtypes: float64(6), object(2)\n",
            "memory usage: 11.8+ MB\n"
          ]
        }
      ],
      "source": [
        "price_df.info()"
      ]
    },
    {
      "cell_type": "markdown",
      "id": "3d7e80c5-ef07-47a7-908a-a081b3ebd09e",
      "metadata": {
        "id": "3d7e80c5-ef07-47a7-908a-a081b3ebd09e"
      },
      "source": [
        "### Statistics\n",
        "\n",
        "Now let's look at some statistics about the datasets. We can do this by using the `describe()` method."
      ]
    },
    {
      "cell_type": "code",
      "execution_count": null,
      "id": "60f3010c-ecaf-4b8a-bb87-93bb54cc0c7e",
      "metadata": {
        "colab": {
          "base_uri": "https://localhost:8080/",
          "height": 320
        },
        "id": "60f3010c-ecaf-4b8a-bb87-93bb54cc0c7e",
        "outputId": "2234569c-5e8f-44ae-8490-b2ac31f96892"
      },
      "outputs": [
        {
          "output_type": "execute_result",
          "data": {
            "text/html": [
              "<div>\n",
              "<style scoped>\n",
              "    .dataframe tbody tr th:only-of-type {\n",
              "        vertical-align: middle;\n",
              "    }\n",
              "\n",
              "    .dataframe tbody tr th {\n",
              "        vertical-align: top;\n",
              "    }\n",
              "\n",
              "    .dataframe thead th {\n",
              "        text-align: right;\n",
              "    }\n",
              "</style>\n",
              "<table border=\"1\" class=\"dataframe\">\n",
              "  <thead>\n",
              "    <tr style=\"text-align: right;\">\n",
              "      <th></th>\n",
              "      <th>cons_12m</th>\n",
              "      <th>cons_gas_12m</th>\n",
              "      <th>cons_last_month</th>\n",
              "      <th>forecast_cons_12m</th>\n",
              "      <th>forecast_cons_year</th>\n",
              "      <th>forecast_discount_energy</th>\n",
              "      <th>forecast_meter_rent_12m</th>\n",
              "      <th>forecast_price_energy_off_peak</th>\n",
              "      <th>forecast_price_energy_peak</th>\n",
              "      <th>forecast_price_pow_off_peak</th>\n",
              "      <th>imp_cons</th>\n",
              "      <th>margin_gross_pow_ele</th>\n",
              "      <th>margin_net_pow_ele</th>\n",
              "      <th>nb_prod_act</th>\n",
              "      <th>net_margin</th>\n",
              "      <th>num_years_antig</th>\n",
              "      <th>pow_max</th>\n",
              "      <th>churn</th>\n",
              "    </tr>\n",
              "  </thead>\n",
              "  <tbody>\n",
              "    <tr>\n",
              "      <th>count</th>\n",
              "      <td>1.460600e+04</td>\n",
              "      <td>1.460600e+04</td>\n",
              "      <td>14606.000000</td>\n",
              "      <td>14606.000000</td>\n",
              "      <td>14606.000000</td>\n",
              "      <td>14606.000000</td>\n",
              "      <td>14606.000000</td>\n",
              "      <td>14606.000000</td>\n",
              "      <td>14606.000000</td>\n",
              "      <td>14606.000000</td>\n",
              "      <td>14606.000000</td>\n",
              "      <td>14606.000000</td>\n",
              "      <td>14606.000000</td>\n",
              "      <td>14606.000000</td>\n",
              "      <td>14606.000000</td>\n",
              "      <td>14606.000000</td>\n",
              "      <td>14606.000000</td>\n",
              "      <td>14606.000000</td>\n",
              "    </tr>\n",
              "    <tr>\n",
              "      <th>mean</th>\n",
              "      <td>1.592203e+05</td>\n",
              "      <td>2.809238e+04</td>\n",
              "      <td>16090.269752</td>\n",
              "      <td>1868.614880</td>\n",
              "      <td>1399.762906</td>\n",
              "      <td>0.966726</td>\n",
              "      <td>63.086871</td>\n",
              "      <td>0.137283</td>\n",
              "      <td>0.050491</td>\n",
              "      <td>43.130056</td>\n",
              "      <td>152.786896</td>\n",
              "      <td>24.565121</td>\n",
              "      <td>24.562517</td>\n",
              "      <td>1.292346</td>\n",
              "      <td>189.264522</td>\n",
              "      <td>4.997809</td>\n",
              "      <td>18.135136</td>\n",
              "      <td>0.097152</td>\n",
              "    </tr>\n",
              "    <tr>\n",
              "      <th>std</th>\n",
              "      <td>5.734653e+05</td>\n",
              "      <td>1.629731e+05</td>\n",
              "      <td>64364.196422</td>\n",
              "      <td>2387.571531</td>\n",
              "      <td>3247.786255</td>\n",
              "      <td>5.108289</td>\n",
              "      <td>66.165783</td>\n",
              "      <td>0.024623</td>\n",
              "      <td>0.049037</td>\n",
              "      <td>4.485988</td>\n",
              "      <td>341.369366</td>\n",
              "      <td>20.231172</td>\n",
              "      <td>20.230280</td>\n",
              "      <td>0.709774</td>\n",
              "      <td>311.798130</td>\n",
              "      <td>1.611749</td>\n",
              "      <td>13.534743</td>\n",
              "      <td>0.296175</td>\n",
              "    </tr>\n",
              "    <tr>\n",
              "      <th>min</th>\n",
              "      <td>0.000000e+00</td>\n",
              "      <td>0.000000e+00</td>\n",
              "      <td>0.000000</td>\n",
              "      <td>0.000000</td>\n",
              "      <td>0.000000</td>\n",
              "      <td>0.000000</td>\n",
              "      <td>0.000000</td>\n",
              "      <td>0.000000</td>\n",
              "      <td>0.000000</td>\n",
              "      <td>0.000000</td>\n",
              "      <td>0.000000</td>\n",
              "      <td>0.000000</td>\n",
              "      <td>0.000000</td>\n",
              "      <td>1.000000</td>\n",
              "      <td>0.000000</td>\n",
              "      <td>1.000000</td>\n",
              "      <td>3.300000</td>\n",
              "      <td>0.000000</td>\n",
              "    </tr>\n",
              "    <tr>\n",
              "      <th>25%</th>\n",
              "      <td>5.674750e+03</td>\n",
              "      <td>0.000000e+00</td>\n",
              "      <td>0.000000</td>\n",
              "      <td>494.995000</td>\n",
              "      <td>0.000000</td>\n",
              "      <td>0.000000</td>\n",
              "      <td>16.180000</td>\n",
              "      <td>0.116340</td>\n",
              "      <td>0.000000</td>\n",
              "      <td>40.606701</td>\n",
              "      <td>0.000000</td>\n",
              "      <td>14.280000</td>\n",
              "      <td>14.280000</td>\n",
              "      <td>1.000000</td>\n",
              "      <td>50.712500</td>\n",
              "      <td>4.000000</td>\n",
              "      <td>12.500000</td>\n",
              "      <td>0.000000</td>\n",
              "    </tr>\n",
              "    <tr>\n",
              "      <th>50%</th>\n",
              "      <td>1.411550e+04</td>\n",
              "      <td>0.000000e+00</td>\n",
              "      <td>792.500000</td>\n",
              "      <td>1112.875000</td>\n",
              "      <td>314.000000</td>\n",
              "      <td>0.000000</td>\n",
              "      <td>18.795000</td>\n",
              "      <td>0.143166</td>\n",
              "      <td>0.084138</td>\n",
              "      <td>44.311378</td>\n",
              "      <td>37.395000</td>\n",
              "      <td>21.640000</td>\n",
              "      <td>21.640000</td>\n",
              "      <td>1.000000</td>\n",
              "      <td>112.530000</td>\n",
              "      <td>5.000000</td>\n",
              "      <td>13.856000</td>\n",
              "      <td>0.000000</td>\n",
              "    </tr>\n",
              "    <tr>\n",
              "      <th>75%</th>\n",
              "      <td>4.076375e+04</td>\n",
              "      <td>0.000000e+00</td>\n",
              "      <td>3383.000000</td>\n",
              "      <td>2401.790000</td>\n",
              "      <td>1745.750000</td>\n",
              "      <td>0.000000</td>\n",
              "      <td>131.030000</td>\n",
              "      <td>0.146348</td>\n",
              "      <td>0.098837</td>\n",
              "      <td>44.311378</td>\n",
              "      <td>193.980000</td>\n",
              "      <td>29.880000</td>\n",
              "      <td>29.880000</td>\n",
              "      <td>1.000000</td>\n",
              "      <td>243.097500</td>\n",
              "      <td>6.000000</td>\n",
              "      <td>19.172500</td>\n",
              "      <td>0.000000</td>\n",
              "    </tr>\n",
              "    <tr>\n",
              "      <th>max</th>\n",
              "      <td>6.207104e+06</td>\n",
              "      <td>4.154590e+06</td>\n",
              "      <td>771203.000000</td>\n",
              "      <td>82902.830000</td>\n",
              "      <td>175375.000000</td>\n",
              "      <td>30.000000</td>\n",
              "      <td>599.310000</td>\n",
              "      <td>0.273963</td>\n",
              "      <td>0.195975</td>\n",
              "      <td>59.266378</td>\n",
              "      <td>15042.790000</td>\n",
              "      <td>374.640000</td>\n",
              "      <td>374.640000</td>\n",
              "      <td>32.000000</td>\n",
              "      <td>24570.650000</td>\n",
              "      <td>13.000000</td>\n",
              "      <td>320.000000</td>\n",
              "      <td>1.000000</td>\n",
              "    </tr>\n",
              "  </tbody>\n",
              "</table>\n",
              "</div>"
            ],
            "text/plain": [
              "           cons_12m  cons_gas_12m  ...       pow_max         churn\n",
              "count  1.460600e+04  1.460600e+04  ...  14606.000000  14606.000000\n",
              "mean   1.592203e+05  2.809238e+04  ...     18.135136      0.097152\n",
              "std    5.734653e+05  1.629731e+05  ...     13.534743      0.296175\n",
              "min    0.000000e+00  0.000000e+00  ...      3.300000      0.000000\n",
              "25%    5.674750e+03  0.000000e+00  ...     12.500000      0.000000\n",
              "50%    1.411550e+04  0.000000e+00  ...     13.856000      0.000000\n",
              "75%    4.076375e+04  0.000000e+00  ...     19.172500      0.000000\n",
              "max    6.207104e+06  4.154590e+06  ...    320.000000      1.000000\n",
              "\n",
              "[8 rows x 18 columns]"
            ]
          },
          "metadata": {},
          "execution_count": 95
        }
      ],
      "source": [
        "client_df.describe()"
      ]
    },
    {
      "cell_type": "code",
      "execution_count": null,
      "id": "f8b442e6-e186-42f9-b3c5-c5c15cd8c82a",
      "metadata": {
        "colab": {
          "base_uri": "https://localhost:8080/",
          "height": 320
        },
        "id": "f8b442e6-e186-42f9-b3c5-c5c15cd8c82a",
        "outputId": "7ac43551-bc96-446f-dff4-692f960bcb82"
      },
      "outputs": [
        {
          "output_type": "execute_result",
          "data": {
            "text/html": [
              "<div>\n",
              "<style scoped>\n",
              "    .dataframe tbody tr th:only-of-type {\n",
              "        vertical-align: middle;\n",
              "    }\n",
              "\n",
              "    .dataframe tbody tr th {\n",
              "        vertical-align: top;\n",
              "    }\n",
              "\n",
              "    .dataframe thead th {\n",
              "        text-align: right;\n",
              "    }\n",
              "</style>\n",
              "<table border=\"1\" class=\"dataframe\">\n",
              "  <thead>\n",
              "    <tr style=\"text-align: right;\">\n",
              "      <th></th>\n",
              "      <th>price_off_peak_var</th>\n",
              "      <th>price_peak_var</th>\n",
              "      <th>price_mid_peak_var</th>\n",
              "      <th>price_off_peak_fix</th>\n",
              "      <th>price_peak_fix</th>\n",
              "      <th>price_mid_peak_fix</th>\n",
              "    </tr>\n",
              "  </thead>\n",
              "  <tbody>\n",
              "    <tr>\n",
              "      <th>count</th>\n",
              "      <td>193002.000000</td>\n",
              "      <td>193002.000000</td>\n",
              "      <td>193002.000000</td>\n",
              "      <td>193002.000000</td>\n",
              "      <td>193002.000000</td>\n",
              "      <td>193002.000000</td>\n",
              "    </tr>\n",
              "    <tr>\n",
              "      <th>mean</th>\n",
              "      <td>0.141027</td>\n",
              "      <td>0.054630</td>\n",
              "      <td>0.030496</td>\n",
              "      <td>43.334477</td>\n",
              "      <td>10.622875</td>\n",
              "      <td>6.409984</td>\n",
              "    </tr>\n",
              "    <tr>\n",
              "      <th>std</th>\n",
              "      <td>0.025032</td>\n",
              "      <td>0.049924</td>\n",
              "      <td>0.036298</td>\n",
              "      <td>5.410297</td>\n",
              "      <td>12.841895</td>\n",
              "      <td>7.773592</td>\n",
              "    </tr>\n",
              "    <tr>\n",
              "      <th>min</th>\n",
              "      <td>0.000000</td>\n",
              "      <td>0.000000</td>\n",
              "      <td>0.000000</td>\n",
              "      <td>0.000000</td>\n",
              "      <td>0.000000</td>\n",
              "      <td>0.000000</td>\n",
              "    </tr>\n",
              "    <tr>\n",
              "      <th>25%</th>\n",
              "      <td>0.125976</td>\n",
              "      <td>0.000000</td>\n",
              "      <td>0.000000</td>\n",
              "      <td>40.728885</td>\n",
              "      <td>0.000000</td>\n",
              "      <td>0.000000</td>\n",
              "    </tr>\n",
              "    <tr>\n",
              "      <th>50%</th>\n",
              "      <td>0.146033</td>\n",
              "      <td>0.085483</td>\n",
              "      <td>0.000000</td>\n",
              "      <td>44.266930</td>\n",
              "      <td>0.000000</td>\n",
              "      <td>0.000000</td>\n",
              "    </tr>\n",
              "    <tr>\n",
              "      <th>75%</th>\n",
              "      <td>0.151635</td>\n",
              "      <td>0.101673</td>\n",
              "      <td>0.072558</td>\n",
              "      <td>44.444710</td>\n",
              "      <td>24.339581</td>\n",
              "      <td>16.226389</td>\n",
              "    </tr>\n",
              "    <tr>\n",
              "      <th>max</th>\n",
              "      <td>0.280700</td>\n",
              "      <td>0.229788</td>\n",
              "      <td>0.114102</td>\n",
              "      <td>59.444710</td>\n",
              "      <td>36.490692</td>\n",
              "      <td>17.458221</td>\n",
              "    </tr>\n",
              "  </tbody>\n",
              "</table>\n",
              "</div>"
            ],
            "text/plain": [
              "       price_off_peak_var  price_peak_var  ...  price_peak_fix  price_mid_peak_fix\n",
              "count       193002.000000   193002.000000  ...   193002.000000       193002.000000\n",
              "mean             0.141027        0.054630  ...       10.622875            6.409984\n",
              "std              0.025032        0.049924  ...       12.841895            7.773592\n",
              "min              0.000000        0.000000  ...        0.000000            0.000000\n",
              "25%              0.125976        0.000000  ...        0.000000            0.000000\n",
              "50%              0.146033        0.085483  ...        0.000000            0.000000\n",
              "75%              0.151635        0.101673  ...       24.339581           16.226389\n",
              "max              0.280700        0.229788  ...       36.490692           17.458221\n",
              "\n",
              "[8 rows x 6 columns]"
            ]
          },
          "metadata": {},
          "execution_count": 96
        }
      ],
      "source": [
        "price_df.describe()"
      ]
    },
    {
      "cell_type": "markdown",
      "id": "6a7a8879-c483-4464-9057-c70e6b150e53",
      "metadata": {
        "id": "6a7a8879-c483-4464-9057-c70e6b150e53"
      },
      "source": [
        "---\n",
        "\n",
        "## Data visualization\n",
        "\n",
        "If you're working in Python, two of the most popular packages for visualization are `matplotlib` and `seaborn`. We highly recommend you use these, or at least be familiar with them because they are ubiquitous!\n",
        "\n",
        "Below are some functions that you can use to get started with visualizations. "
      ]
    },
    {
      "cell_type": "code",
      "execution_count": null,
      "id": "f350ea0a-dc45-43f5-a6b7-e5e816964419",
      "metadata": {
        "id": "f350ea0a-dc45-43f5-a6b7-e5e816964419"
      },
      "outputs": [],
      "source": [
        "def plot_stacked_bars(dataframe, title_, size_=(18, 10), rot_=0, legend_=\"upper right\"):\n",
        "    \"\"\"\n",
        "    Plot stacked bars with annotations\n",
        "    \"\"\"\n",
        "    ax = dataframe.plot(\n",
        "        kind=\"bar\",\n",
        "        stacked=True,\n",
        "        figsize=size_,\n",
        "        rot=rot_,\n",
        "        title=title_\n",
        "    )\n",
        "\n",
        "    # Annotate bars\n",
        "    annotate_stacked_bars(ax, textsize=14)\n",
        "    # Rename legend\n",
        "    plt.legend([\"Retention\", \"Churn\"], loc=legend_)\n",
        "    # Labels\n",
        "    plt.ylabel(\"Company base (%)\")\n",
        "    plt.show()\n",
        "\n",
        "def annotate_stacked_bars(ax, pad=0.99, colour=\"white\", textsize=13):\n",
        "    \"\"\"\n",
        "    Add value annotations to the bars\n",
        "    \"\"\"\n",
        "\n",
        "    # Iterate over the plotted rectanges/bars\n",
        "    for p in ax.patches:\n",
        "        \n",
        "        # Calculate annotation\n",
        "        value = str(round(p.get_height(),1))\n",
        "        # If value is 0 do not annotate\n",
        "        if value == '0.0':\n",
        "            continue\n",
        "        ax.annotate(\n",
        "            value,\n",
        "            ((p.get_x()+ p.get_width()/2)*pad-0.05, (p.get_y()+p.get_height()/2)*pad),\n",
        "            color=colour,\n",
        "            size=textsize\n",
        "        )\n",
        "\n",
        "def plot_distribution(dataframe, column, ax, bins_=50):\n",
        "    \"\"\"\n",
        "    Plot variable distirbution in a stacked histogram of churned or retained company\n",
        "    \"\"\"\n",
        "    # Create a temporal dataframe with the data to be plot\n",
        "    temp = pd.DataFrame({\"Retention\": dataframe[dataframe[\"churn\"]==0][column],\n",
        "    \"Churn\":dataframe[dataframe[\"churn\"]==1][column]})\n",
        "    # Plot the histogram\n",
        "    temp[[\"Retention\",\"Churn\"]].plot(kind='hist', bins=bins_, ax=ax, stacked=True)\n",
        "    # X-axis label\n",
        "    ax.set_xlabel(column)\n",
        "    # Change the x-axis to plain style\n",
        "    ax.ticklabel_format(style='plain', axis='x')"
      ]
    },
    {
      "cell_type": "markdown",
      "id": "6eab14d0",
      "metadata": {
        "id": "6eab14d0"
      },
      "source": [
        "Thhe first function `plot_stacked_bars` is used to plot a stacked bar chart. An example of how you could use this is shown below:"
      ]
    },
    {
      "cell_type": "code",
      "execution_count": null,
      "id": "448c05d8",
      "metadata": {
        "colab": {
          "base_uri": "https://localhost:8080/",
          "height": 338
        },
        "id": "448c05d8",
        "outputId": "b323f0e0-2774-44f9-b817-70443fbcfa99"
      },
      "outputs": [
        {
          "output_type": "display_data",
          "data": {
            "image/png": "[encoded data removed]",
            "text/plain": [
              "<Figure size 360x360 with 1 Axes>"
            ]
          },
          "metadata": {}
        }
      ],
      "source": [
        "churn = client_df[['id', 'churn']]\n",
        "churn.columns = ['Companies', 'churn']\n",
        "churn_total = churn.groupby(churn['churn']).count()\n",
        "churn_percentage = churn_total / churn_total.sum() * 100\n",
        "plot_stacked_bars(churn_percentage.transpose(), \"Churning status\", (5, 5), legend_=\"lower right\")"
      ]
    },
    {
      "cell_type": "markdown",
      "id": "d055f10e",
      "metadata": {
        "id": "d055f10e"
      },
      "source": [
        "The second function `annotate_bars` is used by the first function, but the third function `plot_distribution` helps you to plot the distribution of a numeric column. An example of how it can be used is given below:"
      ]
    },
    {
      "cell_type": "code",
      "execution_count": null,
      "id": "9a28757e",
      "metadata": {
        "colab": {
          "base_uri": "https://localhost:8080/",
          "height": 204
        },
        "id": "9a28757e",
        "outputId": "78bcbcb4-6129-4670-8246-4376cebbfb1d"
      },
      "outputs": [
        {
          "output_type": "display_data",
          "data": {
            "image/png": "[encoded data removed]",
            "text/plain": [
              "<Figure size 1296x360 with 1 Axes>"
            ]
          },
          "metadata": {}
        }
      ],
      "source": [
        "consumption = client_df[['id', 'cons_12m', 'cons_gas_12m', 'cons_last_month', 'imp_cons', 'has_gas', 'churn']]\n",
        "\n",
        "fig, axs = plt.subplots(nrows=1, figsize=(18, 5))\n",
        "\n",
        "plot_distribution(consumption, 'cons_12m', axs)"
      ]
    },
    {
      "cell_type": "code",
      "source": [
        "client_df.columns"
      ],
      "metadata": {
        "colab": {
          "base_uri": "https://localhost:8080/"
        },
        "id": "9d47xww-GhPF",
        "outputId": "da7036d3-ab7e-48c5-de4a-771aef7d6689"
      },
      "id": "9d47xww-GhPF",
      "execution_count": null,
      "outputs": [
        {
          "output_type": "execute_result",
          "data": {
            "text/plain": [
              "Index(['id', 'channel_sales', 'cons_12m', 'cons_gas_12m', 'cons_last_month',\n",
              "       'date_activ', 'date_end', 'date_modif_prod', 'date_renewal',\n",
              "       'forecast_cons_12m', 'forecast_cons_year', 'forecast_discount_energy',\n",
              "       'forecast_meter_rent_12m', 'forecast_price_energy_off_peak',\n",
              "       'forecast_price_energy_peak', 'forecast_price_pow_off_peak', 'has_gas',\n",
              "       'imp_cons', 'margin_gross_pow_ele', 'margin_net_pow_ele', 'nb_prod_act',\n",
              "       'net_margin', 'num_years_antig', 'origin_up', 'pow_max', 'churn'],\n",
              "      dtype='object')"
            ]
          },
          "metadata": {},
          "execution_count": 103
        }
      ]
    },
    {
      "cell_type": "code",
      "source": [
        "# plt.figure(figsize=(20,15))\n",
        "f, axes = plt.subplots(1, 2, figsize=(10,8))\n",
        "sns.boxplot(data=client_df, x='churn', y='cons_12m', ax=axes[0])\n",
        "sns.boxplot(data=client_df, x='churn', y='cons_gas_12m', ax=axes[1])"
      ],
      "metadata": {
        "colab": {
          "base_uri": "https://localhost:8080/",
          "height": 530
        },
        "id": "Q50K5Hd2HUku",
        "outputId": "e4018bf2-47a3-4d89-f881-f373416c07c5"
      },
      "id": "Q50K5Hd2HUku",
      "execution_count": null,
      "outputs": [
        {
          "output_type": "execute_result",
          "data": {
            "text/plain": [
              "<matplotlib.axes._subplots.AxesSubplot at 0x7f04ecfc4850>"
            ]
          },
          "metadata": {},
          "execution_count": 107
        },
        {
          "output_type": "display_data",
          "data": {
            "image/png": "[encoded data removed]",
            "text/plain": [
              "<Figure size 720x576 with 2 Axes>"
            ]
          },
          "metadata": {}
        }
      ]
    },
    {
      "cell_type": "code",
      "source": [
        "f, axes = plt.subplots(1, 2, figsize=(10,8))\n",
        "sns.boxplot(data=client_df, x='churn', y='cons_last_month', ax=axes[0])\n",
        "sns.boxplot(data=client_df, x='churn', y='forecast_cons_12m', ax=axes[1])"
      ],
      "metadata": {
        "colab": {
          "base_uri": "https://localhost:8080/",
          "height": 511
        },
        "id": "KCdq_Qt0IPro",
        "outputId": "ef63b87d-c0ae-46b7-b908-e9ccacde2c92"
      },
      "id": "KCdq_Qt0IPro",
      "execution_count": null,
      "outputs": [
        {
          "output_type": "execute_result",
          "data": {
            "text/plain": [
              "<matplotlib.axes._subplots.AxesSubplot at 0x7f04ed1c0d10>"
            ]
          },
          "metadata": {},
          "execution_count": 108
        },
        {
          "output_type": "display_data",
          "data": {
            "image/png": "[encoded data removed]",
            "text/plain": [
              "<Figure size 720x576 with 2 Axes>"
            ]
          },
          "metadata": {}
        }
      ]
    },
    {
      "cell_type": "code",
      "source": [
        "f, axes = plt.subplots(1, 2, figsize=(10,8))\n",
        "sns.boxplot(data=client_df, x='churn', y='forecast_cons_year', ax=axes[0])\n",
        "sns.boxplot(data=client_df, x='churn', y='forecast_discount_energy', ax=axes[1])"
      ],
      "metadata": {
        "colab": {
          "base_uri": "https://localhost:8080/",
          "height": 511
        },
        "id": "wA_iXNVdIunF",
        "outputId": "ed5a064b-e51f-4c40-afd2-840e017d1be9"
      },
      "id": "wA_iXNVdIunF",
      "execution_count": null,
      "outputs": [
        {
          "output_type": "execute_result",
          "data": {
            "text/plain": [
              "<matplotlib.axes._subplots.AxesSubplot at 0x7f04ecc8efd0>"
            ]
          },
          "metadata": {},
          "execution_count": 111
        },
        {
          "output_type": "display_data",
          "data": {
            "image/png": "[encoded data removed]",
            "text/plain": [
              "<Figure size 720x576 with 2 Axes>"
            ]
          },
          "metadata": {}
        }
      ]
    },
    {
      "cell_type": "code",
      "source": [
        "f, axes = plt.subplots(1, 2, figsize=(10,8))\n",
        "sns.boxplot(data=client_df, x='churn', y='forecast_meter_rent_12m', ax=axes[0])\n",
        "sns.boxplot(data=client_df, x='churn', y='forecast_price_energy_off_peak', ax=axes[1])"
      ],
      "metadata": {
        "colab": {
          "base_uri": "https://localhost:8080/",
          "height": 519
        },
        "id": "TpCzHq_jJXG4",
        "outputId": "34483e0f-fa4c-47b0-8d11-d1f49427af41"
      },
      "id": "TpCzHq_jJXG4",
      "execution_count": null,
      "outputs": [
        {
          "output_type": "execute_result",
          "data": {
            "text/plain": [
              "<matplotlib.axes._subplots.AxesSubplot at 0x7f04ecb0ee50>"
            ]
          },
          "metadata": {},
          "execution_count": 113
        },
        {
          "output_type": "display_data",
          "data": {
            "image/png": "[encoded data removed]",
            "text/plain": [
              "<Figure size 720x576 with 2 Axes>"
            ]
          },
          "metadata": {}
        }
      ]
    },
    {
      "cell_type": "code",
      "source": [
        "f, axes = plt.subplots(1, 2, figsize=(10,8))\n",
        "sns.boxplot(data=client_df, x='churn', y='forecast_price_energy_peak', ax=axes[0])\n",
        "sns.boxplot(data=client_df, x='churn', y='forecast_price_pow_off_peak', ax=axes[1])\n"
      ],
      "metadata": {
        "colab": {
          "base_uri": "https://localhost:8080/",
          "height": 519
        },
        "id": "z5tj_yrPLRmz",
        "outputId": "2a8bb9bc-d8bf-4a84-9795-01990b3e744c"
      },
      "id": "z5tj_yrPLRmz",
      "execution_count": 115,
      "outputs": [
        {
          "output_type": "execute_result",
          "data": {
            "text/plain": [
              "<matplotlib.axes._subplots.AxesSubplot at 0x7f04ec933cd0>"
            ]
          },
          "metadata": {},
          "execution_count": 115
        },
        {
          "output_type": "display_data",
          "data": {
            "image/png": "[encoded data removed]",
            "text/plain": [
              "<Figure size 720x576 with 2 Axes>"
            ]
          },
          "metadata": {}
        }
      ]
    },
    {
      "cell_type": "code",
      "source": [
        "f, axes = plt.subplots(1, 2, figsize=(10,8))\n",
        "sns.boxplot(data=client_df, x='churn', y='imp_cons', ax=axes[0])\n",
        "sns.boxplot(data=client_df, x='churn', y='margin_gross_pow_ele', ax=axes[1])"
      ],
      "metadata": {
        "colab": {
          "base_uri": "https://localhost:8080/",
          "height": 519
        },
        "id": "_zq4YV2JLk0S",
        "outputId": "586774bf-afd8-443a-ab31-dd72f45685d9"
      },
      "id": "_zq4YV2JLk0S",
      "execution_count": 116,
      "outputs": [
        {
          "output_type": "execute_result",
          "data": {
            "text/plain": [
              "<matplotlib.axes._subplots.AxesSubplot at 0x7f04ec88e410>"
            ]
          },
          "metadata": {},
          "execution_count": 116
        },
        {
          "output_type": "display_data",
          "data": {
            "image/png": "[encoded data removed]",
            "text/plain": [
              "<Figure size 720x576 with 2 Axes>"
            ]
          },
          "metadata": {}
        }
      ]
    },
    {
      "cell_type": "code",
      "source": [
        "f, axes = plt.subplots(1, 2, figsize=(10,8))\n",
        "sns.boxplot(data=client_df, x='churn', y='margin_net_pow_ele', ax=axes[0])\n",
        "sns.boxplot(data=client_df, x='churn', y='nb_prod_act', ax=axes[1])\n"
      ],
      "metadata": {
        "colab": {
          "base_uri": "https://localhost:8080/",
          "height": 519
        },
        "id": "6mfoT_R9LyhA",
        "outputId": "b00089a8-118b-4f8e-81e3-711e1e052e20"
      },
      "id": "6mfoT_R9LyhA",
      "execution_count": 117,
      "outputs": [
        {
          "output_type": "execute_result",
          "data": {
            "text/plain": [
              "<matplotlib.axes._subplots.AxesSubplot at 0x7f04ec7372d0>"
            ]
          },
          "metadata": {},
          "execution_count": 117
        },
        {
          "output_type": "display_data",
          "data": {
            "image/png": "[encoded data removed]",
            "text/plain": [
              "<Figure size 720x576 with 2 Axes>"
            ]
          },
          "metadata": {}
        }
      ]
    },
    {
      "cell_type": "code",
      "source": [
        "f, axes = plt.subplots(1, 2, figsize=(10,8))\n",
        "sns.boxplot(data=client_df, x='churn', y='net_margin', ax=axes[0])\n",
        "sns.boxplot(data=client_df, x='churn', y='num_years_antig', ax=axes[1])\n"
      ],
      "metadata": {
        "colab": {
          "base_uri": "https://localhost:8080/",
          "height": 519
        },
        "id": "FvxyIZHAL_id",
        "outputId": "3c46206a-520a-4b72-94ca-1bd636f37d4d"
      },
      "id": "FvxyIZHAL_id",
      "execution_count": 118,
      "outputs": [
        {
          "output_type": "execute_result",
          "data": {
            "text/plain": [
              "<matplotlib.axes._subplots.AxesSubplot at 0x7f04ec696ed0>"
            ]
          },
          "metadata": {},
          "execution_count": 118
        },
        {
          "output_type": "display_data",
          "data": {
            "image/png": "[encoded data removed]",
            "text/plain": [
              "<Figure size 720x576 with 2 Axes>"
            ]
          },
          "metadata": {}
        }
      ]
    },
    {
      "cell_type": "code",
      "source": [
        "f, axes = plt.subplots(1, 1, figsize=(10,8))\n",
        "sns.boxplot(data=client_df, x='churn', y='pow_max')"
      ],
      "metadata": {
        "colab": {
          "base_uri": "https://localhost:8080/",
          "height": 519
        },
        "id": "m9WQChUzMOcM",
        "outputId": "6b6f4419-8f49-4951-aca6-64d50a4f42cc"
      },
      "id": "m9WQChUzMOcM",
      "execution_count": 120,
      "outputs": [
        {
          "output_type": "execute_result",
          "data": {
            "text/plain": [
              "<matplotlib.axes._subplots.AxesSubplot at 0x7f04ec4efe50>"
            ]
          },
          "metadata": {},
          "execution_count": 120
        },
        {
          "output_type": "display_data",
          "data": {
            "image/png": "[encoded data removed]",
            "text/plain": [
              "<Figure size 720x576 with 1 Axes>"
            ]
          },
          "metadata": {}
        }
      ]
    }
  ],
  "metadata": {
    "interpreter": {
      "hash": "152bf6e7dc8ee53edb5af21dc1a8faeab7f134840808a94079ed98d91ece7e0c"
    },
    "kernelspec": {
      "display_name": "Python 3",
      "language": "python",
      "name": "python3"
    },
    "language_info": {
      "codemirror_mode": {
        "name": "ipython",
        "version": 3
      },
      "file_extension": ".py",
      "mimetype": "text/x-python",
      "name": "python",
      "nbconvert_exporter": "python",
      "pygments_lexer": "ipython3",
      "version": "3.7.9"
    },
    "colab": {
      "name": "BCG_eda.ipynb",
      "provenance": [],
      "collapsed_sections": []
    }
  },
  "nbformat": 4,
  "nbformat_minor": 5
}