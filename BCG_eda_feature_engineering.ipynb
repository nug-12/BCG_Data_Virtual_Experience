{
  "cells": [
    {
      "cell_type": "markdown",
      "metadata": {
        "id": "view-in-github",
        "colab_type": "text"
      },
      "source": [
        "<a href=\"https://colab.research.google.com/github/nugi1209/BCG_Data_Virtual_Experience/blob/main/BCG_eda_feature_engineering.ipynb\" target=\"_parent\"><img src=\"https://colab.research.google.com/assets/colab-badge.svg\" alt=\"Open In Colab\"/></a>"
      ]
    },
    {
      "cell_type": "markdown",
      "id": "a207638d-2d90-4a41-81e0-f86b35a174f9",
      "metadata": {
        "id": "a207638d-2d90-4a41-81e0-f86b35a174f9"
      },
      "source": [
        "# Exploratory Data Analysis Starter\n",
        "\n",
        "## Import packages"
      ]
    },
    {
      "cell_type": "code",
      "execution_count": 251,
      "id": "21fa22a3-62fc-4ee9-ad3b-5e3fbc059bdf",
      "metadata": {
        "id": "21fa22a3-62fc-4ee9-ad3b-5e3fbc059bdf"
      },
      "outputs": [],
      "source": [
        "import matplotlib.pyplot as plt\n",
        "import numpy as np\n",
        "import seaborn as sns\n",
        "import pandas as pd\n",
        "from sklearn.model_selection import train_test_split\n",
        "from sklearn.ensemble import RandomForestClassifier\n",
        "from sklearn import metrics\n",
        "\n",
        "pd.options.mode.chained_assignment = None\n",
        "\n",
        "# Shows plots in jupyter notebook\n",
        "%matplotlib inline\n",
        "\n",
        "# Set plot style\n",
        "sns.set(color_codes=True)"
      ]
    },
    {
      "cell_type": "markdown",
      "id": "88cb5312-cbc0-4193-b84e-2c94455c9edf",
      "metadata": {
        "id": "88cb5312-cbc0-4193-b84e-2c94455c9edf"
      },
      "source": [
        "---\n",
        "\n",
        "## Loading data with Pandas\n",
        "\n",
        "We need to load `client_data.csv` and `price_data.csv` into individual dataframes so that we can work with them in Python. For this notebook and all further notebooks, it will be assumed that the CSV files will the placed in the same file location as the notebook. If they are not, please adjust the directory within the `read_csv` method accordingly."
      ]
    },
    {
      "cell_type": "code",
      "execution_count": 160,
      "id": "82e6a4ae-2b8a-4152-b04f-0c998466fd50",
      "metadata": {
        "id": "82e6a4ae-2b8a-4152-b04f-0c998466fd50"
      },
      "outputs": [],
      "source": [
        "client_df = pd.read_csv('https://github.com/nugi1209/BCG_Data_Virtual_Experience/blob/main/client_data.csv?raw=true')\n",
        "price_df = pd.read_csv('https://github.com/nugi1209/BCG_Data_Virtual_Experience/blob/main/price_data.csv?raw=true')"
      ]
    },
    {
      "cell_type": "markdown",
      "id": "4ac7aaab-7c26-40ca-8f63-cf2ef9541ce6",
      "metadata": {
        "id": "4ac7aaab-7c26-40ca-8f63-cf2ef9541ce6"
      },
      "source": [
        "You can view the first 3 rows of a dataframe using the `head` method. Similarly, if you wanted to see the last 3, you can use `tail(3)`"
      ]
    },
    {
      "cell_type": "code",
      "execution_count": 161,
      "id": "dcf0d488-d3df-4819-a52b-e335c0674e43",
      "metadata": {
        "colab": {
          "base_uri": "https://localhost:8080/",
          "height": 216
        },
        "id": "dcf0d488-d3df-4819-a52b-e335c0674e43",
        "outputId": "91549ac5-aedc-480f-cde8-916df6272549"
      },
      "outputs": [
        {
          "output_type": "execute_result",
          "data": {
            "text/html": [
              "<div>\n",
              "<style scoped>\n",
              "    .dataframe tbody tr th:only-of-type {\n",
              "        vertical-align: middle;\n",
              "    }\n",
              "\n",
              "    .dataframe tbody tr th {\n",
              "        vertical-align: top;\n",
              "    }\n",
              "\n",
              "    .dataframe thead th {\n",
              "        text-align: right;\n",
              "    }\n",
              "</style>\n",
              "<table border=\"1\" class=\"dataframe\">\n",
              "  <thead>\n",
              "    <tr style=\"text-align: right;\">\n",
              "      <th></th>\n",
              "      <th>id</th>\n",
              "      <th>channel_sales</th>\n",
              "      <th>cons_12m</th>\n",
              "      <th>cons_gas_12m</th>\n",
              "      <th>cons_last_month</th>\n",
              "      <th>date_activ</th>\n",
              "      <th>date_end</th>\n",
              "      <th>date_modif_prod</th>\n",
              "      <th>date_renewal</th>\n",
              "      <th>forecast_cons_12m</th>\n",
              "      <th>forecast_cons_year</th>\n",
              "      <th>forecast_discount_energy</th>\n",
              "      <th>forecast_meter_rent_12m</th>\n",
              "      <th>forecast_price_energy_off_peak</th>\n",
              "      <th>forecast_price_energy_peak</th>\n",
              "      <th>forecast_price_pow_off_peak</th>\n",
              "      <th>has_gas</th>\n",
              "      <th>imp_cons</th>\n",
              "      <th>margin_gross_pow_ele</th>\n",
              "      <th>margin_net_pow_ele</th>\n",
              "      <th>nb_prod_act</th>\n",
              "      <th>net_margin</th>\n",
              "      <th>num_years_antig</th>\n",
              "      <th>origin_up</th>\n",
              "      <th>pow_max</th>\n",
              "      <th>churn</th>\n",
              "    </tr>\n",
              "  </thead>\n",
              "  <tbody>\n",
              "    <tr>\n",
              "      <th>0</th>\n",
              "      <td>24011ae4ebbe3035111d65fa7c15bc57</td>\n",
              "      <td>foosdfpfkusacimwkcsosbicdxkicaua</td>\n",
              "      <td>0</td>\n",
              "      <td>54946</td>\n",
              "      <td>0</td>\n",
              "      <td>2013-06-15</td>\n",
              "      <td>2016-06-15</td>\n",
              "      <td>2015-11-01</td>\n",
              "      <td>2015-06-23</td>\n",
              "      <td>0.00</td>\n",
              "      <td>0</td>\n",
              "      <td>0.0</td>\n",
              "      <td>1.78</td>\n",
              "      <td>0.114481</td>\n",
              "      <td>0.098142</td>\n",
              "      <td>40.606701</td>\n",
              "      <td>t</td>\n",
              "      <td>0.0</td>\n",
              "      <td>25.44</td>\n",
              "      <td>25.44</td>\n",
              "      <td>2</td>\n",
              "      <td>678.99</td>\n",
              "      <td>3</td>\n",
              "      <td>lxidpiddsbxsbosboudacockeimpuepw</td>\n",
              "      <td>43.648</td>\n",
              "      <td>1</td>\n",
              "    </tr>\n",
              "    <tr>\n",
              "      <th>1</th>\n",
              "      <td>d29c2c54acc38ff3c0614d0a653813dd</td>\n",
              "      <td>MISSING</td>\n",
              "      <td>4660</td>\n",
              "      <td>0</td>\n",
              "      <td>0</td>\n",
              "      <td>2009-08-21</td>\n",
              "      <td>2016-08-30</td>\n",
              "      <td>2009-08-21</td>\n",
              "      <td>2015-08-31</td>\n",
              "      <td>189.95</td>\n",
              "      <td>0</td>\n",
              "      <td>0.0</td>\n",
              "      <td>16.27</td>\n",
              "      <td>0.145711</td>\n",
              "      <td>0.000000</td>\n",
              "      <td>44.311378</td>\n",
              "      <td>f</td>\n",
              "      <td>0.0</td>\n",
              "      <td>16.38</td>\n",
              "      <td>16.38</td>\n",
              "      <td>1</td>\n",
              "      <td>18.89</td>\n",
              "      <td>6</td>\n",
              "      <td>kamkkxfxxuwbdslkwifmmcsiusiuosws</td>\n",
              "      <td>13.800</td>\n",
              "      <td>0</td>\n",
              "    </tr>\n",
              "    <tr>\n",
              "      <th>2</th>\n",
              "      <td>764c75f661154dac3a6c254cd082ea7d</td>\n",
              "      <td>foosdfpfkusacimwkcsosbicdxkicaua</td>\n",
              "      <td>544</td>\n",
              "      <td>0</td>\n",
              "      <td>0</td>\n",
              "      <td>2010-04-16</td>\n",
              "      <td>2016-04-16</td>\n",
              "      <td>2010-04-16</td>\n",
              "      <td>2015-04-17</td>\n",
              "      <td>47.96</td>\n",
              "      <td>0</td>\n",
              "      <td>0.0</td>\n",
              "      <td>38.72</td>\n",
              "      <td>0.165794</td>\n",
              "      <td>0.087899</td>\n",
              "      <td>44.311378</td>\n",
              "      <td>f</td>\n",
              "      <td>0.0</td>\n",
              "      <td>28.60</td>\n",
              "      <td>28.60</td>\n",
              "      <td>1</td>\n",
              "      <td>6.60</td>\n",
              "      <td>6</td>\n",
              "      <td>kamkkxfxxuwbdslkwifmmcsiusiuosws</td>\n",
              "      <td>13.856</td>\n",
              "      <td>0</td>\n",
              "    </tr>\n",
              "  </tbody>\n",
              "</table>\n",
              "</div>"
            ],
            "text/plain": [
              "                                 id  ... churn\n",
              "0  24011ae4ebbe3035111d65fa7c15bc57  ...     1\n",
              "1  d29c2c54acc38ff3c0614d0a653813dd  ...     0\n",
              "2  764c75f661154dac3a6c254cd082ea7d  ...     0\n",
              "\n",
              "[3 rows x 26 columns]"
            ]
          },
          "metadata": {},
          "execution_count": 161
        }
      ],
      "source": [
        "client_df.head(3)"
      ]
    },
    {
      "cell_type": "code",
      "execution_count": 162,
      "id": "2654a02d-8cf3-4a18-903e-b4f7f95d8e9e",
      "metadata": {
        "colab": {
          "base_uri": "https://localhost:8080/",
          "height": 206
        },
        "id": "2654a02d-8cf3-4a18-903e-b4f7f95d8e9e",
        "outputId": "4fa90811-e6f3-4051-c9cf-6a67590fcd2e"
      },
      "outputs": [
        {
          "output_type": "execute_result",
          "data": {
            "text/html": [
              "<div>\n",
              "<style scoped>\n",
              "    .dataframe tbody tr th:only-of-type {\n",
              "        vertical-align: middle;\n",
              "    }\n",
              "\n",
              "    .dataframe tbody tr th {\n",
              "        vertical-align: top;\n",
              "    }\n",
              "\n",
              "    .dataframe thead th {\n",
              "        text-align: right;\n",
              "    }\n",
              "</style>\n",
              "<table border=\"1\" class=\"dataframe\">\n",
              "  <thead>\n",
              "    <tr style=\"text-align: right;\">\n",
              "      <th></th>\n",
              "      <th>id</th>\n",
              "      <th>price_date</th>\n",
              "      <th>price_off_peak_var</th>\n",
              "      <th>price_peak_var</th>\n",
              "      <th>price_mid_peak_var</th>\n",
              "      <th>price_off_peak_fix</th>\n",
              "      <th>price_peak_fix</th>\n",
              "      <th>price_mid_peak_fix</th>\n",
              "    </tr>\n",
              "  </thead>\n",
              "  <tbody>\n",
              "    <tr>\n",
              "      <th>0</th>\n",
              "      <td>038af19179925da21a25619c5a24b745</td>\n",
              "      <td>2015-01-01</td>\n",
              "      <td>0.151367</td>\n",
              "      <td>0.0</td>\n",
              "      <td>0.0</td>\n",
              "      <td>44.266931</td>\n",
              "      <td>0.0</td>\n",
              "      <td>0.0</td>\n",
              "    </tr>\n",
              "    <tr>\n",
              "      <th>1</th>\n",
              "      <td>038af19179925da21a25619c5a24b745</td>\n",
              "      <td>2015-02-01</td>\n",
              "      <td>0.151367</td>\n",
              "      <td>0.0</td>\n",
              "      <td>0.0</td>\n",
              "      <td>44.266931</td>\n",
              "      <td>0.0</td>\n",
              "      <td>0.0</td>\n",
              "    </tr>\n",
              "    <tr>\n",
              "      <th>2</th>\n",
              "      <td>038af19179925da21a25619c5a24b745</td>\n",
              "      <td>2015-03-01</td>\n",
              "      <td>0.151367</td>\n",
              "      <td>0.0</td>\n",
              "      <td>0.0</td>\n",
              "      <td>44.266931</td>\n",
              "      <td>0.0</td>\n",
              "      <td>0.0</td>\n",
              "    </tr>\n",
              "    <tr>\n",
              "      <th>3</th>\n",
              "      <td>038af19179925da21a25619c5a24b745</td>\n",
              "      <td>2015-04-01</td>\n",
              "      <td>0.149626</td>\n",
              "      <td>0.0</td>\n",
              "      <td>0.0</td>\n",
              "      <td>44.266931</td>\n",
              "      <td>0.0</td>\n",
              "      <td>0.0</td>\n",
              "    </tr>\n",
              "    <tr>\n",
              "      <th>4</th>\n",
              "      <td>038af19179925da21a25619c5a24b745</td>\n",
              "      <td>2015-05-01</td>\n",
              "      <td>0.149626</td>\n",
              "      <td>0.0</td>\n",
              "      <td>0.0</td>\n",
              "      <td>44.266931</td>\n",
              "      <td>0.0</td>\n",
              "      <td>0.0</td>\n",
              "    </tr>\n",
              "  </tbody>\n",
              "</table>\n",
              "</div>"
            ],
            "text/plain": [
              "                                 id  ... price_mid_peak_fix\n",
              "0  038af19179925da21a25619c5a24b745  ...                0.0\n",
              "1  038af19179925da21a25619c5a24b745  ...                0.0\n",
              "2  038af19179925da21a25619c5a24b745  ...                0.0\n",
              "3  038af19179925da21a25619c5a24b745  ...                0.0\n",
              "4  038af19179925da21a25619c5a24b745  ...                0.0\n",
              "\n",
              "[5 rows x 8 columns]"
            ]
          },
          "metadata": {},
          "execution_count": 162
        }
      ],
      "source": [
        "price_df.head(5)"
      ]
    },
    {
      "cell_type": "code",
      "source": [
        "client_df.shape"
      ],
      "metadata": {
        "colab": {
          "base_uri": "https://localhost:8080/"
        },
        "id": "fkRm0vytv1_Y",
        "outputId": "38aa9516-d93f-4d3f-8b12-1c530e00ca2c"
      },
      "id": "fkRm0vytv1_Y",
      "execution_count": 163,
      "outputs": [
        {
          "output_type": "execute_result",
          "data": {
            "text/plain": [
              "(14606, 26)"
            ]
          },
          "metadata": {},
          "execution_count": 163
        }
      ]
    },
    {
      "cell_type": "markdown",
      "id": "966c3948-41c0-4183-9118-dd665c58a93c",
      "metadata": {
        "id": "966c3948-41c0-4183-9118-dd665c58a93c"
      },
      "source": [
        "---\n",
        "\n",
        "## Descriptive statistics of data\n",
        "\n",
        "### Data types\n",
        "\n",
        "It is useful to first understand the data that you're dealing with along with the data types of each column. The data types may dictate how you transform and engineer features.\n",
        "\n",
        "To get an overview of the data types within a data frame, use the `info()` method."
      ]
    },
    {
      "cell_type": "code",
      "execution_count": 164,
      "id": "2dc75b07-c286-4852-bc33-e501782e67d9",
      "metadata": {
        "colab": {
          "base_uri": "https://localhost:8080/"
        },
        "id": "2dc75b07-c286-4852-bc33-e501782e67d9",
        "outputId": "009bd7e1-2df2-49d6-e389-acc22aa0f7d5"
      },
      "outputs": [
        {
          "output_type": "stream",
          "name": "stdout",
          "text": [
            "<class 'pandas.core.frame.DataFrame'>\n",
            "RangeIndex: 14606 entries, 0 to 14605\n",
            "Data columns (total 26 columns):\n",
            " #   Column                          Non-Null Count  Dtype  \n",
            "---  ------                          --------------  -----  \n",
            " 0   id                              14606 non-null  object \n",
            " 1   channel_sales                   14606 non-null  object \n",
            " 2   cons_12m                        14606 non-null  int64  \n",
            " 3   cons_gas_12m                    14606 non-null  int64  \n",
            " 4   cons_last_month                 14606 non-null  int64  \n",
            " 5   date_activ                      14606 non-null  object \n",
            " 6   date_end                        14606 non-null  object \n",
            " 7   date_modif_prod                 14606 non-null  object \n",
            " 8   date_renewal                    14606 non-null  object \n",
            " 9   forecast_cons_12m               14606 non-null  float64\n",
            " 10  forecast_cons_year              14606 non-null  int64  \n",
            " 11  forecast_discount_energy        14606 non-null  float64\n",
            " 12  forecast_meter_rent_12m         14606 non-null  float64\n",
            " 13  forecast_price_energy_off_peak  14606 non-null  float64\n",
            " 14  forecast_price_energy_peak      14606 non-null  float64\n",
            " 15  forecast_price_pow_off_peak     14606 non-null  float64\n",
            " 16  has_gas                         14606 non-null  object \n",
            " 17  imp_cons                        14606 non-null  float64\n",
            " 18  margin_gross_pow_ele            14606 non-null  float64\n",
            " 19  margin_net_pow_ele              14606 non-null  float64\n",
            " 20  nb_prod_act                     14606 non-null  int64  \n",
            " 21  net_margin                      14606 non-null  float64\n",
            " 22  num_years_antig                 14606 non-null  int64  \n",
            " 23  origin_up                       14606 non-null  object \n",
            " 24  pow_max                         14606 non-null  float64\n",
            " 25  churn                           14606 non-null  int64  \n",
            "dtypes: float64(11), int64(7), object(8)\n",
            "memory usage: 2.9+ MB\n"
          ]
        }
      ],
      "source": [
        "client_df.info()"
      ]
    },
    {
      "cell_type": "code",
      "execution_count": 165,
      "id": "b67f2628-351a-48ee-b8ba-88c54042af88",
      "metadata": {
        "colab": {
          "base_uri": "https://localhost:8080/"
        },
        "id": "b67f2628-351a-48ee-b8ba-88c54042af88",
        "outputId": "ea15b1a3-d1a1-42ac-dae5-2cb52840fb4e"
      },
      "outputs": [
        {
          "output_type": "stream",
          "name": "stdout",
          "text": [
            "<class 'pandas.core.frame.DataFrame'>\n",
            "RangeIndex: 193002 entries, 0 to 193001\n",
            "Data columns (total 8 columns):\n",
            " #   Column              Non-Null Count   Dtype  \n",
            "---  ------              --------------   -----  \n",
            " 0   id                  193002 non-null  object \n",
            " 1   price_date          193002 non-null  object \n",
            " 2   price_off_peak_var  193002 non-null  float64\n",
            " 3   price_peak_var      193002 non-null  float64\n",
            " 4   price_mid_peak_var  193002 non-null  float64\n",
            " 5   price_off_peak_fix  193002 non-null  float64\n",
            " 6   price_peak_fix      193002 non-null  float64\n",
            " 7   price_mid_peak_fix  193002 non-null  float64\n",
            "dtypes: float64(6), object(2)\n",
            "memory usage: 11.8+ MB\n"
          ]
        }
      ],
      "source": [
        "price_df.info()"
      ]
    },
    {
      "cell_type": "markdown",
      "id": "3d7e80c5-ef07-47a7-908a-a081b3ebd09e",
      "metadata": {
        "id": "3d7e80c5-ef07-47a7-908a-a081b3ebd09e"
      },
      "source": [
        "### Statistics\n",
        "\n",
        "Now let's look at some statistics about the datasets. We can do this by using the `describe()` method."
      ]
    },
    {
      "cell_type": "code",
      "execution_count": 166,
      "id": "60f3010c-ecaf-4b8a-bb87-93bb54cc0c7e",
      "metadata": {
        "colab": {
          "base_uri": "https://localhost:8080/",
          "height": 320
        },
        "id": "60f3010c-ecaf-4b8a-bb87-93bb54cc0c7e",
        "outputId": "43aa5e67-67e7-4741-f177-7ec7c7ad4db5"
      },
      "outputs": [
        {
          "output_type": "execute_result",
          "data": {
            "text/html": [
              "<div>\n",
              "<style scoped>\n",
              "    .dataframe tbody tr th:only-of-type {\n",
              "        vertical-align: middle;\n",
              "    }\n",
              "\n",
              "    .dataframe tbody tr th {\n",
              "        vertical-align: top;\n",
              "    }\n",
              "\n",
              "    .dataframe thead th {\n",
              "        text-align: right;\n",
              "    }\n",
              "</style>\n",
              "<table border=\"1\" class=\"dataframe\">\n",
              "  <thead>\n",
              "    <tr style=\"text-align: right;\">\n",
              "      <th></th>\n",
              "      <th>cons_12m</th>\n",
              "      <th>cons_gas_12m</th>\n",
              "      <th>cons_last_month</th>\n",
              "      <th>forecast_cons_12m</th>\n",
              "      <th>forecast_cons_year</th>\n",
              "      <th>forecast_discount_energy</th>\n",
              "      <th>forecast_meter_rent_12m</th>\n",
              "      <th>forecast_price_energy_off_peak</th>\n",
              "      <th>forecast_price_energy_peak</th>\n",
              "      <th>forecast_price_pow_off_peak</th>\n",
              "      <th>imp_cons</th>\n",
              "      <th>margin_gross_pow_ele</th>\n",
              "      <th>margin_net_pow_ele</th>\n",
              "      <th>nb_prod_act</th>\n",
              "      <th>net_margin</th>\n",
              "      <th>num_years_antig</th>\n",
              "      <th>pow_max</th>\n",
              "      <th>churn</th>\n",
              "    </tr>\n",
              "  </thead>\n",
              "  <tbody>\n",
              "    <tr>\n",
              "      <th>count</th>\n",
              "      <td>1.460600e+04</td>\n",
              "      <td>1.460600e+04</td>\n",
              "      <td>14606.000000</td>\n",
              "      <td>14606.000000</td>\n",
              "      <td>14606.000000</td>\n",
              "      <td>14606.000000</td>\n",
              "      <td>14606.000000</td>\n",
              "      <td>14606.000000</td>\n",
              "      <td>14606.000000</td>\n",
              "      <td>14606.000000</td>\n",
              "      <td>14606.000000</td>\n",
              "      <td>14606.000000</td>\n",
              "      <td>14606.000000</td>\n",
              "      <td>14606.000000</td>\n",
              "      <td>14606.000000</td>\n",
              "      <td>14606.000000</td>\n",
              "      <td>14606.000000</td>\n",
              "      <td>14606.000000</td>\n",
              "    </tr>\n",
              "    <tr>\n",
              "      <th>mean</th>\n",
              "      <td>1.592203e+05</td>\n",
              "      <td>2.809238e+04</td>\n",
              "      <td>16090.269752</td>\n",
              "      <td>1868.614880</td>\n",
              "      <td>1399.762906</td>\n",
              "      <td>0.966726</td>\n",
              "      <td>63.086871</td>\n",
              "      <td>0.137283</td>\n",
              "      <td>0.050491</td>\n",
              "      <td>43.130056</td>\n",
              "      <td>152.786896</td>\n",
              "      <td>24.565121</td>\n",
              "      <td>24.562517</td>\n",
              "      <td>1.292346</td>\n",
              "      <td>189.264522</td>\n",
              "      <td>4.997809</td>\n",
              "      <td>18.135136</td>\n",
              "      <td>0.097152</td>\n",
              "    </tr>\n",
              "    <tr>\n",
              "      <th>std</th>\n",
              "      <td>5.734653e+05</td>\n",
              "      <td>1.629731e+05</td>\n",
              "      <td>64364.196422</td>\n",
              "      <td>2387.571531</td>\n",
              "      <td>3247.786255</td>\n",
              "      <td>5.108289</td>\n",
              "      <td>66.165783</td>\n",
              "      <td>0.024623</td>\n",
              "      <td>0.049037</td>\n",
              "      <td>4.485988</td>\n",
              "      <td>341.369366</td>\n",
              "      <td>20.231172</td>\n",
              "      <td>20.230280</td>\n",
              "      <td>0.709774</td>\n",
              "      <td>311.798130</td>\n",
              "      <td>1.611749</td>\n",
              "      <td>13.534743</td>\n",
              "      <td>0.296175</td>\n",
              "    </tr>\n",
              "    <tr>\n",
              "      <th>min</th>\n",
              "      <td>0.000000e+00</td>\n",
              "      <td>0.000000e+00</td>\n",
              "      <td>0.000000</td>\n",
              "      <td>0.000000</td>\n",
              "      <td>0.000000</td>\n",
              "      <td>0.000000</td>\n",
              "      <td>0.000000</td>\n",
              "      <td>0.000000</td>\n",
              "      <td>0.000000</td>\n",
              "      <td>0.000000</td>\n",
              "      <td>0.000000</td>\n",
              "      <td>0.000000</td>\n",
              "      <td>0.000000</td>\n",
              "      <td>1.000000</td>\n",
              "      <td>0.000000</td>\n",
              "      <td>1.000000</td>\n",
              "      <td>3.300000</td>\n",
              "      <td>0.000000</td>\n",
              "    </tr>\n",
              "    <tr>\n",
              "      <th>25%</th>\n",
              "      <td>5.674750e+03</td>\n",
              "      <td>0.000000e+00</td>\n",
              "      <td>0.000000</td>\n",
              "      <td>494.995000</td>\n",
              "      <td>0.000000</td>\n",
              "      <td>0.000000</td>\n",
              "      <td>16.180000</td>\n",
              "      <td>0.116340</td>\n",
              "      <td>0.000000</td>\n",
              "      <td>40.606701</td>\n",
              "      <td>0.000000</td>\n",
              "      <td>14.280000</td>\n",
              "      <td>14.280000</td>\n",
              "      <td>1.000000</td>\n",
              "      <td>50.712500</td>\n",
              "      <td>4.000000</td>\n",
              "      <td>12.500000</td>\n",
              "      <td>0.000000</td>\n",
              "    </tr>\n",
              "    <tr>\n",
              "      <th>50%</th>\n",
              "      <td>1.411550e+04</td>\n",
              "      <td>0.000000e+00</td>\n",
              "      <td>792.500000</td>\n",
              "      <td>1112.875000</td>\n",
              "      <td>314.000000</td>\n",
              "      <td>0.000000</td>\n",
              "      <td>18.795000</td>\n",
              "      <td>0.143166</td>\n",
              "      <td>0.084138</td>\n",
              "      <td>44.311378</td>\n",
              "      <td>37.395000</td>\n",
              "      <td>21.640000</td>\n",
              "      <td>21.640000</td>\n",
              "      <td>1.000000</td>\n",
              "      <td>112.530000</td>\n",
              "      <td>5.000000</td>\n",
              "      <td>13.856000</td>\n",
              "      <td>0.000000</td>\n",
              "    </tr>\n",
              "    <tr>\n",
              "      <th>75%</th>\n",
              "      <td>4.076375e+04</td>\n",
              "      <td>0.000000e+00</td>\n",
              "      <td>3383.000000</td>\n",
              "      <td>2401.790000</td>\n",
              "      <td>1745.750000</td>\n",
              "      <td>0.000000</td>\n",
              "      <td>131.030000</td>\n",
              "      <td>0.146348</td>\n",
              "      <td>0.098837</td>\n",
              "      <td>44.311378</td>\n",
              "      <td>193.980000</td>\n",
              "      <td>29.880000</td>\n",
              "      <td>29.880000</td>\n",
              "      <td>1.000000</td>\n",
              "      <td>243.097500</td>\n",
              "      <td>6.000000</td>\n",
              "      <td>19.172500</td>\n",
              "      <td>0.000000</td>\n",
              "    </tr>\n",
              "    <tr>\n",
              "      <th>max</th>\n",
              "      <td>6.207104e+06</td>\n",
              "      <td>4.154590e+06</td>\n",
              "      <td>771203.000000</td>\n",
              "      <td>82902.830000</td>\n",
              "      <td>175375.000000</td>\n",
              "      <td>30.000000</td>\n",
              "      <td>599.310000</td>\n",
              "      <td>0.273963</td>\n",
              "      <td>0.195975</td>\n",
              "      <td>59.266378</td>\n",
              "      <td>15042.790000</td>\n",
              "      <td>374.640000</td>\n",
              "      <td>374.640000</td>\n",
              "      <td>32.000000</td>\n",
              "      <td>24570.650000</td>\n",
              "      <td>13.000000</td>\n",
              "      <td>320.000000</td>\n",
              "      <td>1.000000</td>\n",
              "    </tr>\n",
              "  </tbody>\n",
              "</table>\n",
              "</div>"
            ],
            "text/plain": [
              "           cons_12m  cons_gas_12m  ...       pow_max         churn\n",
              "count  1.460600e+04  1.460600e+04  ...  14606.000000  14606.000000\n",
              "mean   1.592203e+05  2.809238e+04  ...     18.135136      0.097152\n",
              "std    5.734653e+05  1.629731e+05  ...     13.534743      0.296175\n",
              "min    0.000000e+00  0.000000e+00  ...      3.300000      0.000000\n",
              "25%    5.674750e+03  0.000000e+00  ...     12.500000      0.000000\n",
              "50%    1.411550e+04  0.000000e+00  ...     13.856000      0.000000\n",
              "75%    4.076375e+04  0.000000e+00  ...     19.172500      0.000000\n",
              "max    6.207104e+06  4.154590e+06  ...    320.000000      1.000000\n",
              "\n",
              "[8 rows x 18 columns]"
            ]
          },
          "metadata": {},
          "execution_count": 166
        }
      ],
      "source": [
        "client_df.describe()"
      ]
    },
    {
      "cell_type": "code",
      "execution_count": 167,
      "id": "f8b442e6-e186-42f9-b3c5-c5c15cd8c82a",
      "metadata": {
        "colab": {
          "base_uri": "https://localhost:8080/",
          "height": 300
        },
        "id": "f8b442e6-e186-42f9-b3c5-c5c15cd8c82a",
        "outputId": "56ba26bf-4b29-488a-d004-f7f6da46b0c4"
      },
      "outputs": [
        {
          "output_type": "execute_result",
          "data": {
            "text/html": [
              "<div>\n",
              "<style scoped>\n",
              "    .dataframe tbody tr th:only-of-type {\n",
              "        vertical-align: middle;\n",
              "    }\n",
              "\n",
              "    .dataframe tbody tr th {\n",
              "        vertical-align: top;\n",
              "    }\n",
              "\n",
              "    .dataframe thead th {\n",
              "        text-align: right;\n",
              "    }\n",
              "</style>\n",
              "<table border=\"1\" class=\"dataframe\">\n",
              "  <thead>\n",
              "    <tr style=\"text-align: right;\">\n",
              "      <th></th>\n",
              "      <th>price_off_peak_var</th>\n",
              "      <th>price_peak_var</th>\n",
              "      <th>price_mid_peak_var</th>\n",
              "      <th>price_off_peak_fix</th>\n",
              "      <th>price_peak_fix</th>\n",
              "      <th>price_mid_peak_fix</th>\n",
              "    </tr>\n",
              "  </thead>\n",
              "  <tbody>\n",
              "    <tr>\n",
              "      <th>count</th>\n",
              "      <td>193002.000000</td>\n",
              "      <td>193002.000000</td>\n",
              "      <td>193002.000000</td>\n",
              "      <td>193002.000000</td>\n",
              "      <td>193002.000000</td>\n",
              "      <td>193002.000000</td>\n",
              "    </tr>\n",
              "    <tr>\n",
              "      <th>mean</th>\n",
              "      <td>0.141027</td>\n",
              "      <td>0.054630</td>\n",
              "      <td>0.030496</td>\n",
              "      <td>43.334477</td>\n",
              "      <td>10.622875</td>\n",
              "      <td>6.409984</td>\n",
              "    </tr>\n",
              "    <tr>\n",
              "      <th>std</th>\n",
              "      <td>0.025032</td>\n",
              "      <td>0.049924</td>\n",
              "      <td>0.036298</td>\n",
              "      <td>5.410297</td>\n",
              "      <td>12.841895</td>\n",
              "      <td>7.773592</td>\n",
              "    </tr>\n",
              "    <tr>\n",
              "      <th>min</th>\n",
              "      <td>0.000000</td>\n",
              "      <td>0.000000</td>\n",
              "      <td>0.000000</td>\n",
              "      <td>0.000000</td>\n",
              "      <td>0.000000</td>\n",
              "      <td>0.000000</td>\n",
              "    </tr>\n",
              "    <tr>\n",
              "      <th>25%</th>\n",
              "      <td>0.125976</td>\n",
              "      <td>0.000000</td>\n",
              "      <td>0.000000</td>\n",
              "      <td>40.728885</td>\n",
              "      <td>0.000000</td>\n",
              "      <td>0.000000</td>\n",
              "    </tr>\n",
              "    <tr>\n",
              "      <th>50%</th>\n",
              "      <td>0.146033</td>\n",
              "      <td>0.085483</td>\n",
              "      <td>0.000000</td>\n",
              "      <td>44.266930</td>\n",
              "      <td>0.000000</td>\n",
              "      <td>0.000000</td>\n",
              "    </tr>\n",
              "    <tr>\n",
              "      <th>75%</th>\n",
              "      <td>0.151635</td>\n",
              "      <td>0.101673</td>\n",
              "      <td>0.072558</td>\n",
              "      <td>44.444710</td>\n",
              "      <td>24.339581</td>\n",
              "      <td>16.226389</td>\n",
              "    </tr>\n",
              "    <tr>\n",
              "      <th>max</th>\n",
              "      <td>0.280700</td>\n",
              "      <td>0.229788</td>\n",
              "      <td>0.114102</td>\n",
              "      <td>59.444710</td>\n",
              "      <td>36.490692</td>\n",
              "      <td>17.458221</td>\n",
              "    </tr>\n",
              "  </tbody>\n",
              "</table>\n",
              "</div>"
            ],
            "text/plain": [
              "       price_off_peak_var  price_peak_var  ...  price_peak_fix  price_mid_peak_fix\n",
              "count       193002.000000   193002.000000  ...   193002.000000       193002.000000\n",
              "mean             0.141027        0.054630  ...       10.622875            6.409984\n",
              "std              0.025032        0.049924  ...       12.841895            7.773592\n",
              "min              0.000000        0.000000  ...        0.000000            0.000000\n",
              "25%              0.125976        0.000000  ...        0.000000            0.000000\n",
              "50%              0.146033        0.085483  ...        0.000000            0.000000\n",
              "75%              0.151635        0.101673  ...       24.339581           16.226389\n",
              "max              0.280700        0.229788  ...       36.490692           17.458221\n",
              "\n",
              "[8 rows x 6 columns]"
            ]
          },
          "metadata": {},
          "execution_count": 167
        }
      ],
      "source": [
        "price_df.describe()"
      ]
    },
    {
      "cell_type": "markdown",
      "id": "6a7a8879-c483-4464-9057-c70e6b150e53",
      "metadata": {
        "id": "6a7a8879-c483-4464-9057-c70e6b150e53"
      },
      "source": [
        "---\n",
        "\n",
        "## Data visualization\n",
        "\n",
        "If you're working in Python, two of the most popular packages for visualization are `matplotlib` and `seaborn`. We highly recommend you use these, or at least be familiar with them because they are ubiquitous!\n",
        "\n",
        "Below are some functions that you can use to get started with visualizations. "
      ]
    },
    {
      "cell_type": "code",
      "execution_count": 168,
      "id": "f350ea0a-dc45-43f5-a6b7-e5e816964419",
      "metadata": {
        "id": "f350ea0a-dc45-43f5-a6b7-e5e816964419"
      },
      "outputs": [],
      "source": [
        "def plot_stacked_bars(dataframe, title_, size_=(18, 10), rot_=0, legend_=\"upper right\"):\n",
        "    \"\"\"\n",
        "    Plot stacked bars with annotations\n",
        "    \"\"\"\n",
        "    ax = dataframe.plot(\n",
        "        kind=\"bar\",\n",
        "        stacked=True,\n",
        "        figsize=size_,\n",
        "        rot=rot_,\n",
        "        title=title_\n",
        "    )\n",
        "\n",
        "    # Annotate bars\n",
        "    annotate_stacked_bars(ax, textsize=14)\n",
        "    # Rename legend\n",
        "    plt.legend([\"Retention\", \"Churn\"], loc=legend_)\n",
        "    # Labels\n",
        "    plt.ylabel(\"Company base (%)\")\n",
        "    plt.show()\n",
        "\n",
        "def annotate_stacked_bars(ax, pad=0.99, colour=\"white\", textsize=13):\n",
        "    \"\"\"\n",
        "    Add value annotations to the bars\n",
        "    \"\"\"\n",
        "\n",
        "    # Iterate over the plotted rectanges/bars\n",
        "    for p in ax.patches:\n",
        "        \n",
        "        # Calculate annotation\n",
        "        value = str(round(p.get_height(),1))\n",
        "        # If value is 0 do not annotate\n",
        "        if value == '0.0':\n",
        "            continue\n",
        "        ax.annotate(\n",
        "            value,\n",
        "            ((p.get_x()+ p.get_width()/2)*pad-0.05, (p.get_y()+p.get_height()/2)*pad),\n",
        "            color=colour,\n",
        "            size=textsize\n",
        "        )\n",
        "\n",
        "def plot_distribution(dataframe, column, ax, bins_=50):\n",
        "    \"\"\"\n",
        "    Plot variable distirbution in a stacked histogram of churned or retained company\n",
        "    \"\"\"\n",
        "    # Create a temporal dataframe with the data to be plot\n",
        "    temp = pd.DataFrame({\"Retention\": dataframe[dataframe[\"churn\"]==0][column],\n",
        "    \"Churn\":dataframe[dataframe[\"churn\"]==1][column]})\n",
        "    # Plot the histogram\n",
        "    temp[[\"Retention\",\"Churn\"]].plot(kind='hist', bins=bins_, ax=ax, stacked=True)\n",
        "    # X-axis label\n",
        "    ax.set_xlabel(column)\n",
        "    # Change the x-axis to plain style\n",
        "    ax.ticklabel_format(style='plain', axis='x')"
      ]
    },
    {
      "cell_type": "markdown",
      "id": "6eab14d0",
      "metadata": {
        "id": "6eab14d0"
      },
      "source": [
        "Thhe first function `plot_stacked_bars` is used to plot a stacked bar chart. An example of how you could use this is shown below:"
      ]
    },
    {
      "cell_type": "code",
      "execution_count": 169,
      "id": "448c05d8",
      "metadata": {
        "colab": {
          "base_uri": "https://localhost:8080/",
          "height": 338
        },
        "id": "448c05d8",
        "outputId": "cd7fee29-a25e-4d63-cab8-2e3730993be2"
      },
      "outputs": [
        {
          "output_type": "display_data",
          "data": {
            "image/png": "[encoded data removed]",
            "text/plain": [
              "<Figure size 360x360 with 1 Axes>"
            ]
          },
          "metadata": {}
        }
      ],
      "source": [
        "churn = client_df[['id', 'churn']]\n",
        "churn.columns = ['Companies', 'churn']\n",
        "churn_total = churn.groupby(churn['churn']).count()\n",
        "churn_percentage = churn_total / churn_total.sum() * 100\n",
        "plot_stacked_bars(churn_percentage.transpose(), \"Churning status\", (5, 5), legend_=\"lower right\")"
      ]
    },
    {
      "cell_type": "markdown",
      "id": "d055f10e",
      "metadata": {
        "id": "d055f10e"
      },
      "source": [
        "The second function `annotate_bars` is used by the first function, but the third function `plot_distribution` helps you to plot the distribution of a numeric column. An example of how it can be used is given below:"
      ]
    },
    {
      "cell_type": "code",
      "execution_count": 170,
      "id": "9a28757e",
      "metadata": {
        "colab": {
          "base_uri": "https://localhost:8080/",
          "height": 339
        },
        "id": "9a28757e",
        "outputId": "d6a0b7b5-bbd7-4305-d1fb-255ae75511ae"
      },
      "outputs": [
        {
          "output_type": "display_data",
          "data": {
            "image/png": "[encoded data removed]",
            "text/plain": [
              "<Figure size 1296x360 with 1 Axes>"
            ]
          },
          "metadata": {}
        }
      ],
      "source": [
        "consumption = client_df[['id', 'cons_12m', 'cons_gas_12m', 'cons_last_month', 'imp_cons', 'has_gas', 'churn']]\n",
        "\n",
        "fig, axs = plt.subplots(nrows=1, figsize=(18, 5))\n",
        "\n",
        "plot_distribution(consumption, 'cons_12m', axs)"
      ]
    },
    {
      "cell_type": "code",
      "source": [
        "client_df.columns"
      ],
      "metadata": {
        "colab": {
          "base_uri": "https://localhost:8080/"
        },
        "id": "9d47xww-GhPF",
        "outputId": "262440e4-93ff-4a5f-9fc8-8bc07206d898"
      },
      "id": "9d47xww-GhPF",
      "execution_count": 171,
      "outputs": [
        {
          "output_type": "execute_result",
          "data": {
            "text/plain": [
              "Index(['id', 'channel_sales', 'cons_12m', 'cons_gas_12m', 'cons_last_month',\n",
              "       'date_activ', 'date_end', 'date_modif_prod', 'date_renewal',\n",
              "       'forecast_cons_12m', 'forecast_cons_year', 'forecast_discount_energy',\n",
              "       'forecast_meter_rent_12m', 'forecast_price_energy_off_peak',\n",
              "       'forecast_price_energy_peak', 'forecast_price_pow_off_peak', 'has_gas',\n",
              "       'imp_cons', 'margin_gross_pow_ele', 'margin_net_pow_ele', 'nb_prod_act',\n",
              "       'net_margin', 'num_years_antig', 'origin_up', 'pow_max', 'churn'],\n",
              "      dtype='object')"
            ]
          },
          "metadata": {},
          "execution_count": 171
        }
      ]
    },
    {
      "cell_type": "code",
      "source": [
        "# plt.figure(figsize=(20,15))\n",
        "f, axes = plt.subplots(1, 2, figsize=(10,8))\n",
        "sns.boxplot(data=client_df, x='churn', y='cons_12m', ax=axes[0])\n",
        "sns.boxplot(data=client_df, x='churn', y='cons_gas_12m', ax=axes[1])"
      ],
      "metadata": {
        "colab": {
          "base_uri": "https://localhost:8080/",
          "height": 532
        },
        "id": "Q50K5Hd2HUku",
        "outputId": "001e560d-18b3-41a0-970c-8d119a5d3b98"
      },
      "id": "Q50K5Hd2HUku",
      "execution_count": 172,
      "outputs": [
        {
          "output_type": "execute_result",
          "data": {
            "text/plain": [
              "<matplotlib.axes._subplots.AxesSubplot at 0x7f06861ae710>"
            ]
          },
          "metadata": {},
          "execution_count": 172
        },
        {
          "output_type": "display_data",
          "data": {
            "image/png": "[encoded data removed]",
            "text/plain": [
              "<Figure size 720x576 with 2 Axes>"
            ]
          },
          "metadata": {}
        }
      ]
    },
    {
      "cell_type": "code",
      "source": [
        "f, axes = plt.subplots(1, 2, figsize=(10,8))\n",
        "sns.boxplot(data=client_df, x='churn', y='cons_last_month', ax=axes[0])\n",
        "sns.boxplot(data=client_df, x='churn', y='forecast_cons_12m', ax=axes[1])"
      ],
      "metadata": {
        "colab": {
          "base_uri": "https://localhost:8080/",
          "height": 520
        },
        "id": "KCdq_Qt0IPro",
        "outputId": "a33eed32-aeb9-4a1f-8f68-ea5c7614d176"
      },
      "id": "KCdq_Qt0IPro",
      "execution_count": 173,
      "outputs": [
        {
          "output_type": "execute_result",
          "data": {
            "text/plain": [
              "<matplotlib.axes._subplots.AxesSubplot at 0x7f068612b0d0>"
            ]
          },
          "metadata": {},
          "execution_count": 173
        },
        {
          "output_type": "display_data",
          "data": {
            "image/png": "[encoded data removed]",
            "text/plain": [
              "<Figure size 720x576 with 2 Axes>"
            ]
          },
          "metadata": {}
        }
      ]
    },
    {
      "cell_type": "code",
      "source": [
        "f, axes = plt.subplots(1, 2, figsize=(10,8))\n",
        "sns.boxplot(data=client_df, x='churn', y='forecast_cons_year', ax=axes[0])\n",
        "sns.boxplot(data=client_df, x='churn', y='forecast_discount_energy', ax=axes[1])"
      ],
      "metadata": {
        "colab": {
          "base_uri": "https://localhost:8080/",
          "height": 520
        },
        "id": "wA_iXNVdIunF",
        "outputId": "d16516da-8699-4329-9a15-0ac4fa287c3f"
      },
      "id": "wA_iXNVdIunF",
      "execution_count": 174,
      "outputs": [
        {
          "output_type": "execute_result",
          "data": {
            "text/plain": [
              "<matplotlib.axes._subplots.AxesSubplot at 0x7f0686049210>"
            ]
          },
          "metadata": {},
          "execution_count": 174
        },
        {
          "output_type": "display_data",
          "data": {
            "image/png": "[encoded data removed]",
            "text/plain": [
              "<Figure size 720x576 with 2 Axes>"
            ]
          },
          "metadata": {}
        }
      ]
    },
    {
      "cell_type": "code",
      "source": [
        "f, axes = plt.subplots(1, 2, figsize=(10,8))\n",
        "sns.boxplot(data=client_df, x='churn', y='forecast_meter_rent_12m', ax=axes[0])\n",
        "sns.boxplot(data=client_df, x='churn', y='forecast_price_energy_off_peak', ax=axes[1])"
      ],
      "metadata": {
        "colab": {
          "base_uri": "https://localhost:8080/",
          "height": 520
        },
        "id": "TpCzHq_jJXG4",
        "outputId": "7e14869b-8b8a-41f8-a987-95ca60a0c01d"
      },
      "id": "TpCzHq_jJXG4",
      "execution_count": 175,
      "outputs": [
        {
          "output_type": "execute_result",
          "data": {
            "text/plain": [
              "<matplotlib.axes._subplots.AxesSubplot at 0x7f0685f34610>"
            ]
          },
          "metadata": {},
          "execution_count": 175
        },
        {
          "output_type": "display_data",
          "data": {
            "image/png": "[encoded data removed]",
            "text/plain": [
              "<Figure size 720x576 with 2 Axes>"
            ]
          },
          "metadata": {}
        }
      ]
    },
    {
      "cell_type": "code",
      "source": [
        "f, axes = plt.subplots(1, 2, figsize=(10,8))\n",
        "sns.boxplot(data=client_df, x='churn', y='forecast_price_energy_peak', ax=axes[0])\n",
        "sns.boxplot(data=client_df, x='churn', y='forecast_price_pow_off_peak', ax=axes[1])\n"
      ],
      "metadata": {
        "colab": {
          "base_uri": "https://localhost:8080/",
          "height": 520
        },
        "id": "z5tj_yrPLRmz",
        "outputId": "2868c7e0-7afc-45ce-fc1b-1471e37b5424"
      },
      "id": "z5tj_yrPLRmz",
      "execution_count": 176,
      "outputs": [
        {
          "output_type": "execute_result",
          "data": {
            "text/plain": [
              "<matplotlib.axes._subplots.AxesSubplot at 0x7f0685e3e590>"
            ]
          },
          "metadata": {},
          "execution_count": 176
        },
        {
          "output_type": "display_data",
          "data": {
            "image/png": "[encoded data removed]",
            "text/plain": [
              "<Figure size 720x576 with 2 Axes>"
            ]
          },
          "metadata": {}
        }
      ]
    },
    {
      "cell_type": "code",
      "source": [
        "f, axes = plt.subplots(1, 2, figsize=(10,8))\n",
        "sns.boxplot(data=client_df, x='churn', y='imp_cons', ax=axes[0])\n",
        "sns.boxplot(data=client_df, x='churn', y='margin_gross_pow_ele', ax=axes[1])"
      ],
      "metadata": {
        "colab": {
          "base_uri": "https://localhost:8080/",
          "height": 520
        },
        "id": "_zq4YV2JLk0S",
        "outputId": "9a5b3219-2120-4c5a-a915-afdd5907a3e0"
      },
      "id": "_zq4YV2JLk0S",
      "execution_count": 177,
      "outputs": [
        {
          "output_type": "execute_result",
          "data": {
            "text/plain": [
              "<matplotlib.axes._subplots.AxesSubplot at 0x7f0685d30090>"
            ]
          },
          "metadata": {},
          "execution_count": 177
        },
        {
          "output_type": "display_data",
          "data": {
            "image/png": "[encoded data removed]",
            "text/plain": [
              "<Figure size 720x576 with 2 Axes>"
            ]
          },
          "metadata": {}
        }
      ]
    },
    {
      "cell_type": "code",
      "source": [
        "f, axes = plt.subplots(1, 2, figsize=(10,8))\n",
        "sns.boxplot(data=client_df, x='churn', y='margin_net_pow_ele', ax=axes[0])\n",
        "sns.boxplot(data=client_df, x='churn', y='nb_prod_act', ax=axes[1])\n"
      ],
      "metadata": {
        "colab": {
          "base_uri": "https://localhost:8080/",
          "height": 520
        },
        "id": "6mfoT_R9LyhA",
        "outputId": "fd4b88cb-af51-47e3-e0ff-40a117af2675"
      },
      "id": "6mfoT_R9LyhA",
      "execution_count": 178,
      "outputs": [
        {
          "output_type": "execute_result",
          "data": {
            "text/plain": [
              "<matplotlib.axes._subplots.AxesSubplot at 0x7f0685c4a390>"
            ]
          },
          "metadata": {},
          "execution_count": 178
        },
        {
          "output_type": "display_data",
          "data": {
            "image/png": "[encoded data removed]",
            "text/plain": [
              "<Figure size 720x576 with 2 Axes>"
            ]
          },
          "metadata": {}
        }
      ]
    },
    {
      "cell_type": "code",
      "source": [
        "f, axes = plt.subplots(1, 2, figsize=(10,8))\n",
        "sns.boxplot(data=client_df, x='churn', y='net_margin', ax=axes[0])\n",
        "sns.boxplot(data=client_df, x='churn', y='num_years_antig', ax=axes[1])\n"
      ],
      "metadata": {
        "colab": {
          "base_uri": "https://localhost:8080/",
          "height": 520
        },
        "id": "FvxyIZHAL_id",
        "outputId": "8946db00-1fcd-4507-8d02-758cdfe1e61d"
      },
      "id": "FvxyIZHAL_id",
      "execution_count": 179,
      "outputs": [
        {
          "output_type": "execute_result",
          "data": {
            "text/plain": [
              "<matplotlib.axes._subplots.AxesSubplot at 0x7f0685b4c710>"
            ]
          },
          "metadata": {},
          "execution_count": 179
        },
        {
          "output_type": "display_data",
          "data": {
            "image/png": "[encoded data removed]",
            "text/plain": [
              "<Figure size 720x576 with 2 Axes>"
            ]
          },
          "metadata": {}
        }
      ]
    },
    {
      "cell_type": "code",
      "source": [
        "f, axes = plt.subplots(1, 1, figsize=(10,8))\n",
        "sns.boxplot(data=client_df, x='churn', y='pow_max')"
      ],
      "metadata": {
        "colab": {
          "base_uri": "https://localhost:8080/",
          "height": 520
        },
        "id": "m9WQChUzMOcM",
        "outputId": "92d8f239-7b17-45a3-8c67-24f1ea6dc182"
      },
      "id": "m9WQChUzMOcM",
      "execution_count": 180,
      "outputs": [
        {
          "output_type": "execute_result",
          "data": {
            "text/plain": [
              "<matplotlib.axes._subplots.AxesSubplot at 0x7f0685b5fe50>"
            ]
          },
          "metadata": {},
          "execution_count": 180
        },
        {
          "output_type": "display_data",
          "data": {
            "image/png": "[encoded data removed]",
            "text/plain": [
              "<Figure size 720x576 with 1 Axes>"
            ]
          },
          "metadata": {}
        }
      ]
    },
    {
      "cell_type": "code",
      "source": [
        "chn_sl = client_df.dropna(subset=['channel_sales'])\n",
        "chn_sl['channel_sales'].value_counts()"
      ],
      "metadata": {
        "colab": {
          "base_uri": "https://localhost:8080/"
        },
        "id": "nhjxlC3OSRBK",
        "outputId": "770e8120-9d37-40b3-9e14-d0e837aada3a"
      },
      "id": "nhjxlC3OSRBK",
      "execution_count": 181,
      "outputs": [
        {
          "output_type": "execute_result",
          "data": {
            "text/plain": [
              "foosdfpfkusacimwkcsosbicdxkicaua    6754\n",
              "MISSING                             3725\n",
              "lmkebamcaaclubfxadlmueccxoimlema    1843\n",
              "usilxuppasemubllopkaafesmlibmsdf    1375\n",
              "ewpakwlliwisiwduibdlfmalxowmwpci     893\n",
              "sddiedcslfslkckwlfkdpoeeailfpeds      11\n",
              "epumfxlbckeskwekxbiuasklxalciiuu       3\n",
              "fixdbufsefwooaasfcxdxadsiekoceaa       2\n",
              "Name: channel_sales, dtype: int64"
            ]
          },
          "metadata": {},
          "execution_count": 181
        }
      ]
    },
    {
      "cell_type": "code",
      "source": [
        "sns.catplot(data=chn_sl, y='channel_sales', hue='churn', kind='count')"
      ],
      "metadata": {
        "colab": {
          "base_uri": "https://localhost:8080/",
          "height": 383
        },
        "id": "EcDP7GGiQMlq",
        "outputId": "916972c1-b27a-4f62-cd6d-6712acf6895e"
      },
      "id": "EcDP7GGiQMlq",
      "execution_count": 182,
      "outputs": [
        {
          "output_type": "execute_result",
          "data": {
            "text/plain": [
              "<seaborn.axisgrid.FacetGrid at 0x7f0685b55f10>"
            ]
          },
          "metadata": {},
          "execution_count": 182
        },
        {
          "output_type": "display_data",
          "data": {
            "image/png": "[encoded data removed]",
            "text/plain": [
              "<Figure size 406.6x360 with 1 Axes>"
            ]
          },
          "metadata": {}
        }
      ]
    },
    {
      "cell_type": "code",
      "source": [
        "client_df.columns"
      ],
      "metadata": {
        "colab": {
          "base_uri": "https://localhost:8080/"
        },
        "id": "685dglyZXdc-",
        "outputId": "09503d5d-f01e-47dc-9e63-bca37f96b89e"
      },
      "id": "685dglyZXdc-",
      "execution_count": 183,
      "outputs": [
        {
          "output_type": "execute_result",
          "data": {
            "text/plain": [
              "Index(['id', 'channel_sales', 'cons_12m', 'cons_gas_12m', 'cons_last_month',\n",
              "       'date_activ', 'date_end', 'date_modif_prod', 'date_renewal',\n",
              "       'forecast_cons_12m', 'forecast_cons_year', 'forecast_discount_energy',\n",
              "       'forecast_meter_rent_12m', 'forecast_price_energy_off_peak',\n",
              "       'forecast_price_energy_peak', 'forecast_price_pow_off_peak', 'has_gas',\n",
              "       'imp_cons', 'margin_gross_pow_ele', 'margin_net_pow_ele', 'nb_prod_act',\n",
              "       'net_margin', 'num_years_antig', 'origin_up', 'pow_max', 'churn'],\n",
              "      dtype='object')"
            ]
          },
          "metadata": {},
          "execution_count": 183
        }
      ]
    },
    {
      "cell_type": "code",
      "source": [
        "sns.catplot(data=client_df, y='origin_up', hue='churn', kind='count')"
      ],
      "metadata": {
        "colab": {
          "base_uri": "https://localhost:8080/",
          "height": 383
        },
        "id": "Y352vTBiX5y_",
        "outputId": "8e1e95ff-8ffa-4f03-a916-60a270fe52da"
      },
      "id": "Y352vTBiX5y_",
      "execution_count": 184,
      "outputs": [
        {
          "output_type": "execute_result",
          "data": {
            "text/plain": [
              "<seaborn.axisgrid.FacetGrid at 0x7f0685a97cd0>"
            ]
          },
          "metadata": {},
          "execution_count": 184
        },
        {
          "output_type": "display_data",
          "data": {
            "image/png": "[encoded data removed]",
            "text/plain": [
              "<Figure size 406.6x360 with 1 Axes>"
            ]
          },
          "metadata": {}
        }
      ]
    },
    {
      "cell_type": "code",
      "source": [
        "client_df.dtypes"
      ],
      "metadata": {
        "colab": {
          "base_uri": "https://localhost:8080/"
        },
        "id": "9izbxGwpbXwF",
        "outputId": "0c1199ab-821e-48e8-ba18-80a44cfbf0a1"
      },
      "id": "9izbxGwpbXwF",
      "execution_count": 185,
      "outputs": [
        {
          "output_type": "execute_result",
          "data": {
            "text/plain": [
              "id                                 object\n",
              "channel_sales                      object\n",
              "cons_12m                            int64\n",
              "cons_gas_12m                        int64\n",
              "cons_last_month                     int64\n",
              "date_activ                         object\n",
              "date_end                           object\n",
              "date_modif_prod                    object\n",
              "date_renewal                       object\n",
              "forecast_cons_12m                 float64\n",
              "forecast_cons_year                  int64\n",
              "forecast_discount_energy          float64\n",
              "forecast_meter_rent_12m           float64\n",
              "forecast_price_energy_off_peak    float64\n",
              "forecast_price_energy_peak        float64\n",
              "forecast_price_pow_off_peak       float64\n",
              "has_gas                            object\n",
              "imp_cons                          float64\n",
              "margin_gross_pow_ele              float64\n",
              "margin_net_pow_ele                float64\n",
              "nb_prod_act                         int64\n",
              "net_margin                        float64\n",
              "num_years_antig                     int64\n",
              "origin_up                          object\n",
              "pow_max                           float64\n",
              "churn                               int64\n",
              "dtype: object"
            ]
          },
          "metadata": {},
          "execution_count": 185
        }
      ]
    },
    {
      "cell_type": "code",
      "source": [
        "client_df['date_activ'] = pd.to_datetime(client_df['date_activ'])"
      ],
      "metadata": {
        "id": "xmvMC4xJcIsn"
      },
      "id": "xmvMC4xJcIsn",
      "execution_count": 186,
      "outputs": []
    },
    {
      "cell_type": "code",
      "source": [
        "client_df['date_activ_dif'] = (client_df['date_activ'].max() - client_df['date_activ']).dt.days\n",
        "\n",
        "client_df.head()"
      ],
      "metadata": {
        "colab": {
          "base_uri": "https://localhost:8080/",
          "height": 312
        },
        "id": "zbFz4jTzagZj",
        "outputId": "c0e582d1-0f59-4a8b-f5cc-de6ecfdbcb2e"
      },
      "id": "zbFz4jTzagZj",
      "execution_count": 187,
      "outputs": [
        {
          "output_type": "execute_result",
          "data": {
            "text/html": [
              "<div>\n",
              "<style scoped>\n",
              "    .dataframe tbody tr th:only-of-type {\n",
              "        vertical-align: middle;\n",
              "    }\n",
              "\n",
              "    .dataframe tbody tr th {\n",
              "        vertical-align: top;\n",
              "    }\n",
              "\n",
              "    .dataframe thead th {\n",
              "        text-align: right;\n",
              "    }\n",
              "</style>\n",
              "<table border=\"1\" class=\"dataframe\">\n",
              "  <thead>\n",
              "    <tr style=\"text-align: right;\">\n",
              "      <th></th>\n",
              "      <th>id</th>\n",
              "      <th>channel_sales</th>\n",
              "      <th>cons_12m</th>\n",
              "      <th>cons_gas_12m</th>\n",
              "      <th>cons_last_month</th>\n",
              "      <th>date_activ</th>\n",
              "      <th>date_end</th>\n",
              "      <th>date_modif_prod</th>\n",
              "      <th>date_renewal</th>\n",
              "      <th>forecast_cons_12m</th>\n",
              "      <th>forecast_cons_year</th>\n",
              "      <th>forecast_discount_energy</th>\n",
              "      <th>forecast_meter_rent_12m</th>\n",
              "      <th>forecast_price_energy_off_peak</th>\n",
              "      <th>forecast_price_energy_peak</th>\n",
              "      <th>forecast_price_pow_off_peak</th>\n",
              "      <th>has_gas</th>\n",
              "      <th>imp_cons</th>\n",
              "      <th>margin_gross_pow_ele</th>\n",
              "      <th>margin_net_pow_ele</th>\n",
              "      <th>nb_prod_act</th>\n",
              "      <th>net_margin</th>\n",
              "      <th>num_years_antig</th>\n",
              "      <th>origin_up</th>\n",
              "      <th>pow_max</th>\n",
              "      <th>churn</th>\n",
              "      <th>date_activ_dif</th>\n",
              "    </tr>\n",
              "  </thead>\n",
              "  <tbody>\n",
              "    <tr>\n",
              "      <th>0</th>\n",
              "      <td>24011ae4ebbe3035111d65fa7c15bc57</td>\n",
              "      <td>foosdfpfkusacimwkcsosbicdxkicaua</td>\n",
              "      <td>0</td>\n",
              "      <td>54946</td>\n",
              "      <td>0</td>\n",
              "      <td>2013-06-15</td>\n",
              "      <td>2016-06-15</td>\n",
              "      <td>2015-11-01</td>\n",
              "      <td>2015-06-23</td>\n",
              "      <td>0.00</td>\n",
              "      <td>0</td>\n",
              "      <td>0.0</td>\n",
              "      <td>1.78</td>\n",
              "      <td>0.114481</td>\n",
              "      <td>0.098142</td>\n",
              "      <td>40.606701</td>\n",
              "      <td>t</td>\n",
              "      <td>0.00</td>\n",
              "      <td>25.44</td>\n",
              "      <td>25.44</td>\n",
              "      <td>2</td>\n",
              "      <td>678.99</td>\n",
              "      <td>3</td>\n",
              "      <td>lxidpiddsbxsbosboudacockeimpuepw</td>\n",
              "      <td>43.648</td>\n",
              "      <td>1</td>\n",
              "      <td>443</td>\n",
              "    </tr>\n",
              "    <tr>\n",
              "      <th>1</th>\n",
              "      <td>d29c2c54acc38ff3c0614d0a653813dd</td>\n",
              "      <td>MISSING</td>\n",
              "      <td>4660</td>\n",
              "      <td>0</td>\n",
              "      <td>0</td>\n",
              "      <td>2009-08-21</td>\n",
              "      <td>2016-08-30</td>\n",
              "      <td>2009-08-21</td>\n",
              "      <td>2015-08-31</td>\n",
              "      <td>189.95</td>\n",
              "      <td>0</td>\n",
              "      <td>0.0</td>\n",
              "      <td>16.27</td>\n",
              "      <td>0.145711</td>\n",
              "      <td>0.000000</td>\n",
              "      <td>44.311378</td>\n",
              "      <td>f</td>\n",
              "      <td>0.00</td>\n",
              "      <td>16.38</td>\n",
              "      <td>16.38</td>\n",
              "      <td>1</td>\n",
              "      <td>18.89</td>\n",
              "      <td>6</td>\n",
              "      <td>kamkkxfxxuwbdslkwifmmcsiusiuosws</td>\n",
              "      <td>13.800</td>\n",
              "      <td>0</td>\n",
              "      <td>1837</td>\n",
              "    </tr>\n",
              "    <tr>\n",
              "      <th>2</th>\n",
              "      <td>764c75f661154dac3a6c254cd082ea7d</td>\n",
              "      <td>foosdfpfkusacimwkcsosbicdxkicaua</td>\n",
              "      <td>544</td>\n",
              "      <td>0</td>\n",
              "      <td>0</td>\n",
              "      <td>2010-04-16</td>\n",
              "      <td>2016-04-16</td>\n",
              "      <td>2010-04-16</td>\n",
              "      <td>2015-04-17</td>\n",
              "      <td>47.96</td>\n",
              "      <td>0</td>\n",
              "      <td>0.0</td>\n",
              "      <td>38.72</td>\n",
              "      <td>0.165794</td>\n",
              "      <td>0.087899</td>\n",
              "      <td>44.311378</td>\n",
              "      <td>f</td>\n",
              "      <td>0.00</td>\n",
              "      <td>28.60</td>\n",
              "      <td>28.60</td>\n",
              "      <td>1</td>\n",
              "      <td>6.60</td>\n",
              "      <td>6</td>\n",
              "      <td>kamkkxfxxuwbdslkwifmmcsiusiuosws</td>\n",
              "      <td>13.856</td>\n",
              "      <td>0</td>\n",
              "      <td>1599</td>\n",
              "    </tr>\n",
              "    <tr>\n",
              "      <th>3</th>\n",
              "      <td>bba03439a292a1e166f80264c16191cb</td>\n",
              "      <td>lmkebamcaaclubfxadlmueccxoimlema</td>\n",
              "      <td>1584</td>\n",
              "      <td>0</td>\n",
              "      <td>0</td>\n",
              "      <td>2010-03-30</td>\n",
              "      <td>2016-03-30</td>\n",
              "      <td>2010-03-30</td>\n",
              "      <td>2015-03-31</td>\n",
              "      <td>240.04</td>\n",
              "      <td>0</td>\n",
              "      <td>0.0</td>\n",
              "      <td>19.83</td>\n",
              "      <td>0.146694</td>\n",
              "      <td>0.000000</td>\n",
              "      <td>44.311378</td>\n",
              "      <td>f</td>\n",
              "      <td>0.00</td>\n",
              "      <td>30.22</td>\n",
              "      <td>30.22</td>\n",
              "      <td>1</td>\n",
              "      <td>25.46</td>\n",
              "      <td>6</td>\n",
              "      <td>kamkkxfxxuwbdslkwifmmcsiusiuosws</td>\n",
              "      <td>13.200</td>\n",
              "      <td>0</td>\n",
              "      <td>1616</td>\n",
              "    </tr>\n",
              "    <tr>\n",
              "      <th>4</th>\n",
              "      <td>149d57cf92fc41cf94415803a877cb4b</td>\n",
              "      <td>MISSING</td>\n",
              "      <td>4425</td>\n",
              "      <td>0</td>\n",
              "      <td>526</td>\n",
              "      <td>2010-01-13</td>\n",
              "      <td>2016-03-07</td>\n",
              "      <td>2010-01-13</td>\n",
              "      <td>2015-03-09</td>\n",
              "      <td>445.75</td>\n",
              "      <td>526</td>\n",
              "      <td>0.0</td>\n",
              "      <td>131.73</td>\n",
              "      <td>0.116900</td>\n",
              "      <td>0.100015</td>\n",
              "      <td>40.606701</td>\n",
              "      <td>f</td>\n",
              "      <td>52.32</td>\n",
              "      <td>44.91</td>\n",
              "      <td>44.91</td>\n",
              "      <td>1</td>\n",
              "      <td>47.98</td>\n",
              "      <td>6</td>\n",
              "      <td>kamkkxfxxuwbdslkwifmmcsiusiuosws</td>\n",
              "      <td>19.800</td>\n",
              "      <td>0</td>\n",
              "      <td>1692</td>\n",
              "    </tr>\n",
              "  </tbody>\n",
              "</table>\n",
              "</div>"
            ],
            "text/plain": [
              "                                 id  ... date_activ_dif\n",
              "0  24011ae4ebbe3035111d65fa7c15bc57  ...            443\n",
              "1  d29c2c54acc38ff3c0614d0a653813dd  ...           1837\n",
              "2  764c75f661154dac3a6c254cd082ea7d  ...           1599\n",
              "3  bba03439a292a1e166f80264c16191cb  ...           1616\n",
              "4  149d57cf92fc41cf94415803a877cb4b  ...           1692\n",
              "\n",
              "[5 rows x 27 columns]"
            ]
          },
          "metadata": {},
          "execution_count": 187
        }
      ]
    },
    {
      "cell_type": "code",
      "source": [
        "dt_act = client_df.groupby(['date_activ_dif', 'churn'])['id'].count().reset_index()\n",
        "dt_act.head()"
      ],
      "metadata": {
        "colab": {
          "base_uri": "https://localhost:8080/",
          "height": 206
        },
        "id": "fo9k2yUId0OB",
        "outputId": "4f32e9ae-ffb8-4f09-bac1-df89432bff2b"
      },
      "id": "fo9k2yUId0OB",
      "execution_count": 188,
      "outputs": [
        {
          "output_type": "execute_result",
          "data": {
            "text/html": [
              "<div>\n",
              "<style scoped>\n",
              "    .dataframe tbody tr th:only-of-type {\n",
              "        vertical-align: middle;\n",
              "    }\n",
              "\n",
              "    .dataframe tbody tr th {\n",
              "        vertical-align: top;\n",
              "    }\n",
              "\n",
              "    .dataframe thead th {\n",
              "        text-align: right;\n",
              "    }\n",
              "</style>\n",
              "<table border=\"1\" class=\"dataframe\">\n",
              "  <thead>\n",
              "    <tr style=\"text-align: right;\">\n",
              "      <th></th>\n",
              "      <th>date_activ_dif</th>\n",
              "      <th>churn</th>\n",
              "      <th>id</th>\n",
              "    </tr>\n",
              "  </thead>\n",
              "  <tbody>\n",
              "    <tr>\n",
              "      <th>0</th>\n",
              "      <td>0</td>\n",
              "      <td>0</td>\n",
              "      <td>1</td>\n",
              "    </tr>\n",
              "    <tr>\n",
              "      <th>1</th>\n",
              "      <td>297</td>\n",
              "      <td>0</td>\n",
              "      <td>1</td>\n",
              "    </tr>\n",
              "    <tr>\n",
              "      <th>2</th>\n",
              "      <td>300</td>\n",
              "      <td>1</td>\n",
              "      <td>1</td>\n",
              "    </tr>\n",
              "    <tr>\n",
              "      <th>3</th>\n",
              "      <td>305</td>\n",
              "      <td>0</td>\n",
              "      <td>1</td>\n",
              "    </tr>\n",
              "    <tr>\n",
              "      <th>4</th>\n",
              "      <td>308</td>\n",
              "      <td>0</td>\n",
              "      <td>1</td>\n",
              "    </tr>\n",
              "  </tbody>\n",
              "</table>\n",
              "</div>"
            ],
            "text/plain": [
              "   date_activ_dif  churn  id\n",
              "0               0      0   1\n",
              "1             297      0   1\n",
              "2             300      1   1\n",
              "3             305      0   1\n",
              "4             308      0   1"
            ]
          },
          "metadata": {},
          "execution_count": 188
        }
      ]
    },
    {
      "cell_type": "code",
      "source": [
        "plt.figure(figsize=(20,15))\n",
        "sns.histplot(data=dt_act, x='date_activ_dif', y='id', hue='churn', bins=100)"
      ],
      "metadata": {
        "colab": {
          "base_uri": "https://localhost:8080/",
          "height": 901
        },
        "id": "4_Y4SKRvefT4",
        "outputId": "4fe7b049-16e1-49ac-a372-76c571c1297a"
      },
      "id": "4_Y4SKRvefT4",
      "execution_count": 189,
      "outputs": [
        {
          "output_type": "execute_result",
          "data": {
            "text/plain": [
              "<matplotlib.axes._subplots.AxesSubplot at 0x7f0685913610>"
            ]
          },
          "metadata": {},
          "execution_count": 189
        },
        {
          "output_type": "display_data",
          "data": {
            "image/png": "[encoded data removed]",
            "text/plain": [
              "<Figure size 1440x1080 with 1 Axes>"
            ]
          },
          "metadata": {}
        }
      ]
    },
    {
      "cell_type": "code",
      "source": [
        "price_df.columns"
      ],
      "metadata": {
        "colab": {
          "base_uri": "https://localhost:8080/"
        },
        "id": "oWn4D1bal_zd",
        "outputId": "b661efc9-8101-4d2c-9ac5-1c31482a1879"
      },
      "id": "oWn4D1bal_zd",
      "execution_count": 190,
      "outputs": [
        {
          "output_type": "execute_result",
          "data": {
            "text/plain": [
              "Index(['id', 'price_date', 'price_off_peak_var', 'price_peak_var',\n",
              "       'price_mid_peak_var', 'price_off_peak_fix', 'price_peak_fix',\n",
              "       'price_mid_peak_fix'],\n",
              "      dtype='object')"
            ]
          },
          "metadata": {},
          "execution_count": 190
        }
      ]
    },
    {
      "cell_type": "code",
      "source": [
        "price_df['price_date'].min()"
      ],
      "metadata": {
        "colab": {
          "base_uri": "https://localhost:8080/",
          "height": 36
        },
        "id": "Pl31oBOcmWPs",
        "outputId": "211446a4-0a43-4442-e5ac-1e0b3a671cff"
      },
      "id": "Pl31oBOcmWPs",
      "execution_count": 191,
      "outputs": [
        {
          "output_type": "execute_result",
          "data": {
            "application/vnd.google.colaboratory.intrinsic+json": {
              "type": "string"
            },
            "text/plain": [
              "'2015-01-01'"
            ]
          },
          "metadata": {},
          "execution_count": 191
        }
      ]
    },
    {
      "cell_type": "code",
      "source": [
        "price_df['price_date'].max()"
      ],
      "metadata": {
        "colab": {
          "base_uri": "https://localhost:8080/",
          "height": 36
        },
        "id": "Hoxndql7mXR5",
        "outputId": "b3a973c8-3fcf-4d79-9a90-689de50d7190"
      },
      "id": "Hoxndql7mXR5",
      "execution_count": 192,
      "outputs": [
        {
          "output_type": "execute_result",
          "data": {
            "application/vnd.google.colaboratory.intrinsic+json": {
              "type": "string"
            },
            "text/plain": [
              "'2015-12-01'"
            ]
          },
          "metadata": {},
          "execution_count": 192
        }
      ]
    },
    {
      "cell_type": "code",
      "source": [
        "price_df['price_date'] = pd.to_datetime(price_df['price_date'])\n"
      ],
      "metadata": {
        "id": "2BFODuWlm8ek"
      },
      "id": "2BFODuWlm8ek",
      "execution_count": 193,
      "outputs": []
    },
    {
      "cell_type": "code",
      "source": [
        "price_df['month'] = pd.DatetimeIndex(price_df['price_date']).month\n",
        "price_df['week'] = price_df['price_date'].dt.isocalendar().week"
      ],
      "metadata": {
        "id": "j_igEo_MndPs"
      },
      "id": "j_igEo_MndPs",
      "execution_count": 194,
      "outputs": []
    },
    {
      "cell_type": "code",
      "source": [
        "price_df.shape"
      ],
      "metadata": {
        "colab": {
          "base_uri": "https://localhost:8080/"
        },
        "id": "GGgK0JQgoRKM",
        "outputId": "8699f382-ff8a-4e62-c7a4-741ac4d573f3"
      },
      "id": "GGgK0JQgoRKM",
      "execution_count": 195,
      "outputs": [
        {
          "output_type": "execute_result",
          "data": {
            "text/plain": [
              "(193002, 10)"
            ]
          },
          "metadata": {},
          "execution_count": 195
        }
      ]
    },
    {
      "cell_type": "code",
      "source": [
        "# price_df.loc[price_df['month']==12]"
      ],
      "metadata": {
        "id": "NoUwM3oxpOFa"
      },
      "id": "NoUwM3oxpOFa",
      "execution_count": 196,
      "outputs": []
    },
    {
      "cell_type": "code",
      "source": [
        "# price_df = price_df[price_df['month']!=12]"
      ],
      "metadata": {
        "id": "97WdyTM1oiEZ"
      },
      "id": "97WdyTM1oiEZ",
      "execution_count": 197,
      "outputs": []
    },
    {
      "cell_type": "code",
      "source": [
        "price_df.columns"
      ],
      "metadata": {
        "colab": {
          "base_uri": "https://localhost:8080/"
        },
        "id": "fKKVuxuKseAb",
        "outputId": "06d8aa68-8a81-4c3f-8214-cb47d267e73a"
      },
      "id": "fKKVuxuKseAb",
      "execution_count": 198,
      "outputs": [
        {
          "output_type": "execute_result",
          "data": {
            "text/plain": [
              "Index(['id', 'price_date', 'price_off_peak_var', 'price_peak_var',\n",
              "       'price_mid_peak_var', 'price_off_peak_fix', 'price_peak_fix',\n",
              "       'price_mid_peak_fix', 'month', 'week'],\n",
              "      dtype='object')"
            ]
          },
          "metadata": {},
          "execution_count": 198
        }
      ]
    },
    {
      "cell_type": "code",
      "source": [
        "price_df.head()"
      ],
      "metadata": {
        "id": "CCpc1az8qNQb",
        "colab": {
          "base_uri": "https://localhost:8080/",
          "height": 206
        },
        "outputId": "847349ad-0b3a-48ef-903e-8ae9c867e703"
      },
      "id": "CCpc1az8qNQb",
      "execution_count": 199,
      "outputs": [
        {
          "output_type": "execute_result",
          "data": {
            "text/html": [
              "<div>\n",
              "<style scoped>\n",
              "    .dataframe tbody tr th:only-of-type {\n",
              "        vertical-align: middle;\n",
              "    }\n",
              "\n",
              "    .dataframe tbody tr th {\n",
              "        vertical-align: top;\n",
              "    }\n",
              "\n",
              "    .dataframe thead th {\n",
              "        text-align: right;\n",
              "    }\n",
              "</style>\n",
              "<table border=\"1\" class=\"dataframe\">\n",
              "  <thead>\n",
              "    <tr style=\"text-align: right;\">\n",
              "      <th></th>\n",
              "      <th>id</th>\n",
              "      <th>price_date</th>\n",
              "      <th>price_off_peak_var</th>\n",
              "      <th>price_peak_var</th>\n",
              "      <th>price_mid_peak_var</th>\n",
              "      <th>price_off_peak_fix</th>\n",
              "      <th>price_peak_fix</th>\n",
              "      <th>price_mid_peak_fix</th>\n",
              "      <th>month</th>\n",
              "      <th>week</th>\n",
              "    </tr>\n",
              "  </thead>\n",
              "  <tbody>\n",
              "    <tr>\n",
              "      <th>0</th>\n",
              "      <td>038af19179925da21a25619c5a24b745</td>\n",
              "      <td>2015-01-01</td>\n",
              "      <td>0.151367</td>\n",
              "      <td>0.0</td>\n",
              "      <td>0.0</td>\n",
              "      <td>44.266931</td>\n",
              "      <td>0.0</td>\n",
              "      <td>0.0</td>\n",
              "      <td>1</td>\n",
              "      <td>1</td>\n",
              "    </tr>\n",
              "    <tr>\n",
              "      <th>1</th>\n",
              "      <td>038af19179925da21a25619c5a24b745</td>\n",
              "      <td>2015-02-01</td>\n",
              "      <td>0.151367</td>\n",
              "      <td>0.0</td>\n",
              "      <td>0.0</td>\n",
              "      <td>44.266931</td>\n",
              "      <td>0.0</td>\n",
              "      <td>0.0</td>\n",
              "      <td>2</td>\n",
              "      <td>5</td>\n",
              "    </tr>\n",
              "    <tr>\n",
              "      <th>2</th>\n",
              "      <td>038af19179925da21a25619c5a24b745</td>\n",
              "      <td>2015-03-01</td>\n",
              "      <td>0.151367</td>\n",
              "      <td>0.0</td>\n",
              "      <td>0.0</td>\n",
              "      <td>44.266931</td>\n",
              "      <td>0.0</td>\n",
              "      <td>0.0</td>\n",
              "      <td>3</td>\n",
              "      <td>9</td>\n",
              "    </tr>\n",
              "    <tr>\n",
              "      <th>3</th>\n",
              "      <td>038af19179925da21a25619c5a24b745</td>\n",
              "      <td>2015-04-01</td>\n",
              "      <td>0.149626</td>\n",
              "      <td>0.0</td>\n",
              "      <td>0.0</td>\n",
              "      <td>44.266931</td>\n",
              "      <td>0.0</td>\n",
              "      <td>0.0</td>\n",
              "      <td>4</td>\n",
              "      <td>14</td>\n",
              "    </tr>\n",
              "    <tr>\n",
              "      <th>4</th>\n",
              "      <td>038af19179925da21a25619c5a24b745</td>\n",
              "      <td>2015-05-01</td>\n",
              "      <td>0.149626</td>\n",
              "      <td>0.0</td>\n",
              "      <td>0.0</td>\n",
              "      <td>44.266931</td>\n",
              "      <td>0.0</td>\n",
              "      <td>0.0</td>\n",
              "      <td>5</td>\n",
              "      <td>18</td>\n",
              "    </tr>\n",
              "  </tbody>\n",
              "</table>\n",
              "</div>"
            ],
            "text/plain": [
              "                                 id price_date  ...  month  week\n",
              "0  038af19179925da21a25619c5a24b745 2015-01-01  ...      1     1\n",
              "1  038af19179925da21a25619c5a24b745 2015-02-01  ...      2     5\n",
              "2  038af19179925da21a25619c5a24b745 2015-03-01  ...      3     9\n",
              "3  038af19179925da21a25619c5a24b745 2015-04-01  ...      4    14\n",
              "4  038af19179925da21a25619c5a24b745 2015-05-01  ...      5    18\n",
              "\n",
              "[5 rows x 10 columns]"
            ]
          },
          "metadata": {},
          "execution_count": 199
        }
      ]
    },
    {
      "cell_type": "code",
      "source": [
        "price_df['price_total'] = price_df['price_off_peak_var'] + price_df['price_peak_var'] + price_df['price_mid_peak_var']+ price_df['price_off_peak_fix'] + price_df['price_peak_fix'] + price_df['price_mid_peak_fix']\n",
        "price_df.head()\n"
      ],
      "metadata": {
        "id": "1Af7tkpzuHQp",
        "colab": {
          "base_uri": "https://localhost:8080/",
          "height": 206
        },
        "outputId": "c8800668-84bd-4f83-f589-2a1e7d2ffff6"
      },
      "id": "1Af7tkpzuHQp",
      "execution_count": 200,
      "outputs": [
        {
          "output_type": "execute_result",
          "data": {
            "text/html": [
              "<div>\n",
              "<style scoped>\n",
              "    .dataframe tbody tr th:only-of-type {\n",
              "        vertical-align: middle;\n",
              "    }\n",
              "\n",
              "    .dataframe tbody tr th {\n",
              "        vertical-align: top;\n",
              "    }\n",
              "\n",
              "    .dataframe thead th {\n",
              "        text-align: right;\n",
              "    }\n",
              "</style>\n",
              "<table border=\"1\" class=\"dataframe\">\n",
              "  <thead>\n",
              "    <tr style=\"text-align: right;\">\n",
              "      <th></th>\n",
              "      <th>id</th>\n",
              "      <th>price_date</th>\n",
              "      <th>price_off_peak_var</th>\n",
              "      <th>price_peak_var</th>\n",
              "      <th>price_mid_peak_var</th>\n",
              "      <th>price_off_peak_fix</th>\n",
              "      <th>price_peak_fix</th>\n",
              "      <th>price_mid_peak_fix</th>\n",
              "      <th>month</th>\n",
              "      <th>week</th>\n",
              "      <th>price_total</th>\n",
              "    </tr>\n",
              "  </thead>\n",
              "  <tbody>\n",
              "    <tr>\n",
              "      <th>0</th>\n",
              "      <td>038af19179925da21a25619c5a24b745</td>\n",
              "      <td>2015-01-01</td>\n",
              "      <td>0.151367</td>\n",
              "      <td>0.0</td>\n",
              "      <td>0.0</td>\n",
              "      <td>44.266931</td>\n",
              "      <td>0.0</td>\n",
              "      <td>0.0</td>\n",
              "      <td>1</td>\n",
              "      <td>1</td>\n",
              "      <td>44.418298</td>\n",
              "    </tr>\n",
              "    <tr>\n",
              "      <th>1</th>\n",
              "      <td>038af19179925da21a25619c5a24b745</td>\n",
              "      <td>2015-02-01</td>\n",
              "      <td>0.151367</td>\n",
              "      <td>0.0</td>\n",
              "      <td>0.0</td>\n",
              "      <td>44.266931</td>\n",
              "      <td>0.0</td>\n",
              "      <td>0.0</td>\n",
              "      <td>2</td>\n",
              "      <td>5</td>\n",
              "      <td>44.418298</td>\n",
              "    </tr>\n",
              "    <tr>\n",
              "      <th>2</th>\n",
              "      <td>038af19179925da21a25619c5a24b745</td>\n",
              "      <td>2015-03-01</td>\n",
              "      <td>0.151367</td>\n",
              "      <td>0.0</td>\n",
              "      <td>0.0</td>\n",
              "      <td>44.266931</td>\n",
              "      <td>0.0</td>\n",
              "      <td>0.0</td>\n",
              "      <td>3</td>\n",
              "      <td>9</td>\n",
              "      <td>44.418298</td>\n",
              "    </tr>\n",
              "    <tr>\n",
              "      <th>3</th>\n",
              "      <td>038af19179925da21a25619c5a24b745</td>\n",
              "      <td>2015-04-01</td>\n",
              "      <td>0.149626</td>\n",
              "      <td>0.0</td>\n",
              "      <td>0.0</td>\n",
              "      <td>44.266931</td>\n",
              "      <td>0.0</td>\n",
              "      <td>0.0</td>\n",
              "      <td>4</td>\n",
              "      <td>14</td>\n",
              "      <td>44.416557</td>\n",
              "    </tr>\n",
              "    <tr>\n",
              "      <th>4</th>\n",
              "      <td>038af19179925da21a25619c5a24b745</td>\n",
              "      <td>2015-05-01</td>\n",
              "      <td>0.149626</td>\n",
              "      <td>0.0</td>\n",
              "      <td>0.0</td>\n",
              "      <td>44.266931</td>\n",
              "      <td>0.0</td>\n",
              "      <td>0.0</td>\n",
              "      <td>5</td>\n",
              "      <td>18</td>\n",
              "      <td>44.416557</td>\n",
              "    </tr>\n",
              "  </tbody>\n",
              "</table>\n",
              "</div>"
            ],
            "text/plain": [
              "                                 id price_date  ...  week  price_total\n",
              "0  038af19179925da21a25619c5a24b745 2015-01-01  ...     1    44.418298\n",
              "1  038af19179925da21a25619c5a24b745 2015-02-01  ...     5    44.418298\n",
              "2  038af19179925da21a25619c5a24b745 2015-03-01  ...     9    44.418298\n",
              "3  038af19179925da21a25619c5a24b745 2015-04-01  ...    14    44.416557\n",
              "4  038af19179925da21a25619c5a24b745 2015-05-01  ...    18    44.416557\n",
              "\n",
              "[5 rows x 11 columns]"
            ]
          },
          "metadata": {},
          "execution_count": 200
        }
      ]
    },
    {
      "cell_type": "code",
      "source": [
        "pr_ttl_dy_avg = price_df.groupby(['id', 'month'])['price_total'].mean().reset_index()\n",
        "pr_ttl_dy_avg = price_df.groupby(['id'])['price_total'].mean().reset_index()\n",
        "pr_ttl_dy_avg = pr_ttl_dy_avg.rename(columns={'price_total':'pr_ttl_dy_avg'})\n",
        "pr_ttl_dy_avg"
      ],
      "metadata": {
        "colab": {
          "base_uri": "https://localhost:8080/",
          "height": 423
        },
        "id": "4fLOHi2xu3oy",
        "outputId": "bea34b56-3ae8-473b-bb96-ed3d07087993"
      },
      "id": "4fLOHi2xu3oy",
      "execution_count": 201,
      "outputs": [
        {
          "output_type": "execute_result",
          "data": {
            "text/html": [
              "<div>\n",
              "<style scoped>\n",
              "    .dataframe tbody tr th:only-of-type {\n",
              "        vertical-align: middle;\n",
              "    }\n",
              "\n",
              "    .dataframe tbody tr th {\n",
              "        vertical-align: top;\n",
              "    }\n",
              "\n",
              "    .dataframe thead th {\n",
              "        text-align: right;\n",
              "    }\n",
              "</style>\n",
              "<table border=\"1\" class=\"dataframe\">\n",
              "  <thead>\n",
              "    <tr style=\"text-align: right;\">\n",
              "      <th></th>\n",
              "      <th>id</th>\n",
              "      <th>pr_ttl_dy_avg</th>\n",
              "    </tr>\n",
              "  </thead>\n",
              "  <tbody>\n",
              "    <tr>\n",
              "      <th>0</th>\n",
              "      <td>0002203ffbb812588b632b9e628cc38d</td>\n",
              "      <td>81.704757</td>\n",
              "    </tr>\n",
              "    <tr>\n",
              "      <th>1</th>\n",
              "      <td>0004351ebdd665e6ee664792efc4fd13</td>\n",
              "      <td>44.531877</td>\n",
              "    </tr>\n",
              "    <tr>\n",
              "      <th>2</th>\n",
              "      <td>0010bcc39e42b3c2131ed2ce55246e3c</td>\n",
              "      <td>45.501268</td>\n",
              "    </tr>\n",
              "    <tr>\n",
              "      <th>3</th>\n",
              "      <td>0010ee3855fdea87602a5b7aba8e42de</td>\n",
              "      <td>81.580935</td>\n",
              "    </tr>\n",
              "    <tr>\n",
              "      <th>4</th>\n",
              "      <td>00114d74e963e47177db89bc70108537</td>\n",
              "      <td>44.414856</td>\n",
              "    </tr>\n",
              "    <tr>\n",
              "      <th>...</th>\n",
              "      <td>...</td>\n",
              "      <td>...</td>\n",
              "    </tr>\n",
              "    <tr>\n",
              "      <th>16091</th>\n",
              "      <td>ffef185810e44254c3a4c6395e6b4d8a</td>\n",
              "      <td>82.376624</td>\n",
              "    </tr>\n",
              "    <tr>\n",
              "      <th>16092</th>\n",
              "      <td>fffac626da707b1b5ab11e8431a4d0a2</td>\n",
              "      <td>44.458512</td>\n",
              "    </tr>\n",
              "    <tr>\n",
              "      <th>16093</th>\n",
              "      <td>fffc0cacd305dd51f316424bbb08d1bd</td>\n",
              "      <td>83.197725</td>\n",
              "    </tr>\n",
              "    <tr>\n",
              "      <th>16094</th>\n",
              "      <td>fffe4f5646aa39c7f97f95ae2679ce64</td>\n",
              "      <td>81.514487</td>\n",
              "    </tr>\n",
              "    <tr>\n",
              "      <th>16095</th>\n",
              "      <td>ffff7fa066f1fb305ae285bb03bf325a</td>\n",
              "      <td>81.600744</td>\n",
              "    </tr>\n",
              "  </tbody>\n",
              "</table>\n",
              "<p>16096 rows × 2 columns</p>\n",
              "</div>"
            ],
            "text/plain": [
              "                                     id  pr_ttl_dy_avg\n",
              "0      0002203ffbb812588b632b9e628cc38d      81.704757\n",
              "1      0004351ebdd665e6ee664792efc4fd13      44.531877\n",
              "2      0010bcc39e42b3c2131ed2ce55246e3c      45.501268\n",
              "3      0010ee3855fdea87602a5b7aba8e42de      81.580935\n",
              "4      00114d74e963e47177db89bc70108537      44.414856\n",
              "...                                 ...            ...\n",
              "16091  ffef185810e44254c3a4c6395e6b4d8a      82.376624\n",
              "16092  fffac626da707b1b5ab11e8431a4d0a2      44.458512\n",
              "16093  fffc0cacd305dd51f316424bbb08d1bd      83.197725\n",
              "16094  fffe4f5646aa39c7f97f95ae2679ce64      81.514487\n",
              "16095  ffff7fa066f1fb305ae285bb03bf325a      81.600744\n",
              "\n",
              "[16096 rows x 2 columns]"
            ]
          },
          "metadata": {},
          "execution_count": 201
        }
      ]
    },
    {
      "cell_type": "code",
      "source": [
        "pr_last_mn = price_df.groupby(['id'])['month'].max().reset_index()\n",
        "pr_last_mn['month'].unique()"
      ],
      "metadata": {
        "colab": {
          "base_uri": "https://localhost:8080/"
        },
        "id": "bS6e0HIine-S",
        "outputId": "0d75c6c8-b302-4cec-e284-c220f5ae55da"
      },
      "id": "bS6e0HIine-S",
      "execution_count": 202,
      "outputs": [
        {
          "output_type": "execute_result",
          "data": {
            "text/plain": [
              "array([12, 10, 11])"
            ]
          },
          "metadata": {},
          "execution_count": 202
        }
      ]
    },
    {
      "cell_type": "code",
      "source": [
        "pr_last_mn.shape"
      ],
      "metadata": {
        "colab": {
          "base_uri": "https://localhost:8080/"
        },
        "id": "tqrczUJSo2_E",
        "outputId": "6e3d3289-6c7e-4ef3-a197-52e4abb6471e"
      },
      "id": "tqrczUJSo2_E",
      "execution_count": 203,
      "outputs": [
        {
          "output_type": "execute_result",
          "data": {
            "text/plain": [
              "(16096, 2)"
            ]
          },
          "metadata": {},
          "execution_count": 203
        }
      ]
    },
    {
      "cell_type": "code",
      "source": [
        "price_df.shape"
      ],
      "metadata": {
        "colab": {
          "base_uri": "https://localhost:8080/"
        },
        "id": "Q4pLZSjNokBg",
        "outputId": "ab7c6436-1f21-4af0-c7ad-54144a17c9a7"
      },
      "id": "Q4pLZSjNokBg",
      "execution_count": 204,
      "outputs": [
        {
          "output_type": "execute_result",
          "data": {
            "text/plain": [
              "(193002, 11)"
            ]
          },
          "metadata": {},
          "execution_count": 204
        }
      ]
    },
    {
      "cell_type": "code",
      "source": [
        "pr_last_mn = pd.merge(pr_last_mn, price_df, on=['id', 'month'])\n",
        "pr_last_mn.shape"
      ],
      "metadata": {
        "colab": {
          "base_uri": "https://localhost:8080/"
        },
        "id": "cL_15eG4oUFH",
        "outputId": "5b2d50ee-aef1-402f-add3-bc2bfbf1ef2c"
      },
      "id": "cL_15eG4oUFH",
      "execution_count": 205,
      "outputs": [
        {
          "output_type": "execute_result",
          "data": {
            "text/plain": [
              "(16096, 11)"
            ]
          },
          "metadata": {},
          "execution_count": 205
        }
      ]
    },
    {
      "cell_type": "code",
      "source": [
        "pr_last_mn = pr_last_mn.groupby(['id'])['price_total'].mean().reset_index()"
      ],
      "metadata": {
        "id": "uptAlvNGpAP-"
      },
      "id": "uptAlvNGpAP-",
      "execution_count": 206,
      "outputs": []
    },
    {
      "cell_type": "code",
      "source": [
        "pr_last_mn = pr_last_mn.rename(columns={'price_total':'avg_pr_ttl_lst_mn'})\n",
        "pr_last_mn.head()"
      ],
      "metadata": {
        "colab": {
          "base_uri": "https://localhost:8080/",
          "height": 206
        },
        "id": "00tgJ97YqGVA",
        "outputId": "41a82122-dca7-485c-d90f-fc3a789b382a"
      },
      "id": "00tgJ97YqGVA",
      "execution_count": 207,
      "outputs": [
        {
          "output_type": "execute_result",
          "data": {
            "text/html": [
              "<div>\n",
              "<style scoped>\n",
              "    .dataframe tbody tr th:only-of-type {\n",
              "        vertical-align: middle;\n",
              "    }\n",
              "\n",
              "    .dataframe tbody tr th {\n",
              "        vertical-align: top;\n",
              "    }\n",
              "\n",
              "    .dataframe thead th {\n",
              "        text-align: right;\n",
              "    }\n",
              "</style>\n",
              "<table border=\"1\" class=\"dataframe\">\n",
              "  <thead>\n",
              "    <tr style=\"text-align: right;\">\n",
              "      <th></th>\n",
              "      <th>id</th>\n",
              "      <th>avg_pr_ttl_lst_mn</th>\n",
              "    </tr>\n",
              "  </thead>\n",
              "  <tbody>\n",
              "    <tr>\n",
              "      <th>0</th>\n",
              "      <td>0002203ffbb812588b632b9e628cc38d</td>\n",
              "      <td>81.753068</td>\n",
              "    </tr>\n",
              "    <tr>\n",
              "      <th>1</th>\n",
              "      <td>0004351ebdd665e6ee664792efc4fd13</td>\n",
              "      <td>44.588653</td>\n",
              "    </tr>\n",
              "    <tr>\n",
              "      <th>2</th>\n",
              "      <td>0010bcc39e42b3c2131ed2ce55246e3c</td>\n",
              "      <td>46.145990</td>\n",
              "    </tr>\n",
              "    <tr>\n",
              "      <th>3</th>\n",
              "      <td>0010ee3855fdea87602a5b7aba8e42de</td>\n",
              "      <td>81.735632</td>\n",
              "    </tr>\n",
              "    <tr>\n",
              "      <th>4</th>\n",
              "      <td>00114d74e963e47177db89bc70108537</td>\n",
              "      <td>44.412370</td>\n",
              "    </tr>\n",
              "  </tbody>\n",
              "</table>\n",
              "</div>"
            ],
            "text/plain": [
              "                                 id  avg_pr_ttl_lst_mn\n",
              "0  0002203ffbb812588b632b9e628cc38d          81.753068\n",
              "1  0004351ebdd665e6ee664792efc4fd13          44.588653\n",
              "2  0010bcc39e42b3c2131ed2ce55246e3c          46.145990\n",
              "3  0010ee3855fdea87602a5b7aba8e42de          81.735632\n",
              "4  00114d74e963e47177db89bc70108537          44.412370"
            ]
          },
          "metadata": {},
          "execution_count": 207
        }
      ]
    },
    {
      "cell_type": "code",
      "source": [
        "client_df.shape"
      ],
      "metadata": {
        "colab": {
          "base_uri": "https://localhost:8080/"
        },
        "id": "u-d7GFWoq8SX",
        "outputId": "fba71cc1-74cb-4d2a-c0ba-cc28be4ad290"
      },
      "id": "u-d7GFWoq8SX",
      "execution_count": 208,
      "outputs": [
        {
          "output_type": "execute_result",
          "data": {
            "text/plain": [
              "(14606, 27)"
            ]
          },
          "metadata": {},
          "execution_count": 208
        }
      ]
    },
    {
      "cell_type": "code",
      "source": [
        "pr_ttl_sum = price_df.groupby(['id'])['price_total'].sum().reset_index()\n",
        "pr_ttl_sum = pr_ttl_sum.rename(columns={'price_total':'pr_ttl_sum'})\n",
        "pr_ttl_sum.head()"
      ],
      "metadata": {
        "colab": {
          "base_uri": "https://localhost:8080/",
          "height": 206
        },
        "id": "AbxBRtnjzsjM",
        "outputId": "4fa6037d-e9e9-4a70-f831-96762cdb4038"
      },
      "id": "AbxBRtnjzsjM",
      "execution_count": 209,
      "outputs": [
        {
          "output_type": "execute_result",
          "data": {
            "text/html": [
              "<div>\n",
              "<style scoped>\n",
              "    .dataframe tbody tr th:only-of-type {\n",
              "        vertical-align: middle;\n",
              "    }\n",
              "\n",
              "    .dataframe tbody tr th {\n",
              "        vertical-align: top;\n",
              "    }\n",
              "\n",
              "    .dataframe thead th {\n",
              "        text-align: right;\n",
              "    }\n",
              "</style>\n",
              "<table border=\"1\" class=\"dataframe\">\n",
              "  <thead>\n",
              "    <tr style=\"text-align: right;\">\n",
              "      <th></th>\n",
              "      <th>id</th>\n",
              "      <th>pr_ttl_sum</th>\n",
              "    </tr>\n",
              "  </thead>\n",
              "  <tbody>\n",
              "    <tr>\n",
              "      <th>0</th>\n",
              "      <td>0002203ffbb812588b632b9e628cc38d</td>\n",
              "      <td>980.457088</td>\n",
              "    </tr>\n",
              "    <tr>\n",
              "      <th>1</th>\n",
              "      <td>0004351ebdd665e6ee664792efc4fd13</td>\n",
              "      <td>534.382522</td>\n",
              "    </tr>\n",
              "    <tr>\n",
              "      <th>2</th>\n",
              "      <td>0010bcc39e42b3c2131ed2ce55246e3c</td>\n",
              "      <td>546.015222</td>\n",
              "    </tr>\n",
              "    <tr>\n",
              "      <th>3</th>\n",
              "      <td>0010ee3855fdea87602a5b7aba8e42de</td>\n",
              "      <td>978.971226</td>\n",
              "    </tr>\n",
              "    <tr>\n",
              "      <th>4</th>\n",
              "      <td>00114d74e963e47177db89bc70108537</td>\n",
              "      <td>532.978274</td>\n",
              "    </tr>\n",
              "  </tbody>\n",
              "</table>\n",
              "</div>"
            ],
            "text/plain": [
              "                                 id  pr_ttl_sum\n",
              "0  0002203ffbb812588b632b9e628cc38d  980.457088\n",
              "1  0004351ebdd665e6ee664792efc4fd13  534.382522\n",
              "2  0010bcc39e42b3c2131ed2ce55246e3c  546.015222\n",
              "3  0010ee3855fdea87602a5b7aba8e42de  978.971226\n",
              "4  00114d74e963e47177db89bc70108537  532.978274"
            ]
          },
          "metadata": {},
          "execution_count": 209
        }
      ]
    },
    {
      "cell_type": "code",
      "source": [
        "cl_ft = pd.merge(pr_last_mn, client_df, on=['id'])\n",
        "cl_ft = pd.merge(pr_ttl_dy_avg, cl_ft, on=['id'])\n",
        "cl_ft = pd.merge(pr_ttl_sum, cl_ft, on=['id'])"
      ],
      "metadata": {
        "id": "mbSJK2Lwqbwh"
      },
      "id": "mbSJK2Lwqbwh",
      "execution_count": 210,
      "outputs": []
    },
    {
      "cell_type": "code",
      "source": [
        "cl_ft.shape"
      ],
      "metadata": {
        "colab": {
          "base_uri": "https://localhost:8080/"
        },
        "id": "dUo4yWs3qmpz",
        "outputId": "faa6e7ea-579c-4194-a63f-15612d940d4a"
      },
      "id": "dUo4yWs3qmpz",
      "execution_count": 211,
      "outputs": [
        {
          "output_type": "execute_result",
          "data": {
            "text/plain": [
              "(14606, 30)"
            ]
          },
          "metadata": {},
          "execution_count": 211
        }
      ]
    },
    {
      "cell_type": "code",
      "source": [
        "pr_ttl_dy_avg_hist = cl_ft.groupby(['pr_ttl_dy_avg', 'churn'])['id'].count().reset_index()\n",
        "pr_ttl_dy_avg_hist.head()"
      ],
      "metadata": {
        "colab": {
          "base_uri": "https://localhost:8080/",
          "height": 206
        },
        "id": "0uFDY7Xnsmoq",
        "outputId": "b8762516-431a-4982-d2ac-82072b4c1ab0"
      },
      "id": "0uFDY7Xnsmoq",
      "execution_count": 212,
      "outputs": [
        {
          "output_type": "execute_result",
          "data": {
            "text/html": [
              "<div>\n",
              "<style scoped>\n",
              "    .dataframe tbody tr th:only-of-type {\n",
              "        vertical-align: middle;\n",
              "    }\n",
              "\n",
              "    .dataframe tbody tr th {\n",
              "        vertical-align: top;\n",
              "    }\n",
              "\n",
              "    .dataframe thead th {\n",
              "        text-align: right;\n",
              "    }\n",
              "</style>\n",
              "<table border=\"1\" class=\"dataframe\">\n",
              "  <thead>\n",
              "    <tr style=\"text-align: right;\">\n",
              "      <th></th>\n",
              "      <th>pr_ttl_dy_avg</th>\n",
              "      <th>churn</th>\n",
              "      <th>id</th>\n",
              "    </tr>\n",
              "  </thead>\n",
              "  <tbody>\n",
              "    <tr>\n",
              "      <th>0</th>\n",
              "      <td>0.000000</td>\n",
              "      <td>0</td>\n",
              "      <td>20</td>\n",
              "    </tr>\n",
              "    <tr>\n",
              "      <th>1</th>\n",
              "      <td>0.000600</td>\n",
              "      <td>0</td>\n",
              "      <td>74</td>\n",
              "    </tr>\n",
              "    <tr>\n",
              "      <th>2</th>\n",
              "      <td>0.000901</td>\n",
              "      <td>0</td>\n",
              "      <td>6</td>\n",
              "    </tr>\n",
              "    <tr>\n",
              "      <th>3</th>\n",
              "      <td>0.019049</td>\n",
              "      <td>0</td>\n",
              "      <td>1</td>\n",
              "    </tr>\n",
              "    <tr>\n",
              "      <th>4</th>\n",
              "      <td>0.028273</td>\n",
              "      <td>0</td>\n",
              "      <td>1</td>\n",
              "    </tr>\n",
              "  </tbody>\n",
              "</table>\n",
              "</div>"
            ],
            "text/plain": [
              "   pr_ttl_dy_avg  churn  id\n",
              "0       0.000000      0  20\n",
              "1       0.000600      0  74\n",
              "2       0.000901      0   6\n",
              "3       0.019049      0   1\n",
              "4       0.028273      0   1"
            ]
          },
          "metadata": {},
          "execution_count": 212
        }
      ]
    },
    {
      "cell_type": "code",
      "source": [
        "plt.figure(figsize=(20,15))\n",
        "sns.histplot(data=pr_ttl_dy_avg_hist, x='pr_ttl_dy_avg', y='id', hue='churn', bins=100)"
      ],
      "metadata": {
        "colab": {
          "base_uri": "https://localhost:8080/",
          "height": 901
        },
        "id": "TxSH4cKBsYL9",
        "outputId": "f04c6089-27bf-4c6e-c926-775d68fa1453"
      },
      "id": "TxSH4cKBsYL9",
      "execution_count": 213,
      "outputs": [
        {
          "output_type": "execute_result",
          "data": {
            "text/plain": [
              "<matplotlib.axes._subplots.AxesSubplot at 0x7f068594ba10>"
            ]
          },
          "metadata": {},
          "execution_count": 213
        },
        {
          "output_type": "display_data",
          "data": {
            "image/png": "[encoded data removed]",
            "text/plain": [
              "<Figure size 1440x1080 with 1 Axes>"
            ]
          },
          "metadata": {}
        }
      ]
    },
    {
      "cell_type": "code",
      "source": [
        "avg_pr_ttl_lst_mn_hist = cl_ft.groupby(['avg_pr_ttl_lst_mn', 'churn'])['id'].count().reset_index()\n",
        "avg_pr_ttl_lst_mn_hist.head()"
      ],
      "metadata": {
        "colab": {
          "base_uri": "https://localhost:8080/",
          "height": 206
        },
        "id": "DZ7T3bBzzSwr",
        "outputId": "43784990-c9ee-4938-b5f2-842caee882bf"
      },
      "id": "DZ7T3bBzzSwr",
      "execution_count": 214,
      "outputs": [
        {
          "output_type": "execute_result",
          "data": {
            "text/html": [
              "<div>\n",
              "<style scoped>\n",
              "    .dataframe tbody tr th:only-of-type {\n",
              "        vertical-align: middle;\n",
              "    }\n",
              "\n",
              "    .dataframe tbody tr th {\n",
              "        vertical-align: top;\n",
              "    }\n",
              "\n",
              "    .dataframe thead th {\n",
              "        text-align: right;\n",
              "    }\n",
              "</style>\n",
              "<table border=\"1\" class=\"dataframe\">\n",
              "  <thead>\n",
              "    <tr style=\"text-align: right;\">\n",
              "      <th></th>\n",
              "      <th>avg_pr_ttl_lst_mn</th>\n",
              "      <th>churn</th>\n",
              "      <th>id</th>\n",
              "    </tr>\n",
              "  </thead>\n",
              "  <tbody>\n",
              "    <tr>\n",
              "      <th>0</th>\n",
              "      <td>0.000000</td>\n",
              "      <td>0</td>\n",
              "      <td>25</td>\n",
              "    </tr>\n",
              "    <tr>\n",
              "      <th>1</th>\n",
              "      <td>0.000000</td>\n",
              "      <td>1</td>\n",
              "      <td>1</td>\n",
              "    </tr>\n",
              "    <tr>\n",
              "      <th>2</th>\n",
              "      <td>0.000600</td>\n",
              "      <td>0</td>\n",
              "      <td>74</td>\n",
              "    </tr>\n",
              "    <tr>\n",
              "      <th>3</th>\n",
              "      <td>0.000901</td>\n",
              "      <td>0</td>\n",
              "      <td>6</td>\n",
              "    </tr>\n",
              "    <tr>\n",
              "      <th>4</th>\n",
              "      <td>0.111292</td>\n",
              "      <td>0</td>\n",
              "      <td>5</td>\n",
              "    </tr>\n",
              "  </tbody>\n",
              "</table>\n",
              "</div>"
            ],
            "text/plain": [
              "   avg_pr_ttl_lst_mn  churn  id\n",
              "0           0.000000      0  25\n",
              "1           0.000000      1   1\n",
              "2           0.000600      0  74\n",
              "3           0.000901      0   6\n",
              "4           0.111292      0   5"
            ]
          },
          "metadata": {},
          "execution_count": 214
        }
      ]
    },
    {
      "cell_type": "code",
      "source": [
        "avg_pr_ttl_lst_mn_hist = cl_ft.groupby(['avg_pr_ttl_lst_mn', 'churn'])['id'].count().reset_index()\n",
        "avg_pr_ttl_lst_mn_hist.head()"
      ],
      "metadata": {
        "colab": {
          "base_uri": "https://localhost:8080/",
          "height": 206
        },
        "id": "MUim1hyLuNKr",
        "outputId": "f717f123-835b-4139-f3d4-0079d17561a1"
      },
      "id": "MUim1hyLuNKr",
      "execution_count": 215,
      "outputs": [
        {
          "output_type": "execute_result",
          "data": {
            "text/html": [
              "<div>\n",
              "<style scoped>\n",
              "    .dataframe tbody tr th:only-of-type {\n",
              "        vertical-align: middle;\n",
              "    }\n",
              "\n",
              "    .dataframe tbody tr th {\n",
              "        vertical-align: top;\n",
              "    }\n",
              "\n",
              "    .dataframe thead th {\n",
              "        text-align: right;\n",
              "    }\n",
              "</style>\n",
              "<table border=\"1\" class=\"dataframe\">\n",
              "  <thead>\n",
              "    <tr style=\"text-align: right;\">\n",
              "      <th></th>\n",
              "      <th>avg_pr_ttl_lst_mn</th>\n",
              "      <th>churn</th>\n",
              "      <th>id</th>\n",
              "    </tr>\n",
              "  </thead>\n",
              "  <tbody>\n",
              "    <tr>\n",
              "      <th>0</th>\n",
              "      <td>0.000000</td>\n",
              "      <td>0</td>\n",
              "      <td>25</td>\n",
              "    </tr>\n",
              "    <tr>\n",
              "      <th>1</th>\n",
              "      <td>0.000000</td>\n",
              "      <td>1</td>\n",
              "      <td>1</td>\n",
              "    </tr>\n",
              "    <tr>\n",
              "      <th>2</th>\n",
              "      <td>0.000600</td>\n",
              "      <td>0</td>\n",
              "      <td>74</td>\n",
              "    </tr>\n",
              "    <tr>\n",
              "      <th>3</th>\n",
              "      <td>0.000901</td>\n",
              "      <td>0</td>\n",
              "      <td>6</td>\n",
              "    </tr>\n",
              "    <tr>\n",
              "      <th>4</th>\n",
              "      <td>0.111292</td>\n",
              "      <td>0</td>\n",
              "      <td>5</td>\n",
              "    </tr>\n",
              "  </tbody>\n",
              "</table>\n",
              "</div>"
            ],
            "text/plain": [
              "   avg_pr_ttl_lst_mn  churn  id\n",
              "0           0.000000      0  25\n",
              "1           0.000000      1   1\n",
              "2           0.000600      0  74\n",
              "3           0.000901      0   6\n",
              "4           0.111292      0   5"
            ]
          },
          "metadata": {},
          "execution_count": 215
        }
      ]
    },
    {
      "cell_type": "code",
      "source": [
        "plt.figure(figsize=(20,15))\n",
        "sns.histplot(data=avg_pr_ttl_lst_mn_hist, x='avg_pr_ttl_lst_mn', y='id', hue='churn', bins=100)"
      ],
      "metadata": {
        "colab": {
          "base_uri": "https://localhost:8080/",
          "height": 901
        },
        "id": "eM0M66ACsGln",
        "outputId": "a0b99332-e32d-44ad-86d8-66fd84d4873f"
      },
      "id": "eM0M66ACsGln",
      "execution_count": 216,
      "outputs": [
        {
          "output_type": "execute_result",
          "data": {
            "text/plain": [
              "<matplotlib.axes._subplots.AxesSubplot at 0x7f0684473b10>"
            ]
          },
          "metadata": {},
          "execution_count": 216
        },
        {
          "output_type": "display_data",
          "data": {
            "image/png": "[encoded data removed]",
            "text/plain": [
              "<Figure size 1440x1080 with 1 Axes>"
            ]
          },
          "metadata": {}
        }
      ]
    },
    {
      "cell_type": "code",
      "source": [
        "pr_ttl_sum_hist = cl_ft.groupby(['pr_ttl_sum', 'churn'])['id'].count().reset_index()\n",
        "pr_ttl_sum_hist.head()"
      ],
      "metadata": {
        "colab": {
          "base_uri": "https://localhost:8080/",
          "height": 206
        },
        "id": "gXnAK7Bg1Iu3",
        "outputId": "e9dbc13c-c4bb-47ae-d1a2-5dbc4f89efaa"
      },
      "id": "gXnAK7Bg1Iu3",
      "execution_count": 217,
      "outputs": [
        {
          "output_type": "execute_result",
          "data": {
            "text/html": [
              "<div>\n",
              "<style scoped>\n",
              "    .dataframe tbody tr th:only-of-type {\n",
              "        vertical-align: middle;\n",
              "    }\n",
              "\n",
              "    .dataframe tbody tr th {\n",
              "        vertical-align: top;\n",
              "    }\n",
              "\n",
              "    .dataframe thead th {\n",
              "        text-align: right;\n",
              "    }\n",
              "</style>\n",
              "<table border=\"1\" class=\"dataframe\">\n",
              "  <thead>\n",
              "    <tr style=\"text-align: right;\">\n",
              "      <th></th>\n",
              "      <th>pr_ttl_sum</th>\n",
              "      <th>churn</th>\n",
              "      <th>id</th>\n",
              "    </tr>\n",
              "  </thead>\n",
              "  <tbody>\n",
              "    <tr>\n",
              "      <th>0</th>\n",
              "      <td>0.000000</td>\n",
              "      <td>0</td>\n",
              "      <td>20</td>\n",
              "    </tr>\n",
              "    <tr>\n",
              "      <th>1</th>\n",
              "      <td>0.007200</td>\n",
              "      <td>0</td>\n",
              "      <td>74</td>\n",
              "    </tr>\n",
              "    <tr>\n",
              "      <th>2</th>\n",
              "      <td>0.010812</td>\n",
              "      <td>0</td>\n",
              "      <td>6</td>\n",
              "    </tr>\n",
              "    <tr>\n",
              "      <th>3</th>\n",
              "      <td>0.228584</td>\n",
              "      <td>0</td>\n",
              "      <td>1</td>\n",
              "    </tr>\n",
              "    <tr>\n",
              "      <th>4</th>\n",
              "      <td>0.339276</td>\n",
              "      <td>0</td>\n",
              "      <td>1</td>\n",
              "    </tr>\n",
              "  </tbody>\n",
              "</table>\n",
              "</div>"
            ],
            "text/plain": [
              "   pr_ttl_sum  churn  id\n",
              "0    0.000000      0  20\n",
              "1    0.007200      0  74\n",
              "2    0.010812      0   6\n",
              "3    0.228584      0   1\n",
              "4    0.339276      0   1"
            ]
          },
          "metadata": {},
          "execution_count": 217
        }
      ]
    },
    {
      "cell_type": "code",
      "source": [
        "plt.figure(figsize=(20,15))\n",
        "sns.histplot(data=pr_ttl_sum_hist, x='pr_ttl_sum', y='id', hue='churn', bins=100)"
      ],
      "metadata": {
        "colab": {
          "base_uri": "https://localhost:8080/",
          "height": 901
        },
        "id": "MElqOAQ41VSv",
        "outputId": "e17c76a0-6348-4497-a992-b238bd064142"
      },
      "id": "MElqOAQ41VSv",
      "execution_count": 218,
      "outputs": [
        {
          "output_type": "execute_result",
          "data": {
            "text/plain": [
              "<matplotlib.axes._subplots.AxesSubplot at 0x7f0684478a50>"
            ]
          },
          "metadata": {},
          "execution_count": 218
        },
        {
          "output_type": "display_data",
          "data": {
            "image/png": "[encoded data removed]",
            "text/plain": [
              "<Figure size 1440x1080 with 1 Axes>"
            ]
          },
          "metadata": {}
        }
      ]
    },
    {
      "cell_type": "markdown",
      "source": [
        "CONCLUSION: It's not clearly visible from the graphs regarding whether price sensitivity contributed significantly to customer churn."
      ],
      "metadata": {
        "id": "w2-dH__1wFPG"
      },
      "id": "w2-dH__1wFPG"
    },
    {
      "cell_type": "code",
      "source": [
        "cl_ft[\"date_activ\"] = pd.to_datetime(cl_ft[\"date_activ\"], format='%Y-%m-%d')\n",
        "cl_ft[\"date_end\"] = pd.to_datetime(cl_ft[\"date_end\"], format='%Y-%m-%d')\n",
        "cl_ft[\"date_modif_prod\"] = pd.to_datetime(cl_ft[\"date_modif_prod\"], format='%Y-%m-%d')\n",
        "cl_ft[\"date_renewal\"] = pd.to_datetime(cl_ft[\"date_renewal\"], format='%Y-%m-%d')\n",
        "price_df[\"price_date\"] = pd.to_datetime(price_df[\"price_date\"], format='%Y-%m-%d')"
      ],
      "metadata": {
        "id": "8QIOx1QVV2Tn"
      },
      "id": "8QIOx1QVV2Tn",
      "execution_count": 219,
      "outputs": []
    },
    {
      "cell_type": "code",
      "source": [
        "# Group off-peak prices by companies and month\n",
        "monthly_price_by_id = price_df.groupby(['id', 'price_date']).agg({'price_off_peak_var': 'mean', 'price_off_peak_fix': 'mean'}).reset_index()\n",
        "\n",
        "# Get january and december prices\n",
        "jan_prices = monthly_price_by_id.groupby('id').first().reset_index()\n",
        "dec_prices = monthly_price_by_id.groupby('id').last().reset_index()\n",
        "\n",
        "# Calculate the difference\n",
        "diff = pd.merge(dec_prices.rename(columns={'price_off_peak_var': 'dec_1', 'price_off_peak_fix': 'dec_2'}), jan_prices.drop(columns='price_date'), on='id')\n",
        "diff['offpeak_diff_dec_january_energy'] = diff['dec_1'] - diff['price_off_peak_var']\n",
        "diff['offpeak_diff_dec_january_power'] = diff['dec_2'] - diff['price_off_peak_fix']\n",
        "diff = diff[['id', 'offpeak_diff_dec_january_energy','offpeak_diff_dec_january_power']]\n",
        "diff.head()"
      ],
      "metadata": {
        "colab": {
          "base_uri": "https://localhost:8080/",
          "height": 206
        },
        "id": "OBiA-hxtWL_h",
        "outputId": "92f134e5-dc8d-4208-fca8-52e1ac0e230b"
      },
      "id": "OBiA-hxtWL_h",
      "execution_count": 220,
      "outputs": [
        {
          "output_type": "execute_result",
          "data": {
            "text/html": [
              "<div>\n",
              "<style scoped>\n",
              "    .dataframe tbody tr th:only-of-type {\n",
              "        vertical-align: middle;\n",
              "    }\n",
              "\n",
              "    .dataframe tbody tr th {\n",
              "        vertical-align: top;\n",
              "    }\n",
              "\n",
              "    .dataframe thead th {\n",
              "        text-align: right;\n",
              "    }\n",
              "</style>\n",
              "<table border=\"1\" class=\"dataframe\">\n",
              "  <thead>\n",
              "    <tr style=\"text-align: right;\">\n",
              "      <th></th>\n",
              "      <th>id</th>\n",
              "      <th>offpeak_diff_dec_january_energy</th>\n",
              "      <th>offpeak_diff_dec_january_power</th>\n",
              "    </tr>\n",
              "  </thead>\n",
              "  <tbody>\n",
              "    <tr>\n",
              "      <th>0</th>\n",
              "      <td>0002203ffbb812588b632b9e628cc38d</td>\n",
              "      <td>-0.006192</td>\n",
              "      <td>0.162916</td>\n",
              "    </tr>\n",
              "    <tr>\n",
              "      <th>1</th>\n",
              "      <td>0004351ebdd665e6ee664792efc4fd13</td>\n",
              "      <td>-0.004104</td>\n",
              "      <td>0.177779</td>\n",
              "    </tr>\n",
              "    <tr>\n",
              "      <th>2</th>\n",
              "      <td>0010bcc39e42b3c2131ed2ce55246e3c</td>\n",
              "      <td>0.050443</td>\n",
              "      <td>1.500000</td>\n",
              "    </tr>\n",
              "    <tr>\n",
              "      <th>3</th>\n",
              "      <td>0010ee3855fdea87602a5b7aba8e42de</td>\n",
              "      <td>-0.010018</td>\n",
              "      <td>0.162916</td>\n",
              "    </tr>\n",
              "    <tr>\n",
              "      <th>4</th>\n",
              "      <td>00114d74e963e47177db89bc70108537</td>\n",
              "      <td>-0.003994</td>\n",
              "      <td>-0.000001</td>\n",
              "    </tr>\n",
              "  </tbody>\n",
              "</table>\n",
              "</div>"
            ],
            "text/plain": [
              "                                 id  ...  offpeak_diff_dec_january_power\n",
              "0  0002203ffbb812588b632b9e628cc38d  ...                        0.162916\n",
              "1  0004351ebdd665e6ee664792efc4fd13  ...                        0.177779\n",
              "2  0010bcc39e42b3c2131ed2ce55246e3c  ...                        1.500000\n",
              "3  0010ee3855fdea87602a5b7aba8e42de  ...                        0.162916\n",
              "4  00114d74e963e47177db89bc70108537  ...                       -0.000001\n",
              "\n",
              "[5 rows x 3 columns]"
            ]
          },
          "metadata": {},
          "execution_count": 220
        }
      ]
    },
    {
      "cell_type": "code",
      "source": [
        "cl_ft.shape"
      ],
      "metadata": {
        "colab": {
          "base_uri": "https://localhost:8080/"
        },
        "id": "D2ujEaP8WrC8",
        "outputId": "657d70fc-3877-4893-8d48-692e2a063dcd"
      },
      "id": "D2ujEaP8WrC8",
      "execution_count": 221,
      "outputs": [
        {
          "output_type": "execute_result",
          "data": {
            "text/plain": [
              "(14606, 30)"
            ]
          },
          "metadata": {},
          "execution_count": 221
        }
      ]
    },
    {
      "cell_type": "code",
      "source": [
        "cl_ft = pd.merge(diff, cl_ft, on=['id'])\n",
        "\n",
        "cl_ft.shape"
      ],
      "metadata": {
        "colab": {
          "base_uri": "https://localhost:8080/"
        },
        "id": "Fne4gsqGWtAu",
        "outputId": "3b553a9d-5adf-42b1-e432-8e3311391d0e"
      },
      "id": "Fne4gsqGWtAu",
      "execution_count": 222,
      "outputs": [
        {
          "output_type": "execute_result",
          "data": {
            "text/plain": [
              "(14606, 32)"
            ]
          },
          "metadata": {},
          "execution_count": 222
        }
      ]
    },
    {
      "cell_type": "code",
      "source": [
        "cl_ft.columns"
      ],
      "metadata": {
        "colab": {
          "base_uri": "https://localhost:8080/"
        },
        "id": "x0PvZw-tXZyw",
        "outputId": "d3e7c02f-0134-4b05-c17f-1f87b60fffe9"
      },
      "id": "x0PvZw-tXZyw",
      "execution_count": 223,
      "outputs": [
        {
          "output_type": "execute_result",
          "data": {
            "text/plain": [
              "Index(['id', 'offpeak_diff_dec_january_energy',\n",
              "       'offpeak_diff_dec_january_power', 'pr_ttl_sum', 'pr_ttl_dy_avg',\n",
              "       'avg_pr_ttl_lst_mn', 'channel_sales', 'cons_12m', 'cons_gas_12m',\n",
              "       'cons_last_month', 'date_activ', 'date_end', 'date_modif_prod',\n",
              "       'date_renewal', 'forecast_cons_12m', 'forecast_cons_year',\n",
              "       'forecast_discount_energy', 'forecast_meter_rent_12m',\n",
              "       'forecast_price_energy_off_peak', 'forecast_price_energy_peak',\n",
              "       'forecast_price_pow_off_peak', 'has_gas', 'imp_cons',\n",
              "       'margin_gross_pow_ele', 'margin_net_pow_ele', 'nb_prod_act',\n",
              "       'net_margin', 'num_years_antig', 'origin_up', 'pow_max', 'churn',\n",
              "       'date_activ_dif'],\n",
              "      dtype='object')"
            ]
          },
          "metadata": {},
          "execution_count": 223
        }
      ]
    },
    {
      "cell_type": "code",
      "source": [
        "sns.histplot(cl_ft, x='date_activ', hue='churn')"
      ],
      "metadata": {
        "colab": {
          "base_uri": "https://localhost:8080/",
          "height": 303
        },
        "id": "9ZIiv9U4YYm7",
        "outputId": "fb0502b4-3576-473a-d19c-c16140eda34d"
      },
      "id": "9ZIiv9U4YYm7",
      "execution_count": 224,
      "outputs": [
        {
          "output_type": "execute_result",
          "data": {
            "text/plain": [
              "<matplotlib.axes._subplots.AxesSubplot at 0x7f0682f61110>"
            ]
          },
          "metadata": {},
          "execution_count": 224
        },
        {
          "output_type": "display_data",
          "data": {
            "image/png": "[encoded data removed]",
            "text/plain": [
              "<Figure size 432x288 with 1 Axes>"
            ]
          },
          "metadata": {}
        }
      ]
    },
    {
      "cell_type": "code",
      "source": [
        "sns.histplot(cl_ft, x='date_end', hue='churn')"
      ],
      "metadata": {
        "colab": {
          "base_uri": "https://localhost:8080/",
          "height": 303
        },
        "id": "FHF010yPYuRj",
        "outputId": "e279e69c-eb18-4070-f92e-5ef0c0fa8fb0"
      },
      "id": "FHF010yPYuRj",
      "execution_count": 225,
      "outputs": [
        {
          "output_type": "execute_result",
          "data": {
            "text/plain": [
              "<matplotlib.axes._subplots.AxesSubplot at 0x7f0682de6b90>"
            ]
          },
          "metadata": {},
          "execution_count": 225
        },
        {
          "output_type": "display_data",
          "data": {
            "image/png": "[encoded data removed]",
            "text/plain": [
              "<Figure size 432x288 with 1 Axes>"
            ]
          },
          "metadata": {}
        }
      ]
    },
    {
      "cell_type": "code",
      "source": [
        "sns.histplot(cl_ft, x='date_modif_prod', hue='churn')"
      ],
      "metadata": {
        "colab": {
          "base_uri": "https://localhost:8080/",
          "height": 303
        },
        "id": "eibUtMalY6wc",
        "outputId": "47ac4765-fde3-44d2-fa9d-033ba93fd54a"
      },
      "id": "eibUtMalY6wc",
      "execution_count": 226,
      "outputs": [
        {
          "output_type": "execute_result",
          "data": {
            "text/plain": [
              "<matplotlib.axes._subplots.AxesSubplot at 0x7f0682db4890>"
            ]
          },
          "metadata": {},
          "execution_count": 226
        },
        {
          "output_type": "display_data",
          "data": {
            "image/png": "[encoded data removed]",
            "text/plain": [
              "<Figure size 432x288 with 1 Axes>"
            ]
          },
          "metadata": {}
        }
      ]
    },
    {
      "cell_type": "code",
      "source": [
        "sns.histplot(cl_ft, x='date_renewal', hue='churn')"
      ],
      "metadata": {
        "colab": {
          "base_uri": "https://localhost:8080/",
          "height": 303
        },
        "id": "66IkO10eY_8Q",
        "outputId": "c96194f5-e2ec-4095-8c68-c97a3132ac59"
      },
      "id": "66IkO10eY_8Q",
      "execution_count": 227,
      "outputs": [
        {
          "output_type": "execute_result",
          "data": {
            "text/plain": [
              "<matplotlib.axes._subplots.AxesSubplot at 0x7f0682db4c50>"
            ]
          },
          "metadata": {},
          "execution_count": 227
        },
        {
          "output_type": "display_data",
          "data": {
            "image/png": "[encoded data removed]",
            "text/plain": [
              "<Figure size 432x288 with 1 Axes>"
            ]
          },
          "metadata": {}
        }
      ]
    },
    {
      "cell_type": "code",
      "source": [
        "cl_ft['date_modif_prod_dif'] = (cl_ft['date_modif_prod'].max() - cl_ft['date_modif_prod']).dt.days\n",
        "\n",
        "cl_ft.head()"
      ],
      "metadata": {
        "colab": {
          "base_uri": "https://localhost:8080/",
          "height": 312
        },
        "id": "a-dapyLUaUmu",
        "outputId": "2fa80573-2260-462d-fc89-54ba1ec9b09c"
      },
      "id": "a-dapyLUaUmu",
      "execution_count": 228,
      "outputs": [
        {
          "output_type": "execute_result",
          "data": {
            "text/html": [
              "<div>\n",
              "<style scoped>\n",
              "    .dataframe tbody tr th:only-of-type {\n",
              "        vertical-align: middle;\n",
              "    }\n",
              "\n",
              "    .dataframe tbody tr th {\n",
              "        vertical-align: top;\n",
              "    }\n",
              "\n",
              "    .dataframe thead th {\n",
              "        text-align: right;\n",
              "    }\n",
              "</style>\n",
              "<table border=\"1\" class=\"dataframe\">\n",
              "  <thead>\n",
              "    <tr style=\"text-align: right;\">\n",
              "      <th></th>\n",
              "      <th>id</th>\n",
              "      <th>offpeak_diff_dec_january_energy</th>\n",
              "      <th>offpeak_diff_dec_january_power</th>\n",
              "      <th>pr_ttl_sum</th>\n",
              "      <th>pr_ttl_dy_avg</th>\n",
              "      <th>avg_pr_ttl_lst_mn</th>\n",
              "      <th>channel_sales</th>\n",
              "      <th>cons_12m</th>\n",
              "      <th>cons_gas_12m</th>\n",
              "      <th>cons_last_month</th>\n",
              "      <th>date_activ</th>\n",
              "      <th>date_end</th>\n",
              "      <th>date_modif_prod</th>\n",
              "      <th>date_renewal</th>\n",
              "      <th>forecast_cons_12m</th>\n",
              "      <th>forecast_cons_year</th>\n",
              "      <th>forecast_discount_energy</th>\n",
              "      <th>forecast_meter_rent_12m</th>\n",
              "      <th>forecast_price_energy_off_peak</th>\n",
              "      <th>forecast_price_energy_peak</th>\n",
              "      <th>forecast_price_pow_off_peak</th>\n",
              "      <th>has_gas</th>\n",
              "      <th>imp_cons</th>\n",
              "      <th>margin_gross_pow_ele</th>\n",
              "      <th>margin_net_pow_ele</th>\n",
              "      <th>nb_prod_act</th>\n",
              "      <th>net_margin</th>\n",
              "      <th>num_years_antig</th>\n",
              "      <th>origin_up</th>\n",
              "      <th>pow_max</th>\n",
              "      <th>churn</th>\n",
              "      <th>date_activ_dif</th>\n",
              "      <th>date_modif_prod_dif</th>\n",
              "    </tr>\n",
              "  </thead>\n",
              "  <tbody>\n",
              "    <tr>\n",
              "      <th>0</th>\n",
              "      <td>0002203ffbb812588b632b9e628cc38d</td>\n",
              "      <td>-0.006192</td>\n",
              "      <td>0.162916</td>\n",
              "      <td>980.457088</td>\n",
              "      <td>81.704757</td>\n",
              "      <td>81.753068</td>\n",
              "      <td>foosdfpfkusacimwkcsosbicdxkicaua</td>\n",
              "      <td>22034</td>\n",
              "      <td>0</td>\n",
              "      <td>3084</td>\n",
              "      <td>2010-01-19</td>\n",
              "      <td>2016-02-21</td>\n",
              "      <td>2010-01-19</td>\n",
              "      <td>2015-02-25</td>\n",
              "      <td>729.06</td>\n",
              "      <td>425</td>\n",
              "      <td>0.0</td>\n",
              "      <td>138.95</td>\n",
              "      <td>0.116900</td>\n",
              "      <td>0.100015</td>\n",
              "      <td>40.606701</td>\n",
              "      <td>f</td>\n",
              "      <td>40.78</td>\n",
              "      <td>43.08</td>\n",
              "      <td>43.08</td>\n",
              "      <td>1</td>\n",
              "      <td>81.42</td>\n",
              "      <td>6</td>\n",
              "      <td>kamkkxfxxuwbdslkwifmmcsiusiuosws</td>\n",
              "      <td>17.250</td>\n",
              "      <td>0</td>\n",
              "      <td>1686</td>\n",
              "      <td>2201</td>\n",
              "    </tr>\n",
              "    <tr>\n",
              "      <th>1</th>\n",
              "      <td>0004351ebdd665e6ee664792efc4fd13</td>\n",
              "      <td>-0.004104</td>\n",
              "      <td>0.177779</td>\n",
              "      <td>534.382522</td>\n",
              "      <td>44.531877</td>\n",
              "      <td>44.588653</td>\n",
              "      <td>MISSING</td>\n",
              "      <td>4060</td>\n",
              "      <td>0</td>\n",
              "      <td>0</td>\n",
              "      <td>2009-08-06</td>\n",
              "      <td>2016-06-21</td>\n",
              "      <td>2013-06-21</td>\n",
              "      <td>2015-06-23</td>\n",
              "      <td>597.77</td>\n",
              "      <td>0</td>\n",
              "      <td>0.0</td>\n",
              "      <td>6.84</td>\n",
              "      <td>0.142065</td>\n",
              "      <td>0.000000</td>\n",
              "      <td>44.311378</td>\n",
              "      <td>f</td>\n",
              "      <td>0.00</td>\n",
              "      <td>24.42</td>\n",
              "      <td>24.42</td>\n",
              "      <td>1</td>\n",
              "      <td>61.58</td>\n",
              "      <td>6</td>\n",
              "      <td>kamkkxfxxuwbdslkwifmmcsiusiuosws</td>\n",
              "      <td>13.200</td>\n",
              "      <td>0</td>\n",
              "      <td>1852</td>\n",
              "      <td>952</td>\n",
              "    </tr>\n",
              "    <tr>\n",
              "      <th>2</th>\n",
              "      <td>0010bcc39e42b3c2131ed2ce55246e3c</td>\n",
              "      <td>0.050443</td>\n",
              "      <td>1.500000</td>\n",
              "      <td>546.015222</td>\n",
              "      <td>45.501268</td>\n",
              "      <td>46.145990</td>\n",
              "      <td>usilxuppasemubllopkaafesmlibmsdf</td>\n",
              "      <td>7440</td>\n",
              "      <td>0</td>\n",
              "      <td>1062</td>\n",
              "      <td>2013-02-25</td>\n",
              "      <td>2016-05-05</td>\n",
              "      <td>2015-05-05</td>\n",
              "      <td>2015-02-26</td>\n",
              "      <td>1311.16</td>\n",
              "      <td>1062</td>\n",
              "      <td>30.0</td>\n",
              "      <td>18.37</td>\n",
              "      <td>0.199230</td>\n",
              "      <td>0.000000</td>\n",
              "      <td>45.806878</td>\n",
              "      <td>f</td>\n",
              "      <td>213.76</td>\n",
              "      <td>38.58</td>\n",
              "      <td>38.58</td>\n",
              "      <td>2</td>\n",
              "      <td>81.61</td>\n",
              "      <td>3</td>\n",
              "      <td>lxidpiddsbxsbosboudacockeimpuepw</td>\n",
              "      <td>13.856</td>\n",
              "      <td>0</td>\n",
              "      <td>553</td>\n",
              "      <td>269</td>\n",
              "    </tr>\n",
              "    <tr>\n",
              "      <th>3</th>\n",
              "      <td>00114d74e963e47177db89bc70108537</td>\n",
              "      <td>-0.003994</td>\n",
              "      <td>-0.000001</td>\n",
              "      <td>532.978274</td>\n",
              "      <td>44.414856</td>\n",
              "      <td>44.412370</td>\n",
              "      <td>ewpakwlliwisiwduibdlfmalxowmwpci</td>\n",
              "      <td>11272</td>\n",
              "      <td>0</td>\n",
              "      <td>0</td>\n",
              "      <td>2010-03-02</td>\n",
              "      <td>2016-03-02</td>\n",
              "      <td>2010-03-02</td>\n",
              "      <td>2015-03-09</td>\n",
              "      <td>1671.41</td>\n",
              "      <td>0</td>\n",
              "      <td>0.0</td>\n",
              "      <td>18.27</td>\n",
              "      <td>0.144149</td>\n",
              "      <td>0.000000</td>\n",
              "      <td>44.311378</td>\n",
              "      <td>f</td>\n",
              "      <td>0.00</td>\n",
              "      <td>29.76</td>\n",
              "      <td>29.76</td>\n",
              "      <td>1</td>\n",
              "      <td>157.99</td>\n",
              "      <td>6</td>\n",
              "      <td>kamkkxfxxuwbdslkwifmmcsiusiuosws</td>\n",
              "      <td>13.200</td>\n",
              "      <td>0</td>\n",
              "      <td>1644</td>\n",
              "      <td>2159</td>\n",
              "    </tr>\n",
              "    <tr>\n",
              "      <th>4</th>\n",
              "      <td>0013f326a839a2f6ad87a1859952d227</td>\n",
              "      <td>-0.006171</td>\n",
              "      <td>0.000000</td>\n",
              "      <td>981.171702</td>\n",
              "      <td>81.764308</td>\n",
              "      <td>81.758290</td>\n",
              "      <td>foosdfpfkusacimwkcsosbicdxkicaua</td>\n",
              "      <td>267414</td>\n",
              "      <td>0</td>\n",
              "      <td>19394</td>\n",
              "      <td>2013-02-22</td>\n",
              "      <td>2016-02-22</td>\n",
              "      <td>2014-10-07</td>\n",
              "      <td>2015-02-26</td>\n",
              "      <td>3077.34</td>\n",
              "      <td>1760</td>\n",
              "      <td>0.0</td>\n",
              "      <td>144.86</td>\n",
              "      <td>0.118636</td>\n",
              "      <td>0.101750</td>\n",
              "      <td>40.606701</td>\n",
              "      <td>f</td>\n",
              "      <td>195.20</td>\n",
              "      <td>30.00</td>\n",
              "      <td>30.00</td>\n",
              "      <td>1</td>\n",
              "      <td>341.58</td>\n",
              "      <td>3</td>\n",
              "      <td>lxidpiddsbxsbosboudacockeimpuepw</td>\n",
              "      <td>20.000</td>\n",
              "      <td>0</td>\n",
              "      <td>556</td>\n",
              "      <td>479</td>\n",
              "    </tr>\n",
              "  </tbody>\n",
              "</table>\n",
              "</div>"
            ],
            "text/plain": [
              "                                 id  ...  date_modif_prod_dif\n",
              "0  0002203ffbb812588b632b9e628cc38d  ...                 2201\n",
              "1  0004351ebdd665e6ee664792efc4fd13  ...                  952\n",
              "2  0010bcc39e42b3c2131ed2ce55246e3c  ...                  269\n",
              "3  00114d74e963e47177db89bc70108537  ...                 2159\n",
              "4  0013f326a839a2f6ad87a1859952d227  ...                  479\n",
              "\n",
              "[5 rows x 33 columns]"
            ]
          },
          "metadata": {},
          "execution_count": 228
        }
      ]
    },
    {
      "cell_type": "code",
      "source": [
        "cl_ft_modif_prod = cl_ft.groupby(['date_modif_prod_dif', 'churn'])['id'].count().reset_index()\n",
        "\n",
        "plt.figure(figsize=(20,15))\n",
        "sns.histplot(data=cl_ft_modif_prod, x='date_modif_prod_dif', y='id', hue='churn', bins=100)"
      ],
      "metadata": {
        "colab": {
          "base_uri": "https://localhost:8080/",
          "height": 901
        },
        "id": "70beCJ7ibMd6",
        "outputId": "7cbac461-5f04-454a-d3a3-b9e9bd2deaf3"
      },
      "id": "70beCJ7ibMd6",
      "execution_count": 229,
      "outputs": [
        {
          "output_type": "execute_result",
          "data": {
            "text/plain": [
              "<matplotlib.axes._subplots.AxesSubplot at 0x7f06829eab50>"
            ]
          },
          "metadata": {},
          "execution_count": 229
        },
        {
          "output_type": "display_data",
          "data": {
            "image/png": "[encoded data removed]",
            "text/plain": [
              "<Figure size 1440x1080 with 1 Axes>"
            ]
          },
          "metadata": {}
        }
      ]
    },
    {
      "cell_type": "code",
      "source": [
        "jan_dec_dif_pow_hist = cl_ft.groupby(['offpeak_diff_dec_january_power', 'churn'])['id'].count().reset_index()\n",
        "plt.figure(figsize=(20,15))\n",
        "sns.histplot(data=jan_dec_dif_pow_hist, x='offpeak_diff_dec_january_power', y='id', hue='churn', bins=100)"
      ],
      "metadata": {
        "colab": {
          "base_uri": "https://localhost:8080/",
          "height": 901
        },
        "id": "Dv5dhZYndkIp",
        "outputId": "1329053d-4592-465a-fd98-47bc3d1a5b39"
      },
      "id": "Dv5dhZYndkIp",
      "execution_count": 230,
      "outputs": [
        {
          "output_type": "execute_result",
          "data": {
            "text/plain": [
              "<matplotlib.axes._subplots.AxesSubplot at 0x7f06829a0c90>"
            ]
          },
          "metadata": {},
          "execution_count": 230
        },
        {
          "output_type": "display_data",
          "data": {
            "image/png": "[encoded data removed]",
            "text/plain": [
              "<Figure size 1440x1080 with 1 Axes>"
            ]
          },
          "metadata": {}
        }
      ]
    },
    {
      "cell_type": "code",
      "source": [
        "jan_dec_dif_en_hist = cl_ft.groupby(['offpeak_diff_dec_january_energy', 'churn'])['id'].count().reset_index()\n",
        "plt.figure(figsize=(20,15))\n",
        "sns.histplot(data=jan_dec_dif_en_hist, x='offpeak_diff_dec_january_energy', y='id', hue='churn', bins=100)"
      ],
      "metadata": {
        "colab": {
          "base_uri": "https://localhost:8080/",
          "height": 901
        },
        "id": "qMXgeRM5eE_m",
        "outputId": "69a1aeed-0441-47ad-8c64-205afa625893"
      },
      "id": "qMXgeRM5eE_m",
      "execution_count": 231,
      "outputs": [
        {
          "output_type": "execute_result",
          "data": {
            "text/plain": [
              "<matplotlib.axes._subplots.AxesSubplot at 0x7f0681e2e810>"
            ]
          },
          "metadata": {},
          "execution_count": 231
        },
        {
          "output_type": "display_data",
          "data": {
            "image/png": "[encoded data removed]",
            "text/plain": [
              "<Figure size 1440x1080 with 1 Axes>"
            ]
          },
          "metadata": {}
        }
      ]
    },
    {
      "cell_type": "markdown",
      "source": [
        "**Features to be used, judging from visual inspection:**\n",
        "\n",
        "forecast_meter_rent_12m\n",
        "\n",
        "margin_gross_pow_ele\n",
        "\n",
        "channel_sales\n",
        "\n",
        "origin_up\n",
        "\n",
        "date_activ_dif\n",
        "\n",
        "date_modif_prod_dif\n",
        "\n",
        "avg_pr_ttl_lst_mn\n",
        "\n",
        "--\n",
        "\n",
        "offpeak_diff_dec_january_power\n",
        "\n",
        "offpeak_diff_dec_january_energy"
      ],
      "metadata": {
        "id": "n45IHu4weiHd"
      },
      "id": "n45IHu4weiHd"
    },
    {
      "cell_type": "code",
      "source": [
        "# df.drop(df.columns.difference(['a','b']), 1, inplace=True)\n",
        "\n",
        "\n",
        "df_ft = cl_ft.drop(cl_ft.columns.difference(['forecast_meter_rent_12m',\n",
        "                                             'margin_gross_pow_ele',\n",
        "                                             'channel_sales',\n",
        "                                             'origin_up',\n",
        "                                             'date_activ_dif',\n",
        "                                             'date_modif_prod_dif',\n",
        "                                             'avg_pr_ttl_lst_mn',\n",
        "                                             'offpeak_diff_dec_january_power',\n",
        "                                             'offpeak_diff_dec_january_energy',\n",
        "                                             'churn']), 1)\n",
        "df_ft.head()"
      ],
      "metadata": {
        "colab": {
          "base_uri": "https://localhost:8080/",
          "height": 226
        },
        "id": "RKvfUF6OejWc",
        "outputId": "8cbe8b22-26b4-4722-c455-c6d4e9d4479a"
      },
      "id": "RKvfUF6OejWc",
      "execution_count": 232,
      "outputs": [
        {
          "output_type": "execute_result",
          "data": {
            "text/html": [
              "<div>\n",
              "<style scoped>\n",
              "    .dataframe tbody tr th:only-of-type {\n",
              "        vertical-align: middle;\n",
              "    }\n",
              "\n",
              "    .dataframe tbody tr th {\n",
              "        vertical-align: top;\n",
              "    }\n",
              "\n",
              "    .dataframe thead th {\n",
              "        text-align: right;\n",
              "    }\n",
              "</style>\n",
              "<table border=\"1\" class=\"dataframe\">\n",
              "  <thead>\n",
              "    <tr style=\"text-align: right;\">\n",
              "      <th></th>\n",
              "      <th>offpeak_diff_dec_january_energy</th>\n",
              "      <th>offpeak_diff_dec_january_power</th>\n",
              "      <th>avg_pr_ttl_lst_mn</th>\n",
              "      <th>channel_sales</th>\n",
              "      <th>forecast_meter_rent_12m</th>\n",
              "      <th>margin_gross_pow_ele</th>\n",
              "      <th>origin_up</th>\n",
              "      <th>churn</th>\n",
              "      <th>date_activ_dif</th>\n",
              "      <th>date_modif_prod_dif</th>\n",
              "    </tr>\n",
              "  </thead>\n",
              "  <tbody>\n",
              "    <tr>\n",
              "      <th>0</th>\n",
              "      <td>-0.006192</td>\n",
              "      <td>0.162916</td>\n",
              "      <td>81.753068</td>\n",
              "      <td>foosdfpfkusacimwkcsosbicdxkicaua</td>\n",
              "      <td>138.95</td>\n",
              "      <td>43.08</td>\n",
              "      <td>kamkkxfxxuwbdslkwifmmcsiusiuosws</td>\n",
              "      <td>0</td>\n",
              "      <td>1686</td>\n",
              "      <td>2201</td>\n",
              "    </tr>\n",
              "    <tr>\n",
              "      <th>1</th>\n",
              "      <td>-0.004104</td>\n",
              "      <td>0.177779</td>\n",
              "      <td>44.588653</td>\n",
              "      <td>MISSING</td>\n",
              "      <td>6.84</td>\n",
              "      <td>24.42</td>\n",
              "      <td>kamkkxfxxuwbdslkwifmmcsiusiuosws</td>\n",
              "      <td>0</td>\n",
              "      <td>1852</td>\n",
              "      <td>952</td>\n",
              "    </tr>\n",
              "    <tr>\n",
              "      <th>2</th>\n",
              "      <td>0.050443</td>\n",
              "      <td>1.500000</td>\n",
              "      <td>46.145990</td>\n",
              "      <td>usilxuppasemubllopkaafesmlibmsdf</td>\n",
              "      <td>18.37</td>\n",
              "      <td>38.58</td>\n",
              "      <td>lxidpiddsbxsbosboudacockeimpuepw</td>\n",
              "      <td>0</td>\n",
              "      <td>553</td>\n",
              "      <td>269</td>\n",
              "    </tr>\n",
              "    <tr>\n",
              "      <th>3</th>\n",
              "      <td>-0.003994</td>\n",
              "      <td>-0.000001</td>\n",
              "      <td>44.412370</td>\n",
              "      <td>ewpakwlliwisiwduibdlfmalxowmwpci</td>\n",
              "      <td>18.27</td>\n",
              "      <td>29.76</td>\n",
              "      <td>kamkkxfxxuwbdslkwifmmcsiusiuosws</td>\n",
              "      <td>0</td>\n",
              "      <td>1644</td>\n",
              "      <td>2159</td>\n",
              "    </tr>\n",
              "    <tr>\n",
              "      <th>4</th>\n",
              "      <td>-0.006171</td>\n",
              "      <td>0.000000</td>\n",
              "      <td>81.758290</td>\n",
              "      <td>foosdfpfkusacimwkcsosbicdxkicaua</td>\n",
              "      <td>144.86</td>\n",
              "      <td>30.00</td>\n",
              "      <td>lxidpiddsbxsbosboudacockeimpuepw</td>\n",
              "      <td>0</td>\n",
              "      <td>556</td>\n",
              "      <td>479</td>\n",
              "    </tr>\n",
              "  </tbody>\n",
              "</table>\n",
              "</div>"
            ],
            "text/plain": [
              "   offpeak_diff_dec_january_energy  ...  date_modif_prod_dif\n",
              "0                        -0.006192  ...                 2201\n",
              "1                        -0.004104  ...                  952\n",
              "2                         0.050443  ...                  269\n",
              "3                        -0.003994  ...                 2159\n",
              "4                        -0.006171  ...                  479\n",
              "\n",
              "[5 rows x 10 columns]"
            ]
          },
          "metadata": {},
          "execution_count": 232
        }
      ]
    },
    {
      "cell_type": "code",
      "source": [
        "df_ft = pd.get_dummies(data=df_ft, columns=['channel_sales', 'origin_up'])\n",
        "df_ft.head()"
      ],
      "metadata": {
        "colab": {
          "base_uri": "https://localhost:8080/",
          "height": 226
        },
        "id": "XnFewGv5lXwn",
        "outputId": "fd018f79-6d9d-426f-e606-3ca2b35453a7"
      },
      "id": "XnFewGv5lXwn",
      "execution_count": 233,
      "outputs": [
        {
          "output_type": "execute_result",
          "data": {
            "text/html": [
              "<div>\n",
              "<style scoped>\n",
              "    .dataframe tbody tr th:only-of-type {\n",
              "        vertical-align: middle;\n",
              "    }\n",
              "\n",
              "    .dataframe tbody tr th {\n",
              "        vertical-align: top;\n",
              "    }\n",
              "\n",
              "    .dataframe thead th {\n",
              "        text-align: right;\n",
              "    }\n",
              "</style>\n",
              "<table border=\"1\" class=\"dataframe\">\n",
              "  <thead>\n",
              "    <tr style=\"text-align: right;\">\n",
              "      <th></th>\n",
              "      <th>offpeak_diff_dec_january_energy</th>\n",
              "      <th>offpeak_diff_dec_january_power</th>\n",
              "      <th>avg_pr_ttl_lst_mn</th>\n",
              "      <th>forecast_meter_rent_12m</th>\n",
              "      <th>margin_gross_pow_ele</th>\n",
              "      <th>churn</th>\n",
              "      <th>date_activ_dif</th>\n",
              "      <th>date_modif_prod_dif</th>\n",
              "      <th>channel_sales_MISSING</th>\n",
              "      <th>channel_sales_epumfxlbckeskwekxbiuasklxalciiuu</th>\n",
              "      <th>channel_sales_ewpakwlliwisiwduibdlfmalxowmwpci</th>\n",
              "      <th>channel_sales_fixdbufsefwooaasfcxdxadsiekoceaa</th>\n",
              "      <th>channel_sales_foosdfpfkusacimwkcsosbicdxkicaua</th>\n",
              "      <th>channel_sales_lmkebamcaaclubfxadlmueccxoimlema</th>\n",
              "      <th>channel_sales_sddiedcslfslkckwlfkdpoeeailfpeds</th>\n",
              "      <th>channel_sales_usilxuppasemubllopkaafesmlibmsdf</th>\n",
              "      <th>origin_up_MISSING</th>\n",
              "      <th>origin_up_ewxeelcelemmiwuafmddpobolfuxioce</th>\n",
              "      <th>origin_up_kamkkxfxxuwbdslkwifmmcsiusiuosws</th>\n",
              "      <th>origin_up_ldkssxwpmemidmecebumciepifcamkci</th>\n",
              "      <th>origin_up_lxidpiddsbxsbosboudacockeimpuepw</th>\n",
              "      <th>origin_up_usapbepcfoloekilkwsdiboslwaxobdp</th>\n",
              "    </tr>\n",
              "  </thead>\n",
              "  <tbody>\n",
              "    <tr>\n",
              "      <th>0</th>\n",
              "      <td>-0.006192</td>\n",
              "      <td>0.162916</td>\n",
              "      <td>81.753068</td>\n",
              "      <td>138.95</td>\n",
              "      <td>43.08</td>\n",
              "      <td>0</td>\n",
              "      <td>1686</td>\n",
              "      <td>2201</td>\n",
              "      <td>0</td>\n",
              "      <td>0</td>\n",
              "      <td>0</td>\n",
              "      <td>0</td>\n",
              "      <td>1</td>\n",
              "      <td>0</td>\n",
              "      <td>0</td>\n",
              "      <td>0</td>\n",
              "      <td>0</td>\n",
              "      <td>0</td>\n",
              "      <td>1</td>\n",
              "      <td>0</td>\n",
              "      <td>0</td>\n",
              "      <td>0</td>\n",
              "    </tr>\n",
              "    <tr>\n",
              "      <th>1</th>\n",
              "      <td>-0.004104</td>\n",
              "      <td>0.177779</td>\n",
              "      <td>44.588653</td>\n",
              "      <td>6.84</td>\n",
              "      <td>24.42</td>\n",
              "      <td>0</td>\n",
              "      <td>1852</td>\n",
              "      <td>952</td>\n",
              "      <td>1</td>\n",
              "      <td>0</td>\n",
              "      <td>0</td>\n",
              "      <td>0</td>\n",
              "      <td>0</td>\n",
              "      <td>0</td>\n",
              "      <td>0</td>\n",
              "      <td>0</td>\n",
              "      <td>0</td>\n",
              "      <td>0</td>\n",
              "      <td>1</td>\n",
              "      <td>0</td>\n",
              "      <td>0</td>\n",
              "      <td>0</td>\n",
              "    </tr>\n",
              "    <tr>\n",
              "      <th>2</th>\n",
              "      <td>0.050443</td>\n",
              "      <td>1.500000</td>\n",
              "      <td>46.145990</td>\n",
              "      <td>18.37</td>\n",
              "      <td>38.58</td>\n",
              "      <td>0</td>\n",
              "      <td>553</td>\n",
              "      <td>269</td>\n",
              "      <td>0</td>\n",
              "      <td>0</td>\n",
              "      <td>0</td>\n",
              "      <td>0</td>\n",
              "      <td>0</td>\n",
              "      <td>0</td>\n",
              "      <td>0</td>\n",
              "      <td>1</td>\n",
              "      <td>0</td>\n",
              "      <td>0</td>\n",
              "      <td>0</td>\n",
              "      <td>0</td>\n",
              "      <td>1</td>\n",
              "      <td>0</td>\n",
              "    </tr>\n",
              "    <tr>\n",
              "      <th>3</th>\n",
              "      <td>-0.003994</td>\n",
              "      <td>-0.000001</td>\n",
              "      <td>44.412370</td>\n",
              "      <td>18.27</td>\n",
              "      <td>29.76</td>\n",
              "      <td>0</td>\n",
              "      <td>1644</td>\n",
              "      <td>2159</td>\n",
              "      <td>0</td>\n",
              "      <td>0</td>\n",
              "      <td>1</td>\n",
              "      <td>0</td>\n",
              "      <td>0</td>\n",
              "      <td>0</td>\n",
              "      <td>0</td>\n",
              "      <td>0</td>\n",
              "      <td>0</td>\n",
              "      <td>0</td>\n",
              "      <td>1</td>\n",
              "      <td>0</td>\n",
              "      <td>0</td>\n",
              "      <td>0</td>\n",
              "    </tr>\n",
              "    <tr>\n",
              "      <th>4</th>\n",
              "      <td>-0.006171</td>\n",
              "      <td>0.000000</td>\n",
              "      <td>81.758290</td>\n",
              "      <td>144.86</td>\n",
              "      <td>30.00</td>\n",
              "      <td>0</td>\n",
              "      <td>556</td>\n",
              "      <td>479</td>\n",
              "      <td>0</td>\n",
              "      <td>0</td>\n",
              "      <td>0</td>\n",
              "      <td>0</td>\n",
              "      <td>1</td>\n",
              "      <td>0</td>\n",
              "      <td>0</td>\n",
              "      <td>0</td>\n",
              "      <td>0</td>\n",
              "      <td>0</td>\n",
              "      <td>0</td>\n",
              "      <td>0</td>\n",
              "      <td>1</td>\n",
              "      <td>0</td>\n",
              "    </tr>\n",
              "  </tbody>\n",
              "</table>\n",
              "</div>"
            ],
            "text/plain": [
              "   offpeak_diff_dec_january_energy  ...  origin_up_usapbepcfoloekilkwsdiboslwaxobdp\n",
              "0                        -0.006192  ...                                           0\n",
              "1                        -0.004104  ...                                           0\n",
              "2                         0.050443  ...                                           0\n",
              "3                        -0.003994  ...                                           0\n",
              "4                        -0.006171  ...                                           0\n",
              "\n",
              "[5 rows x 22 columns]"
            ]
          },
          "metadata": {},
          "execution_count": 233
        }
      ]
    },
    {
      "cell_type": "code",
      "source": [
        "X = df_ft[df_ft.columns.difference(['churn'])]\n",
        "\n",
        "y = df_ft['churn']"
      ],
      "metadata": {
        "id": "z-pXV9yrpgGT"
      },
      "id": "z-pXV9yrpgGT",
      "execution_count": 234,
      "outputs": []
    },
    {
      "cell_type": "code",
      "source": [
        "X_train, X_test, y_train, y_test = train_test_split(X, y, test_size=0.3)"
      ],
      "metadata": {
        "id": "4c0EDRMdqY0f"
      },
      "id": "4c0EDRMdqY0f",
      "execution_count": 235,
      "outputs": []
    },
    {
      "cell_type": "code",
      "source": [
        "clf = RandomForestClassifier(n_estimators=100)\n",
        "clf.fit(X_train, y_train)\n",
        "\n",
        "y_pred = clf.predict(X_test)"
      ],
      "metadata": {
        "id": "aslNTd07q3E1"
      },
      "id": "aslNTd07q3E1",
      "execution_count": 236,
      "outputs": []
    },
    {
      "cell_type": "code",
      "source": [
        "print(\"Accuracy:\", metrics.accuracy_score(y_test, y_pred))"
      ],
      "metadata": {
        "colab": {
          "base_uri": "https://localhost:8080/"
        },
        "id": "JJS1W9U7rYo9",
        "outputId": "c6f324de-e125-4c46-9d70-2d356ba20ad3"
      },
      "id": "JJS1W9U7rYo9",
      "execution_count": 237,
      "outputs": [
        {
          "output_type": "stream",
          "name": "stdout",
          "text": [
            "Accuracy: 0.9050661798265632\n"
          ]
        }
      ]
    },
    {
      "cell_type": "code",
      "source": [
        "feature_importance = pd.Series(clf.feature_importances_, index=X.columns).sort_values(ascending=False)\n",
        "feature_importance"
      ],
      "metadata": {
        "colab": {
          "base_uri": "https://localhost:8080/"
        },
        "id": "2aKRK1RGrtF0",
        "outputId": "83ba6f18-5654-44e5-e5e1-7985fb0824b1"
      },
      "id": "2aKRK1RGrtF0",
      "execution_count": 238,
      "outputs": [
        {
          "output_type": "execute_result",
          "data": {
            "text/plain": [
              "forecast_meter_rent_12m                           1.729992e-01\n",
              "margin_gross_pow_ele                              1.714284e-01\n",
              "date_activ_dif                                    1.699488e-01\n",
              "date_modif_prod_dif                               1.497120e-01\n",
              "offpeak_diff_dec_january_energy                   1.180521e-01\n",
              "avg_pr_ttl_lst_mn                                 1.118589e-01\n",
              "offpeak_diff_dec_january_power                    4.480661e-02\n",
              "channel_sales_foosdfpfkusacimwkcsosbicdxkicaua    1.169522e-02\n",
              "origin_up_lxidpiddsbxsbosboudacockeimpuepw        7.745062e-03\n",
              "origin_up_kamkkxfxxuwbdslkwifmmcsiusiuosws        7.688006e-03\n",
              "channel_sales_MISSING                             7.236545e-03\n",
              "channel_sales_usilxuppasemubllopkaafesmlibmsdf    7.128070e-03\n",
              "origin_up_ldkssxwpmemidmecebumciepifcamkci        7.036156e-03\n",
              "channel_sales_lmkebamcaaclubfxadlmueccxoimlema    6.177585e-03\n",
              "channel_sales_ewpakwlliwisiwduibdlfmalxowmwpci    5.498615e-03\n",
              "origin_up_MISSING                                 9.167974e-04\n",
              "channel_sales_sddiedcslfslkckwlfkdpoeeailfpeds    5.521119e-05\n",
              "channel_sales_epumfxlbckeskwekxbiuasklxalciiuu    8.543901e-06\n",
              "origin_up_usapbepcfoloekilkwsdiboslwaxobdp        7.874988e-06\n",
              "channel_sales_fixdbufsefwooaasfcxdxadsiekoceaa    2.544769e-07\n",
              "origin_up_ewxeelcelemmiwuafmddpobolfuxioce        0.000000e+00\n",
              "dtype: float64"
            ]
          },
          "metadata": {},
          "execution_count": 238
        }
      ]
    },
    {
      "cell_type": "code",
      "source": [
        "sns.barplot(x=feature_importance, y=feature_importance.index)"
      ],
      "metadata": {
        "colab": {
          "base_uri": "https://localhost:8080/",
          "height": 286
        },
        "id": "KXhgddAhtjoz",
        "outputId": "000f475b-af32-4113-ca53-8fb19a841621"
      },
      "id": "KXhgddAhtjoz",
      "execution_count": 239,
      "outputs": [
        {
          "output_type": "execute_result",
          "data": {
            "text/plain": [
              "<matplotlib.axes._subplots.AxesSubplot at 0x7f0680923850>"
            ]
          },
          "metadata": {},
          "execution_count": 239
        },
        {
          "output_type": "display_data",
          "data": {
            "image/png": "[encoded data removed]",
            "text/plain": [
              "<Figure size 432x288 with 1 Axes>"
            ]
          },
          "metadata": {}
        }
      ]
    },
    {
      "cell_type": "code",
      "source": [
        "df_ft_disc = df_ft.loc[df_ft['churn']==1]\n",
        "df_ft_disc.head()\n"
      ],
      "metadata": {
        "colab": {
          "base_uri": "https://localhost:8080/",
          "height": 226
        },
        "id": "h0CbDfVVtjmy",
        "outputId": "2789d33b-5ddf-4742-c728-9dc8f5cd84b1"
      },
      "id": "h0CbDfVVtjmy",
      "execution_count": 240,
      "outputs": [
        {
          "output_type": "execute_result",
          "data": {
            "text/html": [
              "<div>\n",
              "<style scoped>\n",
              "    .dataframe tbody tr th:only-of-type {\n",
              "        vertical-align: middle;\n",
              "    }\n",
              "\n",
              "    .dataframe tbody tr th {\n",
              "        vertical-align: top;\n",
              "    }\n",
              "\n",
              "    .dataframe thead th {\n",
              "        text-align: right;\n",
              "    }\n",
              "</style>\n",
              "<table border=\"1\" class=\"dataframe\">\n",
              "  <thead>\n",
              "    <tr style=\"text-align: right;\">\n",
              "      <th></th>\n",
              "      <th>offpeak_diff_dec_january_energy</th>\n",
              "      <th>offpeak_diff_dec_january_power</th>\n",
              "      <th>avg_pr_ttl_lst_mn</th>\n",
              "      <th>forecast_meter_rent_12m</th>\n",
              "      <th>margin_gross_pow_ele</th>\n",
              "      <th>churn</th>\n",
              "      <th>date_activ_dif</th>\n",
              "      <th>date_modif_prod_dif</th>\n",
              "      <th>channel_sales_MISSING</th>\n",
              "      <th>channel_sales_epumfxlbckeskwekxbiuasklxalciiuu</th>\n",
              "      <th>channel_sales_ewpakwlliwisiwduibdlfmalxowmwpci</th>\n",
              "      <th>channel_sales_fixdbufsefwooaasfcxdxadsiekoceaa</th>\n",
              "      <th>channel_sales_foosdfpfkusacimwkcsosbicdxkicaua</th>\n",
              "      <th>channel_sales_lmkebamcaaclubfxadlmueccxoimlema</th>\n",
              "      <th>channel_sales_sddiedcslfslkckwlfkdpoeeailfpeds</th>\n",
              "      <th>channel_sales_usilxuppasemubllopkaafesmlibmsdf</th>\n",
              "      <th>origin_up_MISSING</th>\n",
              "      <th>origin_up_ewxeelcelemmiwuafmddpobolfuxioce</th>\n",
              "      <th>origin_up_kamkkxfxxuwbdslkwifmmcsiusiuosws</th>\n",
              "      <th>origin_up_ldkssxwpmemidmecebumciepifcamkci</th>\n",
              "      <th>origin_up_lxidpiddsbxsbosboudacockeimpuepw</th>\n",
              "      <th>origin_up_usapbepcfoloekilkwsdiboslwaxobdp</th>\n",
              "    </tr>\n",
              "  </thead>\n",
              "  <tbody>\n",
              "    <tr>\n",
              "      <th>7</th>\n",
              "      <td>0.118869</td>\n",
              "      <td>14.939999</td>\n",
              "      <td>59.482054</td>\n",
              "      <td>18.37</td>\n",
              "      <td>197.28</td>\n",
              "      <td>1</td>\n",
              "      <td>588</td>\n",
              "      <td>1103</td>\n",
              "      <td>0</td>\n",
              "      <td>0</td>\n",
              "      <td>0</td>\n",
              "      <td>0</td>\n",
              "      <td>1</td>\n",
              "      <td>0</td>\n",
              "      <td>0</td>\n",
              "      <td>0</td>\n",
              "      <td>0</td>\n",
              "      <td>0</td>\n",
              "      <td>0</td>\n",
              "      <td>0</td>\n",
              "      <td>1</td>\n",
              "      <td>0</td>\n",
              "    </tr>\n",
              "    <tr>\n",
              "      <th>8</th>\n",
              "      <td>-0.010039</td>\n",
              "      <td>0.177779</td>\n",
              "      <td>44.584882</td>\n",
              "      <td>19.41</td>\n",
              "      <td>22.95</td>\n",
              "      <td>1</td>\n",
              "      <td>1812</td>\n",
              "      <td>214</td>\n",
              "      <td>1</td>\n",
              "      <td>0</td>\n",
              "      <td>0</td>\n",
              "      <td>0</td>\n",
              "      <td>0</td>\n",
              "      <td>0</td>\n",
              "      <td>0</td>\n",
              "      <td>0</td>\n",
              "      <td>0</td>\n",
              "      <td>0</td>\n",
              "      <td>1</td>\n",
              "      <td>0</td>\n",
              "      <td>0</td>\n",
              "      <td>0</td>\n",
              "    </tr>\n",
              "    <tr>\n",
              "      <th>38</th>\n",
              "      <td>0.039823</td>\n",
              "      <td>0.662916</td>\n",
              "      <td>83.360183</td>\n",
              "      <td>131.39</td>\n",
              "      <td>70.12</td>\n",
              "      <td>1</td>\n",
              "      <td>542</td>\n",
              "      <td>281</td>\n",
              "      <td>0</td>\n",
              "      <td>0</td>\n",
              "      <td>0</td>\n",
              "      <td>0</td>\n",
              "      <td>1</td>\n",
              "      <td>0</td>\n",
              "      <td>0</td>\n",
              "      <td>0</td>\n",
              "      <td>0</td>\n",
              "      <td>0</td>\n",
              "      <td>0</td>\n",
              "      <td>1</td>\n",
              "      <td>0</td>\n",
              "      <td>0</td>\n",
              "    </tr>\n",
              "    <tr>\n",
              "      <th>63</th>\n",
              "      <td>-0.008161</td>\n",
              "      <td>0.000004</td>\n",
              "      <td>81.436433</td>\n",
              "      <td>129.95</td>\n",
              "      <td>27.70</td>\n",
              "      <td>1</td>\n",
              "      <td>978</td>\n",
              "      <td>1493</td>\n",
              "      <td>0</td>\n",
              "      <td>0</td>\n",
              "      <td>0</td>\n",
              "      <td>0</td>\n",
              "      <td>1</td>\n",
              "      <td>0</td>\n",
              "      <td>0</td>\n",
              "      <td>0</td>\n",
              "      <td>0</td>\n",
              "      <td>0</td>\n",
              "      <td>0</td>\n",
              "      <td>0</td>\n",
              "      <td>1</td>\n",
              "      <td>0</td>\n",
              "    </tr>\n",
              "    <tr>\n",
              "      <th>70</th>\n",
              "      <td>-0.007273</td>\n",
              "      <td>0.000004</td>\n",
              "      <td>81.436433</td>\n",
              "      <td>169.88</td>\n",
              "      <td>119.88</td>\n",
              "      <td>1</td>\n",
              "      <td>577</td>\n",
              "      <td>1092</td>\n",
              "      <td>0</td>\n",
              "      <td>0</td>\n",
              "      <td>0</td>\n",
              "      <td>0</td>\n",
              "      <td>1</td>\n",
              "      <td>0</td>\n",
              "      <td>0</td>\n",
              "      <td>0</td>\n",
              "      <td>0</td>\n",
              "      <td>0</td>\n",
              "      <td>0</td>\n",
              "      <td>0</td>\n",
              "      <td>1</td>\n",
              "      <td>0</td>\n",
              "    </tr>\n",
              "  </tbody>\n",
              "</table>\n",
              "</div>"
            ],
            "text/plain": [
              "    offpeak_diff_dec_january_energy  ...  origin_up_usapbepcfoloekilkwsdiboslwaxobdp\n",
              "7                          0.118869  ...                                           0\n",
              "8                         -0.010039  ...                                           0\n",
              "38                         0.039823  ...                                           0\n",
              "63                        -0.008161  ...                                           0\n",
              "70                        -0.007273  ...                                           0\n",
              "\n",
              "[5 rows x 22 columns]"
            ]
          },
          "metadata": {},
          "execution_count": 240
        }
      ]
    },
    {
      "cell_type": "code",
      "source": [
        "df_ft_disc['margin_gross_pow_ele'] = 0.8 * df_ft_disc['margin_gross_pow_ele']\n",
        "df_ft_disc['offpeak_diff_dec_january_power'] = 0.8 * df_ft_disc['offpeak_diff_dec_january_power']\n",
        "df_ft_disc['offpeak_diff_dec_january_energy'] = 0.8 * df_ft_disc['offpeak_diff_dec_january_energy']\n",
        "df_ft_disc.head()"
      ],
      "metadata": {
        "colab": {
          "base_uri": "https://localhost:8080/",
          "height": 226
        },
        "id": "c1alAXq5u99E",
        "outputId": "791b35dd-38c7-4f2e-bb80-78dc4a9efcf8"
      },
      "id": "c1alAXq5u99E",
      "execution_count": 241,
      "outputs": [
        {
          "output_type": "execute_result",
          "data": {
            "text/html": [
              "<div>\n",
              "<style scoped>\n",
              "    .dataframe tbody tr th:only-of-type {\n",
              "        vertical-align: middle;\n",
              "    }\n",
              "\n",
              "    .dataframe tbody tr th {\n",
              "        vertical-align: top;\n",
              "    }\n",
              "\n",
              "    .dataframe thead th {\n",
              "        text-align: right;\n",
              "    }\n",
              "</style>\n",
              "<table border=\"1\" class=\"dataframe\">\n",
              "  <thead>\n",
              "    <tr style=\"text-align: right;\">\n",
              "      <th></th>\n",
              "      <th>offpeak_diff_dec_january_energy</th>\n",
              "      <th>offpeak_diff_dec_january_power</th>\n",
              "      <th>avg_pr_ttl_lst_mn</th>\n",
              "      <th>forecast_meter_rent_12m</th>\n",
              "      <th>margin_gross_pow_ele</th>\n",
              "      <th>churn</th>\n",
              "      <th>date_activ_dif</th>\n",
              "      <th>date_modif_prod_dif</th>\n",
              "      <th>channel_sales_MISSING</th>\n",
              "      <th>channel_sales_epumfxlbckeskwekxbiuasklxalciiuu</th>\n",
              "      <th>channel_sales_ewpakwlliwisiwduibdlfmalxowmwpci</th>\n",
              "      <th>channel_sales_fixdbufsefwooaasfcxdxadsiekoceaa</th>\n",
              "      <th>channel_sales_foosdfpfkusacimwkcsosbicdxkicaua</th>\n",
              "      <th>channel_sales_lmkebamcaaclubfxadlmueccxoimlema</th>\n",
              "      <th>channel_sales_sddiedcslfslkckwlfkdpoeeailfpeds</th>\n",
              "      <th>channel_sales_usilxuppasemubllopkaafesmlibmsdf</th>\n",
              "      <th>origin_up_MISSING</th>\n",
              "      <th>origin_up_ewxeelcelemmiwuafmddpobolfuxioce</th>\n",
              "      <th>origin_up_kamkkxfxxuwbdslkwifmmcsiusiuosws</th>\n",
              "      <th>origin_up_ldkssxwpmemidmecebumciepifcamkci</th>\n",
              "      <th>origin_up_lxidpiddsbxsbosboudacockeimpuepw</th>\n",
              "      <th>origin_up_usapbepcfoloekilkwsdiboslwaxobdp</th>\n",
              "    </tr>\n",
              "  </thead>\n",
              "  <tbody>\n",
              "    <tr>\n",
              "      <th>7</th>\n",
              "      <td>0.095095</td>\n",
              "      <td>11.951999</td>\n",
              "      <td>59.482054</td>\n",
              "      <td>18.37</td>\n",
              "      <td>157.824</td>\n",
              "      <td>1</td>\n",
              "      <td>588</td>\n",
              "      <td>1103</td>\n",
              "      <td>0</td>\n",
              "      <td>0</td>\n",
              "      <td>0</td>\n",
              "      <td>0</td>\n",
              "      <td>1</td>\n",
              "      <td>0</td>\n",
              "      <td>0</td>\n",
              "      <td>0</td>\n",
              "      <td>0</td>\n",
              "      <td>0</td>\n",
              "      <td>0</td>\n",
              "      <td>0</td>\n",
              "      <td>1</td>\n",
              "      <td>0</td>\n",
              "    </tr>\n",
              "    <tr>\n",
              "      <th>8</th>\n",
              "      <td>-0.008031</td>\n",
              "      <td>0.142223</td>\n",
              "      <td>44.584882</td>\n",
              "      <td>19.41</td>\n",
              "      <td>18.360</td>\n",
              "      <td>1</td>\n",
              "      <td>1812</td>\n",
              "      <td>214</td>\n",
              "      <td>1</td>\n",
              "      <td>0</td>\n",
              "      <td>0</td>\n",
              "      <td>0</td>\n",
              "      <td>0</td>\n",
              "      <td>0</td>\n",
              "      <td>0</td>\n",
              "      <td>0</td>\n",
              "      <td>0</td>\n",
              "      <td>0</td>\n",
              "      <td>1</td>\n",
              "      <td>0</td>\n",
              "      <td>0</td>\n",
              "      <td>0</td>\n",
              "    </tr>\n",
              "    <tr>\n",
              "      <th>38</th>\n",
              "      <td>0.031858</td>\n",
              "      <td>0.530333</td>\n",
              "      <td>83.360183</td>\n",
              "      <td>131.39</td>\n",
              "      <td>56.096</td>\n",
              "      <td>1</td>\n",
              "      <td>542</td>\n",
              "      <td>281</td>\n",
              "      <td>0</td>\n",
              "      <td>0</td>\n",
              "      <td>0</td>\n",
              "      <td>0</td>\n",
              "      <td>1</td>\n",
              "      <td>0</td>\n",
              "      <td>0</td>\n",
              "      <td>0</td>\n",
              "      <td>0</td>\n",
              "      <td>0</td>\n",
              "      <td>0</td>\n",
              "      <td>1</td>\n",
              "      <td>0</td>\n",
              "      <td>0</td>\n",
              "    </tr>\n",
              "    <tr>\n",
              "      <th>63</th>\n",
              "      <td>-0.006529</td>\n",
              "      <td>0.000003</td>\n",
              "      <td>81.436433</td>\n",
              "      <td>129.95</td>\n",
              "      <td>22.160</td>\n",
              "      <td>1</td>\n",
              "      <td>978</td>\n",
              "      <td>1493</td>\n",
              "      <td>0</td>\n",
              "      <td>0</td>\n",
              "      <td>0</td>\n",
              "      <td>0</td>\n",
              "      <td>1</td>\n",
              "      <td>0</td>\n",
              "      <td>0</td>\n",
              "      <td>0</td>\n",
              "      <td>0</td>\n",
              "      <td>0</td>\n",
              "      <td>0</td>\n",
              "      <td>0</td>\n",
              "      <td>1</td>\n",
              "      <td>0</td>\n",
              "    </tr>\n",
              "    <tr>\n",
              "      <th>70</th>\n",
              "      <td>-0.005818</td>\n",
              "      <td>0.000003</td>\n",
              "      <td>81.436433</td>\n",
              "      <td>169.88</td>\n",
              "      <td>95.904</td>\n",
              "      <td>1</td>\n",
              "      <td>577</td>\n",
              "      <td>1092</td>\n",
              "      <td>0</td>\n",
              "      <td>0</td>\n",
              "      <td>0</td>\n",
              "      <td>0</td>\n",
              "      <td>1</td>\n",
              "      <td>0</td>\n",
              "      <td>0</td>\n",
              "      <td>0</td>\n",
              "      <td>0</td>\n",
              "      <td>0</td>\n",
              "      <td>0</td>\n",
              "      <td>0</td>\n",
              "      <td>1</td>\n",
              "      <td>0</td>\n",
              "    </tr>\n",
              "  </tbody>\n",
              "</table>\n",
              "</div>"
            ],
            "text/plain": [
              "    offpeak_diff_dec_january_energy  ...  origin_up_usapbepcfoloekilkwsdiboslwaxobdp\n",
              "7                          0.095095  ...                                           0\n",
              "8                         -0.008031  ...                                           0\n",
              "38                         0.031858  ...                                           0\n",
              "63                        -0.006529  ...                                           0\n",
              "70                        -0.005818  ...                                           0\n",
              "\n",
              "[5 rows x 22 columns]"
            ]
          },
          "metadata": {},
          "execution_count": 241
        }
      ]
    },
    {
      "cell_type": "code",
      "source": [
        "X_test.shape\n",
        "# X_test.columns"
      ],
      "metadata": {
        "colab": {
          "base_uri": "https://localhost:8080/"
        },
        "id": "H-Qv_40szeXk",
        "outputId": "5ae4be4e-584c-4ff0-e084-1d195939c6cd"
      },
      "id": "H-Qv_40szeXk",
      "execution_count": 242,
      "outputs": [
        {
          "output_type": "execute_result",
          "data": {
            "text/plain": [
              "(4382, 21)"
            ]
          },
          "metadata": {},
          "execution_count": 242
        }
      ]
    },
    {
      "cell_type": "code",
      "source": [
        "X_disc = df_ft_disc[df_ft_disc.columns.difference(['churn'])]\n",
        "X_disc.shape\n",
        "# X_disc.columns"
      ],
      "metadata": {
        "colab": {
          "base_uri": "https://localhost:8080/"
        },
        "id": "wZOPT9h0zifG",
        "outputId": "0701204a-798c-492a-d1b5-3fb79ca32db5"
      },
      "id": "wZOPT9h0zifG",
      "execution_count": 243,
      "outputs": [
        {
          "output_type": "execute_result",
          "data": {
            "text/plain": [
              "(1419, 21)"
            ]
          },
          "metadata": {},
          "execution_count": 243
        }
      ]
    },
    {
      "cell_type": "code",
      "source": [
        "\n",
        "\n",
        "y_pred_disc = clf.predict(X_disc)\n",
        "\n",
        "y_pred_disc"
      ],
      "metadata": {
        "colab": {
          "base_uri": "https://localhost:8080/"
        },
        "id": "-HPZVLDpzCny",
        "outputId": "3c8f76a1-52cd-4264-f657-b11f94571124"
      },
      "id": "-HPZVLDpzCny",
      "execution_count": 244,
      "outputs": [
        {
          "output_type": "execute_result",
          "data": {
            "text/plain": [
              "array([1, 0, 0, ..., 0, 0, 0])"
            ]
          },
          "metadata": {},
          "execution_count": 244
        }
      ]
    },
    {
      "cell_type": "code",
      "source": [
        "unique, counts = np.unique(y_pred_disc, return_counts=True)\n",
        "dict(zip(unique, counts))"
      ],
      "metadata": {
        "colab": {
          "base_uri": "https://localhost:8080/"
        },
        "id": "8Lghczc105Dz",
        "outputId": "1a52f0ca-3a3e-4bc0-e656-8d01388b0f4d"
      },
      "id": "8Lghczc105Dz",
      "execution_count": 252,
      "outputs": [
        {
          "output_type": "execute_result",
          "data": {
            "text/plain": [
              "{0: 1317, 1: 102}"
            ]
          },
          "metadata": {},
          "execution_count": 252
        }
      ]
    },
    {
      "cell_type": "markdown",
      "source": [
        "100* 1317/1419 = 93%\n",
        "\n",
        "In conclusion, according to the classification model, if the churned customers had been given 20% discount, 93% of them would not had churned. So the 20% discount would decrease the churn by 93%."
      ],
      "metadata": {
        "id": "bcHdXUIF2EEu"
      },
      "id": "bcHdXUIF2EEu"
    }
  ],
  "metadata": {
    "interpreter": {
      "hash": "152bf6e7dc8ee53edb5af21dc1a8faeab7f134840808a94079ed98d91ece7e0c"
    },
    "kernelspec": {
      "display_name": "Python 3",
      "language": "python",
      "name": "python3"
    },
    "language_info": {
      "codemirror_mode": {
        "name": "ipython",
        "version": 3
      },
      "file_extension": ".py",
      "mimetype": "text/x-python",
      "name": "python",
      "nbconvert_exporter": "python",
      "pygments_lexer": "ipython3",
      "version": "3.7.9"
    },
    "colab": {
      "name": "BCG_eda_feature_engineering.ipynb",
      "provenance": [],
      "collapsed_sections": [],
      "include_colab_link": true
    }
  },
  "nbformat": 4,
  "nbformat_minor": 5
}