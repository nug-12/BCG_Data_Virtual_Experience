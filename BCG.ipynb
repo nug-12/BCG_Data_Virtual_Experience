{
  "cells": [
    {
      "cell_type": "markdown",
      "metadata": {
        "id": "view-in-github",
        "colab_type": "text"
      },
      "source": [
        "<a href=\"https://colab.research.google.com/github/nugi1209/BCG_Data_Virtual_Experience/blob/main/BCG.ipynb\" target=\"_parent\"><img src=\"https://colab.research.google.com/assets/colab-badge.svg\" alt=\"Open In Colab\"/></a>"
      ]
    },
    {
      "cell_type": "markdown",
      "id": "a207638d-2d90-4a41-81e0-f86b35a174f9",
      "metadata": {
        "id": "a207638d-2d90-4a41-81e0-f86b35a174f9"
      },
      "source": [
        "# Exploratory Data Analysis Starter\n",
        "\n",
        "## Import packages"
      ]
    },
    {
      "cell_type": "code",
      "execution_count": 182,
      "id": "21fa22a3-62fc-4ee9-ad3b-5e3fbc059bdf",
      "metadata": {
        "id": "21fa22a3-62fc-4ee9-ad3b-5e3fbc059bdf"
      },
      "outputs": [],
      "source": [
        "import matplotlib.pyplot as plt\n",
        "import seaborn as sns\n",
        "import pandas as pd\n",
        "\n",
        "# Shows plots in jupyter notebook\n",
        "%matplotlib inline\n",
        "\n",
        "# Set plot style\n",
        "sns.set(color_codes=True)"
      ]
    },
    {
      "cell_type": "markdown",
      "id": "88cb5312-cbc0-4193-b84e-2c94455c9edf",
      "metadata": {
        "id": "88cb5312-cbc0-4193-b84e-2c94455c9edf"
      },
      "source": [
        "---\n",
        "\n",
        "## Loading data with Pandas\n",
        "\n",
        "We need to load `client_data.csv` and `price_data.csv` into individual dataframes so that we can work with them in Python. For this notebook and all further notebooks, it will be assumed that the CSV files will the placed in the same file location as the notebook. If they are not, please adjust the directory within the `read_csv` method accordingly."
      ]
    },
    {
      "cell_type": "code",
      "execution_count": 183,
      "id": "82e6a4ae-2b8a-4152-b04f-0c998466fd50",
      "metadata": {
        "id": "82e6a4ae-2b8a-4152-b04f-0c998466fd50"
      },
      "outputs": [],
      "source": [
        "client_df = pd.read_csv('https://github.com/nugi1209/BCG_Data_Virtual_Experience/blob/main/client_data.csv?raw=true')\n",
        "price_df = pd.read_csv('https://github.com/nugi1209/BCG_Data_Virtual_Experience/blob/main/price_data.csv?raw=true')"
      ]
    },
    {
      "cell_type": "markdown",
      "id": "4ac7aaab-7c26-40ca-8f63-cf2ef9541ce6",
      "metadata": {
        "id": "4ac7aaab-7c26-40ca-8f63-cf2ef9541ce6"
      },
      "source": [
        "You can view the first 3 rows of a dataframe using the `head` method. Similarly, if you wanted to see the last 3, you can use `tail(3)`"
      ]
    },
    {
      "cell_type": "code",
      "execution_count": 184,
      "id": "dcf0d488-d3df-4819-a52b-e335c0674e43",
      "metadata": {
        "colab": {
          "base_uri": "https://localhost:8080/",
          "height": 215
        },
        "id": "dcf0d488-d3df-4819-a52b-e335c0674e43",
        "outputId": "6c198df1-e82c-4d7e-9aee-677f880a2902"
      },
      "outputs": [
        {
          "output_type": "execute_result",
          "data": {
            "text/html": [
              "<div>\n",
              "<style scoped>\n",
              "    .dataframe tbody tr th:only-of-type {\n",
              "        vertical-align: middle;\n",
              "    }\n",
              "\n",
              "    .dataframe tbody tr th {\n",
              "        vertical-align: top;\n",
              "    }\n",
              "\n",
              "    .dataframe thead th {\n",
              "        text-align: right;\n",
              "    }\n",
              "</style>\n",
              "<table border=\"1\" class=\"dataframe\">\n",
              "  <thead>\n",
              "    <tr style=\"text-align: right;\">\n",
              "      <th></th>\n",
              "      <th>id</th>\n",
              "      <th>channel_sales</th>\n",
              "      <th>cons_12m</th>\n",
              "      <th>cons_gas_12m</th>\n",
              "      <th>cons_last_month</th>\n",
              "      <th>date_activ</th>\n",
              "      <th>date_end</th>\n",
              "      <th>date_modif_prod</th>\n",
              "      <th>date_renewal</th>\n",
              "      <th>forecast_cons_12m</th>\n",
              "      <th>forecast_cons_year</th>\n",
              "      <th>forecast_discount_energy</th>\n",
              "      <th>forecast_meter_rent_12m</th>\n",
              "      <th>forecast_price_energy_off_peak</th>\n",
              "      <th>forecast_price_energy_peak</th>\n",
              "      <th>forecast_price_pow_off_peak</th>\n",
              "      <th>has_gas</th>\n",
              "      <th>imp_cons</th>\n",
              "      <th>margin_gross_pow_ele</th>\n",
              "      <th>margin_net_pow_ele</th>\n",
              "      <th>nb_prod_act</th>\n",
              "      <th>net_margin</th>\n",
              "      <th>num_years_antig</th>\n",
              "      <th>origin_up</th>\n",
              "      <th>pow_max</th>\n",
              "      <th>churn</th>\n",
              "    </tr>\n",
              "  </thead>\n",
              "  <tbody>\n",
              "    <tr>\n",
              "      <th>0</th>\n",
              "      <td>24011ae4ebbe3035111d65fa7c15bc57</td>\n",
              "      <td>foosdfpfkusacimwkcsosbicdxkicaua</td>\n",
              "      <td>0</td>\n",
              "      <td>54946</td>\n",
              "      <td>0</td>\n",
              "      <td>2013-06-15</td>\n",
              "      <td>2016-06-15</td>\n",
              "      <td>2015-11-01</td>\n",
              "      <td>2015-06-23</td>\n",
              "      <td>0.00</td>\n",
              "      <td>0</td>\n",
              "      <td>0.0</td>\n",
              "      <td>1.78</td>\n",
              "      <td>0.114481</td>\n",
              "      <td>0.098142</td>\n",
              "      <td>40.606701</td>\n",
              "      <td>t</td>\n",
              "      <td>0.0</td>\n",
              "      <td>25.44</td>\n",
              "      <td>25.44</td>\n",
              "      <td>2</td>\n",
              "      <td>678.99</td>\n",
              "      <td>3</td>\n",
              "      <td>lxidpiddsbxsbosboudacockeimpuepw</td>\n",
              "      <td>43.648</td>\n",
              "      <td>1</td>\n",
              "    </tr>\n",
              "    <tr>\n",
              "      <th>1</th>\n",
              "      <td>d29c2c54acc38ff3c0614d0a653813dd</td>\n",
              "      <td>MISSING</td>\n",
              "      <td>4660</td>\n",
              "      <td>0</td>\n",
              "      <td>0</td>\n",
              "      <td>2009-08-21</td>\n",
              "      <td>2016-08-30</td>\n",
              "      <td>2009-08-21</td>\n",
              "      <td>2015-08-31</td>\n",
              "      <td>189.95</td>\n",
              "      <td>0</td>\n",
              "      <td>0.0</td>\n",
              "      <td>16.27</td>\n",
              "      <td>0.145711</td>\n",
              "      <td>0.000000</td>\n",
              "      <td>44.311378</td>\n",
              "      <td>f</td>\n",
              "      <td>0.0</td>\n",
              "      <td>16.38</td>\n",
              "      <td>16.38</td>\n",
              "      <td>1</td>\n",
              "      <td>18.89</td>\n",
              "      <td>6</td>\n",
              "      <td>kamkkxfxxuwbdslkwifmmcsiusiuosws</td>\n",
              "      <td>13.800</td>\n",
              "      <td>0</td>\n",
              "    </tr>\n",
              "    <tr>\n",
              "      <th>2</th>\n",
              "      <td>764c75f661154dac3a6c254cd082ea7d</td>\n",
              "      <td>foosdfpfkusacimwkcsosbicdxkicaua</td>\n",
              "      <td>544</td>\n",
              "      <td>0</td>\n",
              "      <td>0</td>\n",
              "      <td>2010-04-16</td>\n",
              "      <td>2016-04-16</td>\n",
              "      <td>2010-04-16</td>\n",
              "      <td>2015-04-17</td>\n",
              "      <td>47.96</td>\n",
              "      <td>0</td>\n",
              "      <td>0.0</td>\n",
              "      <td>38.72</td>\n",
              "      <td>0.165794</td>\n",
              "      <td>0.087899</td>\n",
              "      <td>44.311378</td>\n",
              "      <td>f</td>\n",
              "      <td>0.0</td>\n",
              "      <td>28.60</td>\n",
              "      <td>28.60</td>\n",
              "      <td>1</td>\n",
              "      <td>6.60</td>\n",
              "      <td>6</td>\n",
              "      <td>kamkkxfxxuwbdslkwifmmcsiusiuosws</td>\n",
              "      <td>13.856</td>\n",
              "      <td>0</td>\n",
              "    </tr>\n",
              "  </tbody>\n",
              "</table>\n",
              "</div>"
            ],
            "text/plain": [
              "                                 id  ... churn\n",
              "0  24011ae4ebbe3035111d65fa7c15bc57  ...     1\n",
              "1  d29c2c54acc38ff3c0614d0a653813dd  ...     0\n",
              "2  764c75f661154dac3a6c254cd082ea7d  ...     0\n",
              "\n",
              "[3 rows x 26 columns]"
            ]
          },
          "metadata": {},
          "execution_count": 184
        }
      ],
      "source": [
        "client_df.head(3)"
      ]
    },
    {
      "cell_type": "code",
      "execution_count": 185,
      "id": "2654a02d-8cf3-4a18-903e-b4f7f95d8e9e",
      "metadata": {
        "colab": {
          "base_uri": "https://localhost:8080/",
          "height": 226
        },
        "id": "2654a02d-8cf3-4a18-903e-b4f7f95d8e9e",
        "outputId": "e8e7f91a-82a0-4ee3-c8ae-be0270749c69"
      },
      "outputs": [
        {
          "output_type": "execute_result",
          "data": {
            "text/html": [
              "<div>\n",
              "<style scoped>\n",
              "    .dataframe tbody tr th:only-of-type {\n",
              "        vertical-align: middle;\n",
              "    }\n",
              "\n",
              "    .dataframe tbody tr th {\n",
              "        vertical-align: top;\n",
              "    }\n",
              "\n",
              "    .dataframe thead th {\n",
              "        text-align: right;\n",
              "    }\n",
              "</style>\n",
              "<table border=\"1\" class=\"dataframe\">\n",
              "  <thead>\n",
              "    <tr style=\"text-align: right;\">\n",
              "      <th></th>\n",
              "      <th>id</th>\n",
              "      <th>price_date</th>\n",
              "      <th>price_off_peak_var</th>\n",
              "      <th>price_peak_var</th>\n",
              "      <th>price_mid_peak_var</th>\n",
              "      <th>price_off_peak_fix</th>\n",
              "      <th>price_peak_fix</th>\n",
              "      <th>price_mid_peak_fix</th>\n",
              "    </tr>\n",
              "  </thead>\n",
              "  <tbody>\n",
              "    <tr>\n",
              "      <th>0</th>\n",
              "      <td>038af19179925da21a25619c5a24b745</td>\n",
              "      <td>2015-01-01</td>\n",
              "      <td>0.151367</td>\n",
              "      <td>0.0</td>\n",
              "      <td>0.0</td>\n",
              "      <td>44.266931</td>\n",
              "      <td>0.0</td>\n",
              "      <td>0.0</td>\n",
              "    </tr>\n",
              "    <tr>\n",
              "      <th>1</th>\n",
              "      <td>038af19179925da21a25619c5a24b745</td>\n",
              "      <td>2015-02-01</td>\n",
              "      <td>0.151367</td>\n",
              "      <td>0.0</td>\n",
              "      <td>0.0</td>\n",
              "      <td>44.266931</td>\n",
              "      <td>0.0</td>\n",
              "      <td>0.0</td>\n",
              "    </tr>\n",
              "    <tr>\n",
              "      <th>2</th>\n",
              "      <td>038af19179925da21a25619c5a24b745</td>\n",
              "      <td>2015-03-01</td>\n",
              "      <td>0.151367</td>\n",
              "      <td>0.0</td>\n",
              "      <td>0.0</td>\n",
              "      <td>44.266931</td>\n",
              "      <td>0.0</td>\n",
              "      <td>0.0</td>\n",
              "    </tr>\n",
              "    <tr>\n",
              "      <th>3</th>\n",
              "      <td>038af19179925da21a25619c5a24b745</td>\n",
              "      <td>2015-04-01</td>\n",
              "      <td>0.149626</td>\n",
              "      <td>0.0</td>\n",
              "      <td>0.0</td>\n",
              "      <td>44.266931</td>\n",
              "      <td>0.0</td>\n",
              "      <td>0.0</td>\n",
              "    </tr>\n",
              "    <tr>\n",
              "      <th>4</th>\n",
              "      <td>038af19179925da21a25619c5a24b745</td>\n",
              "      <td>2015-05-01</td>\n",
              "      <td>0.149626</td>\n",
              "      <td>0.0</td>\n",
              "      <td>0.0</td>\n",
              "      <td>44.266931</td>\n",
              "      <td>0.0</td>\n",
              "      <td>0.0</td>\n",
              "    </tr>\n",
              "  </tbody>\n",
              "</table>\n",
              "</div>"
            ],
            "text/plain": [
              "                                 id  ... price_mid_peak_fix\n",
              "0  038af19179925da21a25619c5a24b745  ...                0.0\n",
              "1  038af19179925da21a25619c5a24b745  ...                0.0\n",
              "2  038af19179925da21a25619c5a24b745  ...                0.0\n",
              "3  038af19179925da21a25619c5a24b745  ...                0.0\n",
              "4  038af19179925da21a25619c5a24b745  ...                0.0\n",
              "\n",
              "[5 rows x 8 columns]"
            ]
          },
          "metadata": {},
          "execution_count": 185
        }
      ],
      "source": [
        "price_df.head(5)"
      ]
    },
    {
      "cell_type": "code",
      "source": [
        "client_df.shape"
      ],
      "metadata": {
        "colab": {
          "base_uri": "https://localhost:8080/"
        },
        "id": "fkRm0vytv1_Y",
        "outputId": "362fa644-8fd4-4fa8-9cd5-e48356e33499"
      },
      "id": "fkRm0vytv1_Y",
      "execution_count": 186,
      "outputs": [
        {
          "output_type": "execute_result",
          "data": {
            "text/plain": [
              "(14606, 26)"
            ]
          },
          "metadata": {},
          "execution_count": 186
        }
      ]
    },
    {
      "cell_type": "markdown",
      "id": "966c3948-41c0-4183-9118-dd665c58a93c",
      "metadata": {
        "id": "966c3948-41c0-4183-9118-dd665c58a93c"
      },
      "source": [
        "---\n",
        "\n",
        "## Descriptive statistics of data\n",
        "\n",
        "### Data types\n",
        "\n",
        "It is useful to first understand the data that you're dealing with along with the data types of each column. The data types may dictate how you transform and engineer features.\n",
        "\n",
        "To get an overview of the data types within a data frame, use the `info()` method."
      ]
    },
    {
      "cell_type": "code",
      "execution_count": 187,
      "id": "2dc75b07-c286-4852-bc33-e501782e67d9",
      "metadata": {
        "colab": {
          "base_uri": "https://localhost:8080/"
        },
        "id": "2dc75b07-c286-4852-bc33-e501782e67d9",
        "outputId": "aac8996c-42d5-4011-b3f7-cbdfe7d8bc79"
      },
      "outputs": [
        {
          "output_type": "stream",
          "name": "stdout",
          "text": [
            "<class 'pandas.core.frame.DataFrame'>\n",
            "RangeIndex: 14606 entries, 0 to 14605\n",
            "Data columns (total 26 columns):\n",
            " #   Column                          Non-Null Count  Dtype  \n",
            "---  ------                          --------------  -----  \n",
            " 0   id                              14606 non-null  object \n",
            " 1   channel_sales                   14606 non-null  object \n",
            " 2   cons_12m                        14606 non-null  int64  \n",
            " 3   cons_gas_12m                    14606 non-null  int64  \n",
            " 4   cons_last_month                 14606 non-null  int64  \n",
            " 5   date_activ                      14606 non-null  object \n",
            " 6   date_end                        14606 non-null  object \n",
            " 7   date_modif_prod                 14606 non-null  object \n",
            " 8   date_renewal                    14606 non-null  object \n",
            " 9   forecast_cons_12m               14606 non-null  float64\n",
            " 10  forecast_cons_year              14606 non-null  int64  \n",
            " 11  forecast_discount_energy        14606 non-null  float64\n",
            " 12  forecast_meter_rent_12m         14606 non-null  float64\n",
            " 13  forecast_price_energy_off_peak  14606 non-null  float64\n",
            " 14  forecast_price_energy_peak      14606 non-null  float64\n",
            " 15  forecast_price_pow_off_peak     14606 non-null  float64\n",
            " 16  has_gas                         14606 non-null  object \n",
            " 17  imp_cons                        14606 non-null  float64\n",
            " 18  margin_gross_pow_ele            14606 non-null  float64\n",
            " 19  margin_net_pow_ele              14606 non-null  float64\n",
            " 20  nb_prod_act                     14606 non-null  int64  \n",
            " 21  net_margin                      14606 non-null  float64\n",
            " 22  num_years_antig                 14606 non-null  int64  \n",
            " 23  origin_up                       14606 non-null  object \n",
            " 24  pow_max                         14606 non-null  float64\n",
            " 25  churn                           14606 non-null  int64  \n",
            "dtypes: float64(11), int64(7), object(8)\n",
            "memory usage: 2.9+ MB\n"
          ]
        }
      ],
      "source": [
        "client_df.info()"
      ]
    },
    {
      "cell_type": "code",
      "execution_count": 188,
      "id": "b67f2628-351a-48ee-b8ba-88c54042af88",
      "metadata": {
        "colab": {
          "base_uri": "https://localhost:8080/"
        },
        "id": "b67f2628-351a-48ee-b8ba-88c54042af88",
        "outputId": "7cbe2ea3-9511-4fee-b082-ab1f13552c50"
      },
      "outputs": [
        {
          "output_type": "stream",
          "name": "stdout",
          "text": [
            "<class 'pandas.core.frame.DataFrame'>\n",
            "RangeIndex: 193002 entries, 0 to 193001\n",
            "Data columns (total 8 columns):\n",
            " #   Column              Non-Null Count   Dtype  \n",
            "---  ------              --------------   -----  \n",
            " 0   id                  193002 non-null  object \n",
            " 1   price_date          193002 non-null  object \n",
            " 2   price_off_peak_var  193002 non-null  float64\n",
            " 3   price_peak_var      193002 non-null  float64\n",
            " 4   price_mid_peak_var  193002 non-null  float64\n",
            " 5   price_off_peak_fix  193002 non-null  float64\n",
            " 6   price_peak_fix      193002 non-null  float64\n",
            " 7   price_mid_peak_fix  193002 non-null  float64\n",
            "dtypes: float64(6), object(2)\n",
            "memory usage: 11.8+ MB\n"
          ]
        }
      ],
      "source": [
        "price_df.info()"
      ]
    },
    {
      "cell_type": "markdown",
      "id": "3d7e80c5-ef07-47a7-908a-a081b3ebd09e",
      "metadata": {
        "id": "3d7e80c5-ef07-47a7-908a-a081b3ebd09e"
      },
      "source": [
        "### Statistics\n",
        "\n",
        "Now let's look at some statistics about the datasets. We can do this by using the `describe()` method."
      ]
    },
    {
      "cell_type": "code",
      "execution_count": 189,
      "id": "60f3010c-ecaf-4b8a-bb87-93bb54cc0c7e",
      "metadata": {
        "colab": {
          "base_uri": "https://localhost:8080/",
          "height": 320
        },
        "id": "60f3010c-ecaf-4b8a-bb87-93bb54cc0c7e",
        "outputId": "b42121df-abb5-442f-ed3f-120986895919"
      },
      "outputs": [
        {
          "output_type": "execute_result",
          "data": {
            "text/html": [
              "<div>\n",
              "<style scoped>\n",
              "    .dataframe tbody tr th:only-of-type {\n",
              "        vertical-align: middle;\n",
              "    }\n",
              "\n",
              "    .dataframe tbody tr th {\n",
              "        vertical-align: top;\n",
              "    }\n",
              "\n",
              "    .dataframe thead th {\n",
              "        text-align: right;\n",
              "    }\n",
              "</style>\n",
              "<table border=\"1\" class=\"dataframe\">\n",
              "  <thead>\n",
              "    <tr style=\"text-align: right;\">\n",
              "      <th></th>\n",
              "      <th>cons_12m</th>\n",
              "      <th>cons_gas_12m</th>\n",
              "      <th>cons_last_month</th>\n",
              "      <th>forecast_cons_12m</th>\n",
              "      <th>forecast_cons_year</th>\n",
              "      <th>forecast_discount_energy</th>\n",
              "      <th>forecast_meter_rent_12m</th>\n",
              "      <th>forecast_price_energy_off_peak</th>\n",
              "      <th>forecast_price_energy_peak</th>\n",
              "      <th>forecast_price_pow_off_peak</th>\n",
              "      <th>imp_cons</th>\n",
              "      <th>margin_gross_pow_ele</th>\n",
              "      <th>margin_net_pow_ele</th>\n",
              "      <th>nb_prod_act</th>\n",
              "      <th>net_margin</th>\n",
              "      <th>num_years_antig</th>\n",
              "      <th>pow_max</th>\n",
              "      <th>churn</th>\n",
              "    </tr>\n",
              "  </thead>\n",
              "  <tbody>\n",
              "    <tr>\n",
              "      <th>count</th>\n",
              "      <td>1.460600e+04</td>\n",
              "      <td>1.460600e+04</td>\n",
              "      <td>14606.000000</td>\n",
              "      <td>14606.000000</td>\n",
              "      <td>14606.000000</td>\n",
              "      <td>14606.000000</td>\n",
              "      <td>14606.000000</td>\n",
              "      <td>14606.000000</td>\n",
              "      <td>14606.000000</td>\n",
              "      <td>14606.000000</td>\n",
              "      <td>14606.000000</td>\n",
              "      <td>14606.000000</td>\n",
              "      <td>14606.000000</td>\n",
              "      <td>14606.000000</td>\n",
              "      <td>14606.000000</td>\n",
              "      <td>14606.000000</td>\n",
              "      <td>14606.000000</td>\n",
              "      <td>14606.000000</td>\n",
              "    </tr>\n",
              "    <tr>\n",
              "      <th>mean</th>\n",
              "      <td>1.592203e+05</td>\n",
              "      <td>2.809238e+04</td>\n",
              "      <td>16090.269752</td>\n",
              "      <td>1868.614880</td>\n",
              "      <td>1399.762906</td>\n",
              "      <td>0.966726</td>\n",
              "      <td>63.086871</td>\n",
              "      <td>0.137283</td>\n",
              "      <td>0.050491</td>\n",
              "      <td>43.130056</td>\n",
              "      <td>152.786896</td>\n",
              "      <td>24.565121</td>\n",
              "      <td>24.562517</td>\n",
              "      <td>1.292346</td>\n",
              "      <td>189.264522</td>\n",
              "      <td>4.997809</td>\n",
              "      <td>18.135136</td>\n",
              "      <td>0.097152</td>\n",
              "    </tr>\n",
              "    <tr>\n",
              "      <th>std</th>\n",
              "      <td>5.734653e+05</td>\n",
              "      <td>1.629731e+05</td>\n",
              "      <td>64364.196422</td>\n",
              "      <td>2387.571531</td>\n",
              "      <td>3247.786255</td>\n",
              "      <td>5.108289</td>\n",
              "      <td>66.165783</td>\n",
              "      <td>0.024623</td>\n",
              "      <td>0.049037</td>\n",
              "      <td>4.485988</td>\n",
              "      <td>341.369366</td>\n",
              "      <td>20.231172</td>\n",
              "      <td>20.230280</td>\n",
              "      <td>0.709774</td>\n",
              "      <td>311.798130</td>\n",
              "      <td>1.611749</td>\n",
              "      <td>13.534743</td>\n",
              "      <td>0.296175</td>\n",
              "    </tr>\n",
              "    <tr>\n",
              "      <th>min</th>\n",
              "      <td>0.000000e+00</td>\n",
              "      <td>0.000000e+00</td>\n",
              "      <td>0.000000</td>\n",
              "      <td>0.000000</td>\n",
              "      <td>0.000000</td>\n",
              "      <td>0.000000</td>\n",
              "      <td>0.000000</td>\n",
              "      <td>0.000000</td>\n",
              "      <td>0.000000</td>\n",
              "      <td>0.000000</td>\n",
              "      <td>0.000000</td>\n",
              "      <td>0.000000</td>\n",
              "      <td>0.000000</td>\n",
              "      <td>1.000000</td>\n",
              "      <td>0.000000</td>\n",
              "      <td>1.000000</td>\n",
              "      <td>3.300000</td>\n",
              "      <td>0.000000</td>\n",
              "    </tr>\n",
              "    <tr>\n",
              "      <th>25%</th>\n",
              "      <td>5.674750e+03</td>\n",
              "      <td>0.000000e+00</td>\n",
              "      <td>0.000000</td>\n",
              "      <td>494.995000</td>\n",
              "      <td>0.000000</td>\n",
              "      <td>0.000000</td>\n",
              "      <td>16.180000</td>\n",
              "      <td>0.116340</td>\n",
              "      <td>0.000000</td>\n",
              "      <td>40.606701</td>\n",
              "      <td>0.000000</td>\n",
              "      <td>14.280000</td>\n",
              "      <td>14.280000</td>\n",
              "      <td>1.000000</td>\n",
              "      <td>50.712500</td>\n",
              "      <td>4.000000</td>\n",
              "      <td>12.500000</td>\n",
              "      <td>0.000000</td>\n",
              "    </tr>\n",
              "    <tr>\n",
              "      <th>50%</th>\n",
              "      <td>1.411550e+04</td>\n",
              "      <td>0.000000e+00</td>\n",
              "      <td>792.500000</td>\n",
              "      <td>1112.875000</td>\n",
              "      <td>314.000000</td>\n",
              "      <td>0.000000</td>\n",
              "      <td>18.795000</td>\n",
              "      <td>0.143166</td>\n",
              "      <td>0.084138</td>\n",
              "      <td>44.311378</td>\n",
              "      <td>37.395000</td>\n",
              "      <td>21.640000</td>\n",
              "      <td>21.640000</td>\n",
              "      <td>1.000000</td>\n",
              "      <td>112.530000</td>\n",
              "      <td>5.000000</td>\n",
              "      <td>13.856000</td>\n",
              "      <td>0.000000</td>\n",
              "    </tr>\n",
              "    <tr>\n",
              "      <th>75%</th>\n",
              "      <td>4.076375e+04</td>\n",
              "      <td>0.000000e+00</td>\n",
              "      <td>3383.000000</td>\n",
              "      <td>2401.790000</td>\n",
              "      <td>1745.750000</td>\n",
              "      <td>0.000000</td>\n",
              "      <td>131.030000</td>\n",
              "      <td>0.146348</td>\n",
              "      <td>0.098837</td>\n",
              "      <td>44.311378</td>\n",
              "      <td>193.980000</td>\n",
              "      <td>29.880000</td>\n",
              "      <td>29.880000</td>\n",
              "      <td>1.000000</td>\n",
              "      <td>243.097500</td>\n",
              "      <td>6.000000</td>\n",
              "      <td>19.172500</td>\n",
              "      <td>0.000000</td>\n",
              "    </tr>\n",
              "    <tr>\n",
              "      <th>max</th>\n",
              "      <td>6.207104e+06</td>\n",
              "      <td>4.154590e+06</td>\n",
              "      <td>771203.000000</td>\n",
              "      <td>82902.830000</td>\n",
              "      <td>175375.000000</td>\n",
              "      <td>30.000000</td>\n",
              "      <td>599.310000</td>\n",
              "      <td>0.273963</td>\n",
              "      <td>0.195975</td>\n",
              "      <td>59.266378</td>\n",
              "      <td>15042.790000</td>\n",
              "      <td>374.640000</td>\n",
              "      <td>374.640000</td>\n",
              "      <td>32.000000</td>\n",
              "      <td>24570.650000</td>\n",
              "      <td>13.000000</td>\n",
              "      <td>320.000000</td>\n",
              "      <td>1.000000</td>\n",
              "    </tr>\n",
              "  </tbody>\n",
              "</table>\n",
              "</div>"
            ],
            "text/plain": [
              "           cons_12m  cons_gas_12m  ...       pow_max         churn\n",
              "count  1.460600e+04  1.460600e+04  ...  14606.000000  14606.000000\n",
              "mean   1.592203e+05  2.809238e+04  ...     18.135136      0.097152\n",
              "std    5.734653e+05  1.629731e+05  ...     13.534743      0.296175\n",
              "min    0.000000e+00  0.000000e+00  ...      3.300000      0.000000\n",
              "25%    5.674750e+03  0.000000e+00  ...     12.500000      0.000000\n",
              "50%    1.411550e+04  0.000000e+00  ...     13.856000      0.000000\n",
              "75%    4.076375e+04  0.000000e+00  ...     19.172500      0.000000\n",
              "max    6.207104e+06  4.154590e+06  ...    320.000000      1.000000\n",
              "\n",
              "[8 rows x 18 columns]"
            ]
          },
          "metadata": {},
          "execution_count": 189
        }
      ],
      "source": [
        "client_df.describe()"
      ]
    },
    {
      "cell_type": "code",
      "execution_count": 190,
      "id": "f8b442e6-e186-42f9-b3c5-c5c15cd8c82a",
      "metadata": {
        "colab": {
          "base_uri": "https://localhost:8080/",
          "height": 300
        },
        "id": "f8b442e6-e186-42f9-b3c5-c5c15cd8c82a",
        "outputId": "061f7d93-095c-424a-c57c-cde448640da4"
      },
      "outputs": [
        {
          "output_type": "execute_result",
          "data": {
            "text/html": [
              "<div>\n",
              "<style scoped>\n",
              "    .dataframe tbody tr th:only-of-type {\n",
              "        vertical-align: middle;\n",
              "    }\n",
              "\n",
              "    .dataframe tbody tr th {\n",
              "        vertical-align: top;\n",
              "    }\n",
              "\n",
              "    .dataframe thead th {\n",
              "        text-align: right;\n",
              "    }\n",
              "</style>\n",
              "<table border=\"1\" class=\"dataframe\">\n",
              "  <thead>\n",
              "    <tr style=\"text-align: right;\">\n",
              "      <th></th>\n",
              "      <th>price_off_peak_var</th>\n",
              "      <th>price_peak_var</th>\n",
              "      <th>price_mid_peak_var</th>\n",
              "      <th>price_off_peak_fix</th>\n",
              "      <th>price_peak_fix</th>\n",
              "      <th>price_mid_peak_fix</th>\n",
              "    </tr>\n",
              "  </thead>\n",
              "  <tbody>\n",
              "    <tr>\n",
              "      <th>count</th>\n",
              "      <td>193002.000000</td>\n",
              "      <td>193002.000000</td>\n",
              "      <td>193002.000000</td>\n",
              "      <td>193002.000000</td>\n",
              "      <td>193002.000000</td>\n",
              "      <td>193002.000000</td>\n",
              "    </tr>\n",
              "    <tr>\n",
              "      <th>mean</th>\n",
              "      <td>0.141027</td>\n",
              "      <td>0.054630</td>\n",
              "      <td>0.030496</td>\n",
              "      <td>43.334477</td>\n",
              "      <td>10.622875</td>\n",
              "      <td>6.409984</td>\n",
              "    </tr>\n",
              "    <tr>\n",
              "      <th>std</th>\n",
              "      <td>0.025032</td>\n",
              "      <td>0.049924</td>\n",
              "      <td>0.036298</td>\n",
              "      <td>5.410297</td>\n",
              "      <td>12.841895</td>\n",
              "      <td>7.773592</td>\n",
              "    </tr>\n",
              "    <tr>\n",
              "      <th>min</th>\n",
              "      <td>0.000000</td>\n",
              "      <td>0.000000</td>\n",
              "      <td>0.000000</td>\n",
              "      <td>0.000000</td>\n",
              "      <td>0.000000</td>\n",
              "      <td>0.000000</td>\n",
              "    </tr>\n",
              "    <tr>\n",
              "      <th>25%</th>\n",
              "      <td>0.125976</td>\n",
              "      <td>0.000000</td>\n",
              "      <td>0.000000</td>\n",
              "      <td>40.728885</td>\n",
              "      <td>0.000000</td>\n",
              "      <td>0.000000</td>\n",
              "    </tr>\n",
              "    <tr>\n",
              "      <th>50%</th>\n",
              "      <td>0.146033</td>\n",
              "      <td>0.085483</td>\n",
              "      <td>0.000000</td>\n",
              "      <td>44.266930</td>\n",
              "      <td>0.000000</td>\n",
              "      <td>0.000000</td>\n",
              "    </tr>\n",
              "    <tr>\n",
              "      <th>75%</th>\n",
              "      <td>0.151635</td>\n",
              "      <td>0.101673</td>\n",
              "      <td>0.072558</td>\n",
              "      <td>44.444710</td>\n",
              "      <td>24.339581</td>\n",
              "      <td>16.226389</td>\n",
              "    </tr>\n",
              "    <tr>\n",
              "      <th>max</th>\n",
              "      <td>0.280700</td>\n",
              "      <td>0.229788</td>\n",
              "      <td>0.114102</td>\n",
              "      <td>59.444710</td>\n",
              "      <td>36.490692</td>\n",
              "      <td>17.458221</td>\n",
              "    </tr>\n",
              "  </tbody>\n",
              "</table>\n",
              "</div>"
            ],
            "text/plain": [
              "       price_off_peak_var  price_peak_var  ...  price_peak_fix  price_mid_peak_fix\n",
              "count       193002.000000   193002.000000  ...   193002.000000       193002.000000\n",
              "mean             0.141027        0.054630  ...       10.622875            6.409984\n",
              "std              0.025032        0.049924  ...       12.841895            7.773592\n",
              "min              0.000000        0.000000  ...        0.000000            0.000000\n",
              "25%              0.125976        0.000000  ...        0.000000            0.000000\n",
              "50%              0.146033        0.085483  ...        0.000000            0.000000\n",
              "75%              0.151635        0.101673  ...       24.339581           16.226389\n",
              "max              0.280700        0.229788  ...       36.490692           17.458221\n",
              "\n",
              "[8 rows x 6 columns]"
            ]
          },
          "metadata": {},
          "execution_count": 190
        }
      ],
      "source": [
        "price_df.describe()"
      ]
    },
    {
      "cell_type": "markdown",
      "id": "6a7a8879-c483-4464-9057-c70e6b150e53",
      "metadata": {
        "id": "6a7a8879-c483-4464-9057-c70e6b150e53"
      },
      "source": [
        "---\n",
        "\n",
        "## Data visualization\n",
        "\n",
        "If you're working in Python, two of the most popular packages for visualization are `matplotlib` and `seaborn`. We highly recommend you use these, or at least be familiar with them because they are ubiquitous!\n",
        "\n",
        "Below are some functions that you can use to get started with visualizations. "
      ]
    },
    {
      "cell_type": "code",
      "execution_count": 191,
      "id": "f350ea0a-dc45-43f5-a6b7-e5e816964419",
      "metadata": {
        "id": "f350ea0a-dc45-43f5-a6b7-e5e816964419"
      },
      "outputs": [],
      "source": [
        "def plot_stacked_bars(dataframe, title_, size_=(18, 10), rot_=0, legend_=\"upper right\"):\n",
        "    \"\"\"\n",
        "    Plot stacked bars with annotations\n",
        "    \"\"\"\n",
        "    ax = dataframe.plot(\n",
        "        kind=\"bar\",\n",
        "        stacked=True,\n",
        "        figsize=size_,\n",
        "        rot=rot_,\n",
        "        title=title_\n",
        "    )\n",
        "\n",
        "    # Annotate bars\n",
        "    annotate_stacked_bars(ax, textsize=14)\n",
        "    # Rename legend\n",
        "    plt.legend([\"Retention\", \"Churn\"], loc=legend_)\n",
        "    # Labels\n",
        "    plt.ylabel(\"Company base (%)\")\n",
        "    plt.show()\n",
        "\n",
        "def annotate_stacked_bars(ax, pad=0.99, colour=\"white\", textsize=13):\n",
        "    \"\"\"\n",
        "    Add value annotations to the bars\n",
        "    \"\"\"\n",
        "\n",
        "    # Iterate over the plotted rectanges/bars\n",
        "    for p in ax.patches:\n",
        "        \n",
        "        # Calculate annotation\n",
        "        value = str(round(p.get_height(),1))\n",
        "        # If value is 0 do not annotate\n",
        "        if value == '0.0':\n",
        "            continue\n",
        "        ax.annotate(\n",
        "            value,\n",
        "            ((p.get_x()+ p.get_width()/2)*pad-0.05, (p.get_y()+p.get_height()/2)*pad),\n",
        "            color=colour,\n",
        "            size=textsize\n",
        "        )\n",
        "\n",
        "def plot_distribution(dataframe, column, ax, bins_=50):\n",
        "    \"\"\"\n",
        "    Plot variable distirbution in a stacked histogram of churned or retained company\n",
        "    \"\"\"\n",
        "    # Create a temporal dataframe with the data to be plot\n",
        "    temp = pd.DataFrame({\"Retention\": dataframe[dataframe[\"churn\"]==0][column],\n",
        "    \"Churn\":dataframe[dataframe[\"churn\"]==1][column]})\n",
        "    # Plot the histogram\n",
        "    temp[[\"Retention\",\"Churn\"]].plot(kind='hist', bins=bins_, ax=ax, stacked=True)\n",
        "    # X-axis label\n",
        "    ax.set_xlabel(column)\n",
        "    # Change the x-axis to plain style\n",
        "    ax.ticklabel_format(style='plain', axis='x')"
      ]
    },
    {
      "cell_type": "markdown",
      "id": "6eab14d0",
      "metadata": {
        "id": "6eab14d0"
      },
      "source": [
        "Thhe first function `plot_stacked_bars` is used to plot a stacked bar chart. An example of how you could use this is shown below:"
      ]
    },
    {
      "cell_type": "code",
      "execution_count": 192,
      "id": "448c05d8",
      "metadata": {
        "colab": {
          "base_uri": "https://localhost:8080/",
          "height": 338
        },
        "id": "448c05d8",
        "outputId": "35d9e630-1da2-43f8-f36a-8c0b0e4127ca"
      },
      "outputs": [
        {
          "output_type": "display_data",
          "data": {
            "image/png": "[encoded data removed]",
            "text/plain": [
              "<Figure size 360x360 with 1 Axes>"
            ]
          },
          "metadata": {}
        }
      ],
      "source": [
        "churn = client_df[['id', 'churn']]\n",
        "churn.columns = ['Companies', 'churn']\n",
        "churn_total = churn.groupby(churn['churn']).count()\n",
        "churn_percentage = churn_total / churn_total.sum() * 100\n",
        "plot_stacked_bars(churn_percentage.transpose(), \"Churning status\", (5, 5), legend_=\"lower right\")"
      ]
    },
    {
      "cell_type": "markdown",
      "id": "d055f10e",
      "metadata": {
        "id": "d055f10e"
      },
      "source": [
        "The second function `annotate_bars` is used by the first function, but the third function `plot_distribution` helps you to plot the distribution of a numeric column. An example of how it can be used is given below:"
      ]
    },
    {
      "cell_type": "code",
      "execution_count": 193,
      "id": "9a28757e",
      "metadata": {
        "colab": {
          "base_uri": "https://localhost:8080/",
          "height": 339
        },
        "id": "9a28757e",
        "outputId": "ae66c177-35c7-49b6-cddb-e342c8845ceb"
      },
      "outputs": [
        {
          "output_type": "display_data",
          "data": {
            "image/png": "[encoded data removed]",
            "text/plain": [
              "<Figure size 1296x360 with 1 Axes>"
            ]
          },
          "metadata": {}
        }
      ],
      "source": [
        "consumption = client_df[['id', 'cons_12m', 'cons_gas_12m', 'cons_last_month', 'imp_cons', 'has_gas', 'churn']]\n",
        "\n",
        "fig, axs = plt.subplots(nrows=1, figsize=(18, 5))\n",
        "\n",
        "plot_distribution(consumption, 'cons_12m', axs)"
      ]
    },
    {
      "cell_type": "code",
      "source": [
        "client_df.columns"
      ],
      "metadata": {
        "colab": {
          "base_uri": "https://localhost:8080/"
        },
        "id": "9d47xww-GhPF",
        "outputId": "21c24f29-62f1-4ae0-c963-60378b53ca1c"
      },
      "id": "9d47xww-GhPF",
      "execution_count": 194,
      "outputs": [
        {
          "output_type": "execute_result",
          "data": {
            "text/plain": [
              "Index(['id', 'channel_sales', 'cons_12m', 'cons_gas_12m', 'cons_last_month',\n",
              "       'date_activ', 'date_end', 'date_modif_prod', 'date_renewal',\n",
              "       'forecast_cons_12m', 'forecast_cons_year', 'forecast_discount_energy',\n",
              "       'forecast_meter_rent_12m', 'forecast_price_energy_off_peak',\n",
              "       'forecast_price_energy_peak', 'forecast_price_pow_off_peak', 'has_gas',\n",
              "       'imp_cons', 'margin_gross_pow_ele', 'margin_net_pow_ele', 'nb_prod_act',\n",
              "       'net_margin', 'num_years_antig', 'origin_up', 'pow_max', 'churn'],\n",
              "      dtype='object')"
            ]
          },
          "metadata": {},
          "execution_count": 194
        }
      ]
    },
    {
      "cell_type": "code",
      "source": [
        "# plt.figure(figsize=(20,15))\n",
        "f, axes = plt.subplots(1, 2, figsize=(10,8))\n",
        "sns.boxplot(data=client_df, x='churn', y='cons_12m', ax=axes[0])\n",
        "sns.boxplot(data=client_df, x='churn', y='cons_gas_12m', ax=axes[1])"
      ],
      "metadata": {
        "colab": {
          "base_uri": "https://localhost:8080/",
          "height": 531
        },
        "id": "Q50K5Hd2HUku",
        "outputId": "04795adc-9139-4143-aa69-7dd630965b67"
      },
      "id": "Q50K5Hd2HUku",
      "execution_count": 195,
      "outputs": [
        {
          "output_type": "execute_result",
          "data": {
            "text/plain": [
              "<matplotlib.axes._subplots.AxesSubplot at 0x7fea28d15650>"
            ]
          },
          "metadata": {},
          "execution_count": 195
        },
        {
          "output_type": "display_data",
          "data": {
            "image/png": "[encoded data removed]",
            "text/plain": [
              "<Figure size 720x576 with 2 Axes>"
            ]
          },
          "metadata": {}
        }
      ]
    },
    {
      "cell_type": "code",
      "source": [
        "f, axes = plt.subplots(1, 2, figsize=(10,8))\n",
        "sns.boxplot(data=client_df, x='churn', y='cons_last_month', ax=axes[0])\n",
        "sns.boxplot(data=client_df, x='churn', y='forecast_cons_12m', ax=axes[1])"
      ],
      "metadata": {
        "colab": {
          "base_uri": "https://localhost:8080/",
          "height": 519
        },
        "id": "KCdq_Qt0IPro",
        "outputId": "f89794c3-4316-4958-ad40-57e41182e28e"
      },
      "id": "KCdq_Qt0IPro",
      "execution_count": 196,
      "outputs": [
        {
          "output_type": "execute_result",
          "data": {
            "text/plain": [
              "<matplotlib.axes._subplots.AxesSubplot at 0x7fea28e81410>"
            ]
          },
          "metadata": {},
          "execution_count": 196
        },
        {
          "output_type": "display_data",
          "data": {
            "image/png": "[encoded data removed]",
            "text/plain": [
              "<Figure size 720x576 with 2 Axes>"
            ]
          },
          "metadata": {}
        }
      ]
    },
    {
      "cell_type": "code",
      "source": [
        "f, axes = plt.subplots(1, 2, figsize=(10,8))\n",
        "sns.boxplot(data=client_df, x='churn', y='forecast_cons_year', ax=axes[0])\n",
        "sns.boxplot(data=client_df, x='churn', y='forecast_discount_energy', ax=axes[1])"
      ],
      "metadata": {
        "colab": {
          "base_uri": "https://localhost:8080/",
          "height": 519
        },
        "id": "wA_iXNVdIunF",
        "outputId": "cec53979-e0a8-4c10-965d-c1d9aa2de036"
      },
      "id": "wA_iXNVdIunF",
      "execution_count": 197,
      "outputs": [
        {
          "output_type": "execute_result",
          "data": {
            "text/plain": [
              "<matplotlib.axes._subplots.AxesSubplot at 0x7fea28b697d0>"
            ]
          },
          "metadata": {},
          "execution_count": 197
        },
        {
          "output_type": "display_data",
          "data": {
            "image/png": "[encoded data removed]",
            "text/plain": [
              "<Figure size 720x576 with 2 Axes>"
            ]
          },
          "metadata": {}
        }
      ]
    },
    {
      "cell_type": "code",
      "source": [
        "f, axes = plt.subplots(1, 2, figsize=(10,8))\n",
        "sns.boxplot(data=client_df, x='churn', y='forecast_meter_rent_12m', ax=axes[0])\n",
        "sns.boxplot(data=client_df, x='churn', y='forecast_price_energy_off_peak', ax=axes[1])"
      ],
      "metadata": {
        "colab": {
          "base_uri": "https://localhost:8080/",
          "height": 519
        },
        "id": "TpCzHq_jJXG4",
        "outputId": "002fc960-01ce-4c52-f2b2-d81e799cc8f1"
      },
      "id": "TpCzHq_jJXG4",
      "execution_count": 198,
      "outputs": [
        {
          "output_type": "execute_result",
          "data": {
            "text/plain": [
              "<matplotlib.axes._subplots.AxesSubplot at 0x7fea28a4f050>"
            ]
          },
          "metadata": {},
          "execution_count": 198
        },
        {
          "output_type": "display_data",
          "data": {
            "image/png": "[encoded data removed]",
            "text/plain": [
              "<Figure size 720x576 with 2 Axes>"
            ]
          },
          "metadata": {}
        }
      ]
    },
    {
      "cell_type": "code",
      "source": [
        "f, axes = plt.subplots(1, 2, figsize=(10,8))\n",
        "sns.boxplot(data=client_df, x='churn', y='forecast_price_energy_peak', ax=axes[0])\n",
        "sns.boxplot(data=client_df, x='churn', y='forecast_price_pow_off_peak', ax=axes[1])\n"
      ],
      "metadata": {
        "colab": {
          "base_uri": "https://localhost:8080/",
          "height": 519
        },
        "id": "z5tj_yrPLRmz",
        "outputId": "74859f28-5981-4081-9faf-e98c596e34b6"
      },
      "id": "z5tj_yrPLRmz",
      "execution_count": 199,
      "outputs": [
        {
          "output_type": "execute_result",
          "data": {
            "text/plain": [
              "<matplotlib.axes._subplots.AxesSubplot at 0x7fea2895e090>"
            ]
          },
          "metadata": {},
          "execution_count": 199
        },
        {
          "output_type": "display_data",
          "data": {
            "image/png": "[encoded data removed]",
            "text/plain": [
              "<Figure size 720x576 with 2 Axes>"
            ]
          },
          "metadata": {}
        }
      ]
    },
    {
      "cell_type": "code",
      "source": [
        "f, axes = plt.subplots(1, 2, figsize=(10,8))\n",
        "sns.boxplot(data=client_df, x='churn', y='imp_cons', ax=axes[0])\n",
        "sns.boxplot(data=client_df, x='churn', y='margin_gross_pow_ele', ax=axes[1])"
      ],
      "metadata": {
        "colab": {
          "base_uri": "https://localhost:8080/",
          "height": 519
        },
        "id": "_zq4YV2JLk0S",
        "outputId": "44794066-39dc-4fc0-b7f2-a77d80948d2c"
      },
      "id": "_zq4YV2JLk0S",
      "execution_count": 200,
      "outputs": [
        {
          "output_type": "execute_result",
          "data": {
            "text/plain": [
              "<matplotlib.axes._subplots.AxesSubplot at 0x7fea28866b10>"
            ]
          },
          "metadata": {},
          "execution_count": 200
        },
        {
          "output_type": "display_data",
          "data": {
            "image/png": "[encoded data removed]",
            "text/plain": [
              "<Figure size 720x576 with 2 Axes>"
            ]
          },
          "metadata": {}
        }
      ]
    },
    {
      "cell_type": "code",
      "source": [
        "f, axes = plt.subplots(1, 2, figsize=(10,8))\n",
        "sns.boxplot(data=client_df, x='churn', y='margin_net_pow_ele', ax=axes[0])\n",
        "sns.boxplot(data=client_df, x='churn', y='nb_prod_act', ax=axes[1])\n"
      ],
      "metadata": {
        "colab": {
          "base_uri": "https://localhost:8080/",
          "height": 519
        },
        "id": "6mfoT_R9LyhA",
        "outputId": "b0f129cf-ff54-4381-fff3-ecec0b968f51"
      },
      "id": "6mfoT_R9LyhA",
      "execution_count": 201,
      "outputs": [
        {
          "output_type": "execute_result",
          "data": {
            "text/plain": [
              "<matplotlib.axes._subplots.AxesSubplot at 0x7fea285e5090>"
            ]
          },
          "metadata": {},
          "execution_count": 201
        },
        {
          "output_type": "display_data",
          "data": {
            "image/png": "[encoded data removed]",
            "text/plain": [
              "<Figure size 720x576 with 2 Axes>"
            ]
          },
          "metadata": {}
        }
      ]
    },
    {
      "cell_type": "code",
      "source": [
        "f, axes = plt.subplots(1, 2, figsize=(10,8))\n",
        "sns.boxplot(data=client_df, x='churn', y='net_margin', ax=axes[0])\n",
        "sns.boxplot(data=client_df, x='churn', y='num_years_antig', ax=axes[1])\n"
      ],
      "metadata": {
        "colab": {
          "base_uri": "https://localhost:8080/",
          "height": 519
        },
        "id": "FvxyIZHAL_id",
        "outputId": "8b9791a6-93c9-4b95-e723-4a4e15534c31"
      },
      "id": "FvxyIZHAL_id",
      "execution_count": 202,
      "outputs": [
        {
          "output_type": "execute_result",
          "data": {
            "text/plain": [
              "<matplotlib.axes._subplots.AxesSubplot at 0x7fea17a06510>"
            ]
          },
          "metadata": {},
          "execution_count": 202
        },
        {
          "output_type": "display_data",
          "data": {
            "image/png": "[encoded data removed]",
            "text/plain": [
              "<Figure size 720x576 with 2 Axes>"
            ]
          },
          "metadata": {}
        }
      ]
    },
    {
      "cell_type": "code",
      "source": [
        "f, axes = plt.subplots(1, 1, figsize=(10,8))\n",
        "sns.boxplot(data=client_df, x='churn', y='pow_max')"
      ],
      "metadata": {
        "colab": {
          "base_uri": "https://localhost:8080/",
          "height": 519
        },
        "id": "m9WQChUzMOcM",
        "outputId": "ead986dc-f202-4b4a-e894-f6c5458173ad"
      },
      "id": "m9WQChUzMOcM",
      "execution_count": 203,
      "outputs": [
        {
          "output_type": "execute_result",
          "data": {
            "text/plain": [
              "<matplotlib.axes._subplots.AxesSubplot at 0x7fea17970c90>"
            ]
          },
          "metadata": {},
          "execution_count": 203
        },
        {
          "output_type": "display_data",
          "data": {
            "image/png": "[encoded data removed]",
            "text/plain": [
              "<Figure size 720x576 with 1 Axes>"
            ]
          },
          "metadata": {}
        }
      ]
    },
    {
      "cell_type": "code",
      "source": [
        "chn_sl = client_df.dropna(subset=['channel_sales'])\n",
        "chn_sl['channel_sales'].value_counts()"
      ],
      "metadata": {
        "colab": {
          "base_uri": "https://localhost:8080/"
        },
        "id": "nhjxlC3OSRBK",
        "outputId": "a3db617b-770e-4f6c-f3f3-8d1b768c5cbc"
      },
      "id": "nhjxlC3OSRBK",
      "execution_count": 204,
      "outputs": [
        {
          "output_type": "execute_result",
          "data": {
            "text/plain": [
              "foosdfpfkusacimwkcsosbicdxkicaua    6754\n",
              "MISSING                             3725\n",
              "lmkebamcaaclubfxadlmueccxoimlema    1843\n",
              "usilxuppasemubllopkaafesmlibmsdf    1375\n",
              "ewpakwlliwisiwduibdlfmalxowmwpci     893\n",
              "sddiedcslfslkckwlfkdpoeeailfpeds      11\n",
              "epumfxlbckeskwekxbiuasklxalciiuu       3\n",
              "fixdbufsefwooaasfcxdxadsiekoceaa       2\n",
              "Name: channel_sales, dtype: int64"
            ]
          },
          "metadata": {},
          "execution_count": 204
        }
      ]
    },
    {
      "cell_type": "code",
      "source": [
        "sns.catplot(data=chn_sl, y='channel_sales', hue='churn', kind='count')"
      ],
      "metadata": {
        "colab": {
          "base_uri": "https://localhost:8080/",
          "height": 383
        },
        "id": "EcDP7GGiQMlq",
        "outputId": "16927a9f-cdca-4db9-a484-077f34f3e5ca"
      },
      "id": "EcDP7GGiQMlq",
      "execution_count": 205,
      "outputs": [
        {
          "output_type": "execute_result",
          "data": {
            "text/plain": [
              "<seaborn.axisgrid.FacetGrid at 0x7fea179041d0>"
            ]
          },
          "metadata": {},
          "execution_count": 205
        },
        {
          "output_type": "display_data",
          "data": {
            "image/png": "[encoded data removed]",
            "text/plain": [
              "<Figure size 406.6x360 with 1 Axes>"
            ]
          },
          "metadata": {}
        }
      ]
    },
    {
      "cell_type": "code",
      "source": [
        "client_df.columns"
      ],
      "metadata": {
        "colab": {
          "base_uri": "https://localhost:8080/"
        },
        "id": "685dglyZXdc-",
        "outputId": "4e517b5c-e417-42be-baa4-6a856439de16"
      },
      "id": "685dglyZXdc-",
      "execution_count": 206,
      "outputs": [
        {
          "output_type": "execute_result",
          "data": {
            "text/plain": [
              "Index(['id', 'channel_sales', 'cons_12m', 'cons_gas_12m', 'cons_last_month',\n",
              "       'date_activ', 'date_end', 'date_modif_prod', 'date_renewal',\n",
              "       'forecast_cons_12m', 'forecast_cons_year', 'forecast_discount_energy',\n",
              "       'forecast_meter_rent_12m', 'forecast_price_energy_off_peak',\n",
              "       'forecast_price_energy_peak', 'forecast_price_pow_off_peak', 'has_gas',\n",
              "       'imp_cons', 'margin_gross_pow_ele', 'margin_net_pow_ele', 'nb_prod_act',\n",
              "       'net_margin', 'num_years_antig', 'origin_up', 'pow_max', 'churn'],\n",
              "      dtype='object')"
            ]
          },
          "metadata": {},
          "execution_count": 206
        }
      ]
    },
    {
      "cell_type": "code",
      "source": [
        "sns.catplot(data=client_df, y='origin_up', hue='churn', kind='count')\n"
      ],
      "metadata": {
        "colab": {
          "base_uri": "https://localhost:8080/",
          "height": 383
        },
        "id": "Y352vTBiX5y_",
        "outputId": "7266eebb-6dab-4a90-c42b-e699507a28e2"
      },
      "id": "Y352vTBiX5y_",
      "execution_count": 207,
      "outputs": [
        {
          "output_type": "execute_result",
          "data": {
            "text/plain": [
              "<seaborn.axisgrid.FacetGrid at 0x7fea178f0090>"
            ]
          },
          "metadata": {},
          "execution_count": 207
        },
        {
          "output_type": "display_data",
          "data": {
            "image/png": "[encoded data removed]",
            "text/plain": [
              "<Figure size 406.6x360 with 1 Axes>"
            ]
          },
          "metadata": {}
        }
      ]
    },
    {
      "cell_type": "code",
      "source": [
        "client_df.dtypes"
      ],
      "metadata": {
        "colab": {
          "base_uri": "https://localhost:8080/"
        },
        "id": "9izbxGwpbXwF",
        "outputId": "b6979bf4-56ec-45d8-d7d4-a58fd481631e"
      },
      "id": "9izbxGwpbXwF",
      "execution_count": 208,
      "outputs": [
        {
          "output_type": "execute_result",
          "data": {
            "text/plain": [
              "id                                 object\n",
              "channel_sales                      object\n",
              "cons_12m                            int64\n",
              "cons_gas_12m                        int64\n",
              "cons_last_month                     int64\n",
              "date_activ                         object\n",
              "date_end                           object\n",
              "date_modif_prod                    object\n",
              "date_renewal                       object\n",
              "forecast_cons_12m                 float64\n",
              "forecast_cons_year                  int64\n",
              "forecast_discount_energy          float64\n",
              "forecast_meter_rent_12m           float64\n",
              "forecast_price_energy_off_peak    float64\n",
              "forecast_price_energy_peak        float64\n",
              "forecast_price_pow_off_peak       float64\n",
              "has_gas                            object\n",
              "imp_cons                          float64\n",
              "margin_gross_pow_ele              float64\n",
              "margin_net_pow_ele                float64\n",
              "nb_prod_act                         int64\n",
              "net_margin                        float64\n",
              "num_years_antig                     int64\n",
              "origin_up                          object\n",
              "pow_max                           float64\n",
              "churn                               int64\n",
              "dtype: object"
            ]
          },
          "metadata": {},
          "execution_count": 208
        }
      ]
    },
    {
      "cell_type": "code",
      "source": [
        "client_df['date_activ'] = pd.to_datetime(client_df['date_activ'])"
      ],
      "metadata": {
        "id": "xmvMC4xJcIsn"
      },
      "id": "xmvMC4xJcIsn",
      "execution_count": 209,
      "outputs": []
    },
    {
      "cell_type": "code",
      "source": [
        "client_df['date_activ_dif'] = (client_df['date_activ'].max() - client_df['date_activ']).dt.days\n",
        "\n",
        "client_df.head()"
      ],
      "metadata": {
        "colab": {
          "base_uri": "https://localhost:8080/",
          "height": 313
        },
        "id": "zbFz4jTzagZj",
        "outputId": "4d6bb753-319c-4820-fefa-3bc6e4b47766"
      },
      "id": "zbFz4jTzagZj",
      "execution_count": 210,
      "outputs": [
        {
          "output_type": "execute_result",
          "data": {
            "text/html": [
              "<div>\n",
              "<style scoped>\n",
              "    .dataframe tbody tr th:only-of-type {\n",
              "        vertical-align: middle;\n",
              "    }\n",
              "\n",
              "    .dataframe tbody tr th {\n",
              "        vertical-align: top;\n",
              "    }\n",
              "\n",
              "    .dataframe thead th {\n",
              "        text-align: right;\n",
              "    }\n",
              "</style>\n",
              "<table border=\"1\" class=\"dataframe\">\n",
              "  <thead>\n",
              "    <tr style=\"text-align: right;\">\n",
              "      <th></th>\n",
              "      <th>id</th>\n",
              "      <th>channel_sales</th>\n",
              "      <th>cons_12m</th>\n",
              "      <th>cons_gas_12m</th>\n",
              "      <th>cons_last_month</th>\n",
              "      <th>date_activ</th>\n",
              "      <th>date_end</th>\n",
              "      <th>date_modif_prod</th>\n",
              "      <th>date_renewal</th>\n",
              "      <th>forecast_cons_12m</th>\n",
              "      <th>forecast_cons_year</th>\n",
              "      <th>forecast_discount_energy</th>\n",
              "      <th>forecast_meter_rent_12m</th>\n",
              "      <th>forecast_price_energy_off_peak</th>\n",
              "      <th>forecast_price_energy_peak</th>\n",
              "      <th>forecast_price_pow_off_peak</th>\n",
              "      <th>has_gas</th>\n",
              "      <th>imp_cons</th>\n",
              "      <th>margin_gross_pow_ele</th>\n",
              "      <th>margin_net_pow_ele</th>\n",
              "      <th>nb_prod_act</th>\n",
              "      <th>net_margin</th>\n",
              "      <th>num_years_antig</th>\n",
              "      <th>origin_up</th>\n",
              "      <th>pow_max</th>\n",
              "      <th>churn</th>\n",
              "      <th>date_activ_dif</th>\n",
              "    </tr>\n",
              "  </thead>\n",
              "  <tbody>\n",
              "    <tr>\n",
              "      <th>0</th>\n",
              "      <td>24011ae4ebbe3035111d65fa7c15bc57</td>\n",
              "      <td>foosdfpfkusacimwkcsosbicdxkicaua</td>\n",
              "      <td>0</td>\n",
              "      <td>54946</td>\n",
              "      <td>0</td>\n",
              "      <td>2013-06-15</td>\n",
              "      <td>2016-06-15</td>\n",
              "      <td>2015-11-01</td>\n",
              "      <td>2015-06-23</td>\n",
              "      <td>0.00</td>\n",
              "      <td>0</td>\n",
              "      <td>0.0</td>\n",
              "      <td>1.78</td>\n",
              "      <td>0.114481</td>\n",
              "      <td>0.098142</td>\n",
              "      <td>40.606701</td>\n",
              "      <td>t</td>\n",
              "      <td>0.00</td>\n",
              "      <td>25.44</td>\n",
              "      <td>25.44</td>\n",
              "      <td>2</td>\n",
              "      <td>678.99</td>\n",
              "      <td>3</td>\n",
              "      <td>lxidpiddsbxsbosboudacockeimpuepw</td>\n",
              "      <td>43.648</td>\n",
              "      <td>1</td>\n",
              "      <td>443</td>\n",
              "    </tr>\n",
              "    <tr>\n",
              "      <th>1</th>\n",
              "      <td>d29c2c54acc38ff3c0614d0a653813dd</td>\n",
              "      <td>MISSING</td>\n",
              "      <td>4660</td>\n",
              "      <td>0</td>\n",
              "      <td>0</td>\n",
              "      <td>2009-08-21</td>\n",
              "      <td>2016-08-30</td>\n",
              "      <td>2009-08-21</td>\n",
              "      <td>2015-08-31</td>\n",
              "      <td>189.95</td>\n",
              "      <td>0</td>\n",
              "      <td>0.0</td>\n",
              "      <td>16.27</td>\n",
              "      <td>0.145711</td>\n",
              "      <td>0.000000</td>\n",
              "      <td>44.311378</td>\n",
              "      <td>f</td>\n",
              "      <td>0.00</td>\n",
              "      <td>16.38</td>\n",
              "      <td>16.38</td>\n",
              "      <td>1</td>\n",
              "      <td>18.89</td>\n",
              "      <td>6</td>\n",
              "      <td>kamkkxfxxuwbdslkwifmmcsiusiuosws</td>\n",
              "      <td>13.800</td>\n",
              "      <td>0</td>\n",
              "      <td>1837</td>\n",
              "    </tr>\n",
              "    <tr>\n",
              "      <th>2</th>\n",
              "      <td>764c75f661154dac3a6c254cd082ea7d</td>\n",
              "      <td>foosdfpfkusacimwkcsosbicdxkicaua</td>\n",
              "      <td>544</td>\n",
              "      <td>0</td>\n",
              "      <td>0</td>\n",
              "      <td>2010-04-16</td>\n",
              "      <td>2016-04-16</td>\n",
              "      <td>2010-04-16</td>\n",
              "      <td>2015-04-17</td>\n",
              "      <td>47.96</td>\n",
              "      <td>0</td>\n",
              "      <td>0.0</td>\n",
              "      <td>38.72</td>\n",
              "      <td>0.165794</td>\n",
              "      <td>0.087899</td>\n",
              "      <td>44.311378</td>\n",
              "      <td>f</td>\n",
              "      <td>0.00</td>\n",
              "      <td>28.60</td>\n",
              "      <td>28.60</td>\n",
              "      <td>1</td>\n",
              "      <td>6.60</td>\n",
              "      <td>6</td>\n",
              "      <td>kamkkxfxxuwbdslkwifmmcsiusiuosws</td>\n",
              "      <td>13.856</td>\n",
              "      <td>0</td>\n",
              "      <td>1599</td>\n",
              "    </tr>\n",
              "    <tr>\n",
              "      <th>3</th>\n",
              "      <td>bba03439a292a1e166f80264c16191cb</td>\n",
              "      <td>lmkebamcaaclubfxadlmueccxoimlema</td>\n",
              "      <td>1584</td>\n",
              "      <td>0</td>\n",
              "      <td>0</td>\n",
              "      <td>2010-03-30</td>\n",
              "      <td>2016-03-30</td>\n",
              "      <td>2010-03-30</td>\n",
              "      <td>2015-03-31</td>\n",
              "      <td>240.04</td>\n",
              "      <td>0</td>\n",
              "      <td>0.0</td>\n",
              "      <td>19.83</td>\n",
              "      <td>0.146694</td>\n",
              "      <td>0.000000</td>\n",
              "      <td>44.311378</td>\n",
              "      <td>f</td>\n",
              "      <td>0.00</td>\n",
              "      <td>30.22</td>\n",
              "      <td>30.22</td>\n",
              "      <td>1</td>\n",
              "      <td>25.46</td>\n",
              "      <td>6</td>\n",
              "      <td>kamkkxfxxuwbdslkwifmmcsiusiuosws</td>\n",
              "      <td>13.200</td>\n",
              "      <td>0</td>\n",
              "      <td>1616</td>\n",
              "    </tr>\n",
              "    <tr>\n",
              "      <th>4</th>\n",
              "      <td>149d57cf92fc41cf94415803a877cb4b</td>\n",
              "      <td>MISSING</td>\n",
              "      <td>4425</td>\n",
              "      <td>0</td>\n",
              "      <td>526</td>\n",
              "      <td>2010-01-13</td>\n",
              "      <td>2016-03-07</td>\n",
              "      <td>2010-01-13</td>\n",
              "      <td>2015-03-09</td>\n",
              "      <td>445.75</td>\n",
              "      <td>526</td>\n",
              "      <td>0.0</td>\n",
              "      <td>131.73</td>\n",
              "      <td>0.116900</td>\n",
              "      <td>0.100015</td>\n",
              "      <td>40.606701</td>\n",
              "      <td>f</td>\n",
              "      <td>52.32</td>\n",
              "      <td>44.91</td>\n",
              "      <td>44.91</td>\n",
              "      <td>1</td>\n",
              "      <td>47.98</td>\n",
              "      <td>6</td>\n",
              "      <td>kamkkxfxxuwbdslkwifmmcsiusiuosws</td>\n",
              "      <td>19.800</td>\n",
              "      <td>0</td>\n",
              "      <td>1692</td>\n",
              "    </tr>\n",
              "  </tbody>\n",
              "</table>\n",
              "</div>"
            ],
            "text/plain": [
              "                                 id  ... date_activ_dif\n",
              "0  24011ae4ebbe3035111d65fa7c15bc57  ...            443\n",
              "1  d29c2c54acc38ff3c0614d0a653813dd  ...           1837\n",
              "2  764c75f661154dac3a6c254cd082ea7d  ...           1599\n",
              "3  bba03439a292a1e166f80264c16191cb  ...           1616\n",
              "4  149d57cf92fc41cf94415803a877cb4b  ...           1692\n",
              "\n",
              "[5 rows x 27 columns]"
            ]
          },
          "metadata": {},
          "execution_count": 210
        }
      ]
    },
    {
      "cell_type": "code",
      "source": [
        "dt_act = client_df.groupby(['date_activ_dif', 'churn'])['id'].count().reset_index()\n",
        "dt_act.head()"
      ],
      "metadata": {
        "colab": {
          "base_uri": "https://localhost:8080/",
          "height": 206
        },
        "id": "fo9k2yUId0OB",
        "outputId": "eff8e317-3daf-4d11-dc32-7ed66064687e"
      },
      "id": "fo9k2yUId0OB",
      "execution_count": 211,
      "outputs": [
        {
          "output_type": "execute_result",
          "data": {
            "text/html": [
              "<div>\n",
              "<style scoped>\n",
              "    .dataframe tbody tr th:only-of-type {\n",
              "        vertical-align: middle;\n",
              "    }\n",
              "\n",
              "    .dataframe tbody tr th {\n",
              "        vertical-align: top;\n",
              "    }\n",
              "\n",
              "    .dataframe thead th {\n",
              "        text-align: right;\n",
              "    }\n",
              "</style>\n",
              "<table border=\"1\" class=\"dataframe\">\n",
              "  <thead>\n",
              "    <tr style=\"text-align: right;\">\n",
              "      <th></th>\n",
              "      <th>date_activ_dif</th>\n",
              "      <th>churn</th>\n",
              "      <th>id</th>\n",
              "    </tr>\n",
              "  </thead>\n",
              "  <tbody>\n",
              "    <tr>\n",
              "      <th>0</th>\n",
              "      <td>0</td>\n",
              "      <td>0</td>\n",
              "      <td>1</td>\n",
              "    </tr>\n",
              "    <tr>\n",
              "      <th>1</th>\n",
              "      <td>297</td>\n",
              "      <td>0</td>\n",
              "      <td>1</td>\n",
              "    </tr>\n",
              "    <tr>\n",
              "      <th>2</th>\n",
              "      <td>300</td>\n",
              "      <td>1</td>\n",
              "      <td>1</td>\n",
              "    </tr>\n",
              "    <tr>\n",
              "      <th>3</th>\n",
              "      <td>305</td>\n",
              "      <td>0</td>\n",
              "      <td>1</td>\n",
              "    </tr>\n",
              "    <tr>\n",
              "      <th>4</th>\n",
              "      <td>308</td>\n",
              "      <td>0</td>\n",
              "      <td>1</td>\n",
              "    </tr>\n",
              "  </tbody>\n",
              "</table>\n",
              "</div>"
            ],
            "text/plain": [
              "   date_activ_dif  churn  id\n",
              "0               0      0   1\n",
              "1             297      0   1\n",
              "2             300      1   1\n",
              "3             305      0   1\n",
              "4             308      0   1"
            ]
          },
          "metadata": {},
          "execution_count": 211
        }
      ]
    },
    {
      "cell_type": "code",
      "source": [
        "plt.figure(figsize=(20,15))\n",
        "sns.histplot(data=dt_act, x='date_activ_dif', y='id', hue='churn', bins=100)"
      ],
      "metadata": {
        "colab": {
          "base_uri": "https://localhost:8080/",
          "height": 892
        },
        "id": "4_Y4SKRvefT4",
        "outputId": "0b1d51fe-a0a3-4f04-c911-6e2fa97d5a87"
      },
      "id": "4_Y4SKRvefT4",
      "execution_count": 212,
      "outputs": [
        {
          "output_type": "execute_result",
          "data": {
            "text/plain": [
              "<matplotlib.axes._subplots.AxesSubplot at 0x7fea2b46ef90>"
            ]
          },
          "metadata": {},
          "execution_count": 212
        },
        {
          "output_type": "display_data",
          "data": {
            "image/png": "[encoded data removed]",
            "text/plain": [
              "<Figure size 1440x1080 with 1 Axes>"
            ]
          },
          "metadata": {}
        }
      ]
    },
    {
      "cell_type": "code",
      "source": [
        "price_df.columns"
      ],
      "metadata": {
        "colab": {
          "base_uri": "https://localhost:8080/"
        },
        "id": "oWn4D1bal_zd",
        "outputId": "13844dd4-03e6-4b6f-9cca-50eb7383abb6"
      },
      "id": "oWn4D1bal_zd",
      "execution_count": 213,
      "outputs": [
        {
          "output_type": "execute_result",
          "data": {
            "text/plain": [
              "Index(['id', 'price_date', 'price_off_peak_var', 'price_peak_var',\n",
              "       'price_mid_peak_var', 'price_off_peak_fix', 'price_peak_fix',\n",
              "       'price_mid_peak_fix'],\n",
              "      dtype='object')"
            ]
          },
          "metadata": {},
          "execution_count": 213
        }
      ]
    },
    {
      "cell_type": "code",
      "source": [
        "price_df['price_date'].min()"
      ],
      "metadata": {
        "colab": {
          "base_uri": "https://localhost:8080/",
          "height": 35
        },
        "id": "Pl31oBOcmWPs",
        "outputId": "8be72c69-f509-4315-b30d-3b80a9f01137"
      },
      "id": "Pl31oBOcmWPs",
      "execution_count": 214,
      "outputs": [
        {
          "output_type": "execute_result",
          "data": {
            "application/vnd.google.colaboratory.intrinsic+json": {
              "type": "string"
            },
            "text/plain": [
              "'2015-01-01'"
            ]
          },
          "metadata": {},
          "execution_count": 214
        }
      ]
    },
    {
      "cell_type": "code",
      "source": [
        "price_df['price_date'].max()"
      ],
      "metadata": {
        "colab": {
          "base_uri": "https://localhost:8080/",
          "height": 35
        },
        "id": "Hoxndql7mXR5",
        "outputId": "ec42244d-2bd0-4f2f-a939-5e270e198ebb"
      },
      "id": "Hoxndql7mXR5",
      "execution_count": 215,
      "outputs": [
        {
          "output_type": "execute_result",
          "data": {
            "application/vnd.google.colaboratory.intrinsic+json": {
              "type": "string"
            },
            "text/plain": [
              "'2015-12-01'"
            ]
          },
          "metadata": {},
          "execution_count": 215
        }
      ]
    },
    {
      "cell_type": "code",
      "source": [
        "price_df['price_date'] = pd.to_datetime(price_df['price_date'])\n"
      ],
      "metadata": {
        "id": "2BFODuWlm8ek"
      },
      "id": "2BFODuWlm8ek",
      "execution_count": 216,
      "outputs": []
    },
    {
      "cell_type": "code",
      "source": [
        "price_df['month'] = pd.DatetimeIndex(price_df['price_date']).month\n",
        "price_df['week'] = price_df['price_date'].dt.isocalendar().week"
      ],
      "metadata": {
        "id": "j_igEo_MndPs"
      },
      "id": "j_igEo_MndPs",
      "execution_count": 217,
      "outputs": []
    },
    {
      "cell_type": "code",
      "source": [
        "price_df.shape"
      ],
      "metadata": {
        "colab": {
          "base_uri": "https://localhost:8080/"
        },
        "id": "GGgK0JQgoRKM",
        "outputId": "f58541c8-0cdd-4ddb-cc89-6f5740a1ae77"
      },
      "id": "GGgK0JQgoRKM",
      "execution_count": 218,
      "outputs": [
        {
          "output_type": "execute_result",
          "data": {
            "text/plain": [
              "(193002, 10)"
            ]
          },
          "metadata": {},
          "execution_count": 218
        }
      ]
    },
    {
      "cell_type": "code",
      "source": [
        "# price_df.loc[price_df['month']==12]"
      ],
      "metadata": {
        "id": "NoUwM3oxpOFa"
      },
      "id": "NoUwM3oxpOFa",
      "execution_count": 219,
      "outputs": []
    },
    {
      "cell_type": "code",
      "source": [
        "# price_df = price_df[price_df['month']!=12]"
      ],
      "metadata": {
        "id": "97WdyTM1oiEZ"
      },
      "id": "97WdyTM1oiEZ",
      "execution_count": 220,
      "outputs": []
    },
    {
      "cell_type": "code",
      "source": [
        "price_df.columns"
      ],
      "metadata": {
        "colab": {
          "base_uri": "https://localhost:8080/"
        },
        "id": "fKKVuxuKseAb",
        "outputId": "f017dbea-f024-43f7-fcf2-88119d31669a"
      },
      "id": "fKKVuxuKseAb",
      "execution_count": 221,
      "outputs": [
        {
          "output_type": "execute_result",
          "data": {
            "text/plain": [
              "Index(['id', 'price_date', 'price_off_peak_var', 'price_peak_var',\n",
              "       'price_mid_peak_var', 'price_off_peak_fix', 'price_peak_fix',\n",
              "       'price_mid_peak_fix', 'month', 'week'],\n",
              "      dtype='object')"
            ]
          },
          "metadata": {},
          "execution_count": 221
        }
      ]
    },
    {
      "cell_type": "code",
      "source": [
        "price_df.head()"
      ],
      "metadata": {
        "id": "CCpc1az8qNQb",
        "colab": {
          "base_uri": "https://localhost:8080/",
          "height": 226
        },
        "outputId": "385ddebf-cca4-49c7-ba49-9f91fd23a382"
      },
      "id": "CCpc1az8qNQb",
      "execution_count": 222,
      "outputs": [
        {
          "output_type": "execute_result",
          "data": {
            "text/html": [
              "<div>\n",
              "<style scoped>\n",
              "    .dataframe tbody tr th:only-of-type {\n",
              "        vertical-align: middle;\n",
              "    }\n",
              "\n",
              "    .dataframe tbody tr th {\n",
              "        vertical-align: top;\n",
              "    }\n",
              "\n",
              "    .dataframe thead th {\n",
              "        text-align: right;\n",
              "    }\n",
              "</style>\n",
              "<table border=\"1\" class=\"dataframe\">\n",
              "  <thead>\n",
              "    <tr style=\"text-align: right;\">\n",
              "      <th></th>\n",
              "      <th>id</th>\n",
              "      <th>price_date</th>\n",
              "      <th>price_off_peak_var</th>\n",
              "      <th>price_peak_var</th>\n",
              "      <th>price_mid_peak_var</th>\n",
              "      <th>price_off_peak_fix</th>\n",
              "      <th>price_peak_fix</th>\n",
              "      <th>price_mid_peak_fix</th>\n",
              "      <th>month</th>\n",
              "      <th>week</th>\n",
              "    </tr>\n",
              "  </thead>\n",
              "  <tbody>\n",
              "    <tr>\n",
              "      <th>0</th>\n",
              "      <td>038af19179925da21a25619c5a24b745</td>\n",
              "      <td>2015-01-01</td>\n",
              "      <td>0.151367</td>\n",
              "      <td>0.0</td>\n",
              "      <td>0.0</td>\n",
              "      <td>44.266931</td>\n",
              "      <td>0.0</td>\n",
              "      <td>0.0</td>\n",
              "      <td>1</td>\n",
              "      <td>1</td>\n",
              "    </tr>\n",
              "    <tr>\n",
              "      <th>1</th>\n",
              "      <td>038af19179925da21a25619c5a24b745</td>\n",
              "      <td>2015-02-01</td>\n",
              "      <td>0.151367</td>\n",
              "      <td>0.0</td>\n",
              "      <td>0.0</td>\n",
              "      <td>44.266931</td>\n",
              "      <td>0.0</td>\n",
              "      <td>0.0</td>\n",
              "      <td>2</td>\n",
              "      <td>5</td>\n",
              "    </tr>\n",
              "    <tr>\n",
              "      <th>2</th>\n",
              "      <td>038af19179925da21a25619c5a24b745</td>\n",
              "      <td>2015-03-01</td>\n",
              "      <td>0.151367</td>\n",
              "      <td>0.0</td>\n",
              "      <td>0.0</td>\n",
              "      <td>44.266931</td>\n",
              "      <td>0.0</td>\n",
              "      <td>0.0</td>\n",
              "      <td>3</td>\n",
              "      <td>9</td>\n",
              "    </tr>\n",
              "    <tr>\n",
              "      <th>3</th>\n",
              "      <td>038af19179925da21a25619c5a24b745</td>\n",
              "      <td>2015-04-01</td>\n",
              "      <td>0.149626</td>\n",
              "      <td>0.0</td>\n",
              "      <td>0.0</td>\n",
              "      <td>44.266931</td>\n",
              "      <td>0.0</td>\n",
              "      <td>0.0</td>\n",
              "      <td>4</td>\n",
              "      <td>14</td>\n",
              "    </tr>\n",
              "    <tr>\n",
              "      <th>4</th>\n",
              "      <td>038af19179925da21a25619c5a24b745</td>\n",
              "      <td>2015-05-01</td>\n",
              "      <td>0.149626</td>\n",
              "      <td>0.0</td>\n",
              "      <td>0.0</td>\n",
              "      <td>44.266931</td>\n",
              "      <td>0.0</td>\n",
              "      <td>0.0</td>\n",
              "      <td>5</td>\n",
              "      <td>18</td>\n",
              "    </tr>\n",
              "  </tbody>\n",
              "</table>\n",
              "</div>"
            ],
            "text/plain": [
              "                                 id price_date  ...  month  week\n",
              "0  038af19179925da21a25619c5a24b745 2015-01-01  ...      1     1\n",
              "1  038af19179925da21a25619c5a24b745 2015-02-01  ...      2     5\n",
              "2  038af19179925da21a25619c5a24b745 2015-03-01  ...      3     9\n",
              "3  038af19179925da21a25619c5a24b745 2015-04-01  ...      4    14\n",
              "4  038af19179925da21a25619c5a24b745 2015-05-01  ...      5    18\n",
              "\n",
              "[5 rows x 10 columns]"
            ]
          },
          "metadata": {},
          "execution_count": 222
        }
      ]
    },
    {
      "cell_type": "code",
      "source": [
        "price_df['price_total'] = price_df['price_off_peak_var'] + price_df['price_peak_var'] + price_df['price_mid_peak_var']+ price_df['price_off_peak_fix'] + price_df['price_peak_fix'] + price_df['price_mid_peak_fix']\n",
        "price_df.head()\n"
      ],
      "metadata": {
        "id": "1Af7tkpzuHQp",
        "colab": {
          "base_uri": "https://localhost:8080/",
          "height": 226
        },
        "outputId": "930a2760-b8f6-4117-e666-9cbe45f0efd8"
      },
      "id": "1Af7tkpzuHQp",
      "execution_count": 223,
      "outputs": [
        {
          "output_type": "execute_result",
          "data": {
            "text/html": [
              "<div>\n",
              "<style scoped>\n",
              "    .dataframe tbody tr th:only-of-type {\n",
              "        vertical-align: middle;\n",
              "    }\n",
              "\n",
              "    .dataframe tbody tr th {\n",
              "        vertical-align: top;\n",
              "    }\n",
              "\n",
              "    .dataframe thead th {\n",
              "        text-align: right;\n",
              "    }\n",
              "</style>\n",
              "<table border=\"1\" class=\"dataframe\">\n",
              "  <thead>\n",
              "    <tr style=\"text-align: right;\">\n",
              "      <th></th>\n",
              "      <th>id</th>\n",
              "      <th>price_date</th>\n",
              "      <th>price_off_peak_var</th>\n",
              "      <th>price_peak_var</th>\n",
              "      <th>price_mid_peak_var</th>\n",
              "      <th>price_off_peak_fix</th>\n",
              "      <th>price_peak_fix</th>\n",
              "      <th>price_mid_peak_fix</th>\n",
              "      <th>month</th>\n",
              "      <th>week</th>\n",
              "      <th>price_total</th>\n",
              "    </tr>\n",
              "  </thead>\n",
              "  <tbody>\n",
              "    <tr>\n",
              "      <th>0</th>\n",
              "      <td>038af19179925da21a25619c5a24b745</td>\n",
              "      <td>2015-01-01</td>\n",
              "      <td>0.151367</td>\n",
              "      <td>0.0</td>\n",
              "      <td>0.0</td>\n",
              "      <td>44.266931</td>\n",
              "      <td>0.0</td>\n",
              "      <td>0.0</td>\n",
              "      <td>1</td>\n",
              "      <td>1</td>\n",
              "      <td>44.418298</td>\n",
              "    </tr>\n",
              "    <tr>\n",
              "      <th>1</th>\n",
              "      <td>038af19179925da21a25619c5a24b745</td>\n",
              "      <td>2015-02-01</td>\n",
              "      <td>0.151367</td>\n",
              "      <td>0.0</td>\n",
              "      <td>0.0</td>\n",
              "      <td>44.266931</td>\n",
              "      <td>0.0</td>\n",
              "      <td>0.0</td>\n",
              "      <td>2</td>\n",
              "      <td>5</td>\n",
              "      <td>44.418298</td>\n",
              "    </tr>\n",
              "    <tr>\n",
              "      <th>2</th>\n",
              "      <td>038af19179925da21a25619c5a24b745</td>\n",
              "      <td>2015-03-01</td>\n",
              "      <td>0.151367</td>\n",
              "      <td>0.0</td>\n",
              "      <td>0.0</td>\n",
              "      <td>44.266931</td>\n",
              "      <td>0.0</td>\n",
              "      <td>0.0</td>\n",
              "      <td>3</td>\n",
              "      <td>9</td>\n",
              "      <td>44.418298</td>\n",
              "    </tr>\n",
              "    <tr>\n",
              "      <th>3</th>\n",
              "      <td>038af19179925da21a25619c5a24b745</td>\n",
              "      <td>2015-04-01</td>\n",
              "      <td>0.149626</td>\n",
              "      <td>0.0</td>\n",
              "      <td>0.0</td>\n",
              "      <td>44.266931</td>\n",
              "      <td>0.0</td>\n",
              "      <td>0.0</td>\n",
              "      <td>4</td>\n",
              "      <td>14</td>\n",
              "      <td>44.416557</td>\n",
              "    </tr>\n",
              "    <tr>\n",
              "      <th>4</th>\n",
              "      <td>038af19179925da21a25619c5a24b745</td>\n",
              "      <td>2015-05-01</td>\n",
              "      <td>0.149626</td>\n",
              "      <td>0.0</td>\n",
              "      <td>0.0</td>\n",
              "      <td>44.266931</td>\n",
              "      <td>0.0</td>\n",
              "      <td>0.0</td>\n",
              "      <td>5</td>\n",
              "      <td>18</td>\n",
              "      <td>44.416557</td>\n",
              "    </tr>\n",
              "  </tbody>\n",
              "</table>\n",
              "</div>"
            ],
            "text/plain": [
              "                                 id price_date  ...  week  price_total\n",
              "0  038af19179925da21a25619c5a24b745 2015-01-01  ...     1    44.418298\n",
              "1  038af19179925da21a25619c5a24b745 2015-02-01  ...     5    44.418298\n",
              "2  038af19179925da21a25619c5a24b745 2015-03-01  ...     9    44.418298\n",
              "3  038af19179925da21a25619c5a24b745 2015-04-01  ...    14    44.416557\n",
              "4  038af19179925da21a25619c5a24b745 2015-05-01  ...    18    44.416557\n",
              "\n",
              "[5 rows x 11 columns]"
            ]
          },
          "metadata": {},
          "execution_count": 223
        }
      ]
    },
    {
      "cell_type": "code",
      "source": [
        "pr_ttl_dy_avg = price_df.groupby(['id', 'month'])['price_total'].mean().reset_index()\n",
        "pr_ttl_dy_avg = price_df.groupby(['id'])['price_total'].mean().reset_index()\n",
        "pr_ttl_dy_avg = pr_ttl_dy_avg.rename(columns={'price_total':'pr_ttl_dy_avg'})\n",
        "pr_ttl_dy_avg"
      ],
      "metadata": {
        "colab": {
          "base_uri": "https://localhost:8080/",
          "height": 423
        },
        "id": "4fLOHi2xu3oy",
        "outputId": "a2311da1-ce5f-48fa-efe8-e64a47a003b7"
      },
      "id": "4fLOHi2xu3oy",
      "execution_count": 224,
      "outputs": [
        {
          "output_type": "execute_result",
          "data": {
            "text/html": [
              "<div>\n",
              "<style scoped>\n",
              "    .dataframe tbody tr th:only-of-type {\n",
              "        vertical-align: middle;\n",
              "    }\n",
              "\n",
              "    .dataframe tbody tr th {\n",
              "        vertical-align: top;\n",
              "    }\n",
              "\n",
              "    .dataframe thead th {\n",
              "        text-align: right;\n",
              "    }\n",
              "</style>\n",
              "<table border=\"1\" class=\"dataframe\">\n",
              "  <thead>\n",
              "    <tr style=\"text-align: right;\">\n",
              "      <th></th>\n",
              "      <th>id</th>\n",
              "      <th>pr_ttl_dy_avg</th>\n",
              "    </tr>\n",
              "  </thead>\n",
              "  <tbody>\n",
              "    <tr>\n",
              "      <th>0</th>\n",
              "      <td>0002203ffbb812588b632b9e628cc38d</td>\n",
              "      <td>81.704757</td>\n",
              "    </tr>\n",
              "    <tr>\n",
              "      <th>1</th>\n",
              "      <td>0004351ebdd665e6ee664792efc4fd13</td>\n",
              "      <td>44.531877</td>\n",
              "    </tr>\n",
              "    <tr>\n",
              "      <th>2</th>\n",
              "      <td>0010bcc39e42b3c2131ed2ce55246e3c</td>\n",
              "      <td>45.501268</td>\n",
              "    </tr>\n",
              "    <tr>\n",
              "      <th>3</th>\n",
              "      <td>0010ee3855fdea87602a5b7aba8e42de</td>\n",
              "      <td>81.580935</td>\n",
              "    </tr>\n",
              "    <tr>\n",
              "      <th>4</th>\n",
              "      <td>00114d74e963e47177db89bc70108537</td>\n",
              "      <td>44.414856</td>\n",
              "    </tr>\n",
              "    <tr>\n",
              "      <th>...</th>\n",
              "      <td>...</td>\n",
              "      <td>...</td>\n",
              "    </tr>\n",
              "    <tr>\n",
              "      <th>16091</th>\n",
              "      <td>ffef185810e44254c3a4c6395e6b4d8a</td>\n",
              "      <td>82.376624</td>\n",
              "    </tr>\n",
              "    <tr>\n",
              "      <th>16092</th>\n",
              "      <td>fffac626da707b1b5ab11e8431a4d0a2</td>\n",
              "      <td>44.458512</td>\n",
              "    </tr>\n",
              "    <tr>\n",
              "      <th>16093</th>\n",
              "      <td>fffc0cacd305dd51f316424bbb08d1bd</td>\n",
              "      <td>83.197725</td>\n",
              "    </tr>\n",
              "    <tr>\n",
              "      <th>16094</th>\n",
              "      <td>fffe4f5646aa39c7f97f95ae2679ce64</td>\n",
              "      <td>81.514487</td>\n",
              "    </tr>\n",
              "    <tr>\n",
              "      <th>16095</th>\n",
              "      <td>ffff7fa066f1fb305ae285bb03bf325a</td>\n",
              "      <td>81.600744</td>\n",
              "    </tr>\n",
              "  </tbody>\n",
              "</table>\n",
              "<p>16096 rows × 2 columns</p>\n",
              "</div>"
            ],
            "text/plain": [
              "                                     id  pr_ttl_dy_avg\n",
              "0      0002203ffbb812588b632b9e628cc38d      81.704757\n",
              "1      0004351ebdd665e6ee664792efc4fd13      44.531877\n",
              "2      0010bcc39e42b3c2131ed2ce55246e3c      45.501268\n",
              "3      0010ee3855fdea87602a5b7aba8e42de      81.580935\n",
              "4      00114d74e963e47177db89bc70108537      44.414856\n",
              "...                                 ...            ...\n",
              "16091  ffef185810e44254c3a4c6395e6b4d8a      82.376624\n",
              "16092  fffac626da707b1b5ab11e8431a4d0a2      44.458512\n",
              "16093  fffc0cacd305dd51f316424bbb08d1bd      83.197725\n",
              "16094  fffe4f5646aa39c7f97f95ae2679ce64      81.514487\n",
              "16095  ffff7fa066f1fb305ae285bb03bf325a      81.600744\n",
              "\n",
              "[16096 rows x 2 columns]"
            ]
          },
          "metadata": {},
          "execution_count": 224
        }
      ]
    },
    {
      "cell_type": "code",
      "source": [
        "pr_last_mn = price_df.groupby(['id'])['month'].max().reset_index()\n",
        "pr_last_mn['month'].unique()"
      ],
      "metadata": {
        "colab": {
          "base_uri": "https://localhost:8080/"
        },
        "id": "bS6e0HIine-S",
        "outputId": "758b81de-2adc-4987-d7d7-fc853926e4a7"
      },
      "id": "bS6e0HIine-S",
      "execution_count": 225,
      "outputs": [
        {
          "output_type": "execute_result",
          "data": {
            "text/plain": [
              "array([12, 10, 11])"
            ]
          },
          "metadata": {},
          "execution_count": 225
        }
      ]
    },
    {
      "cell_type": "code",
      "source": [
        "pr_last_mn.shape"
      ],
      "metadata": {
        "colab": {
          "base_uri": "https://localhost:8080/"
        },
        "id": "tqrczUJSo2_E",
        "outputId": "c21cd324-823f-4002-8af2-725fff775258"
      },
      "id": "tqrczUJSo2_E",
      "execution_count": 226,
      "outputs": [
        {
          "output_type": "execute_result",
          "data": {
            "text/plain": [
              "(16096, 2)"
            ]
          },
          "metadata": {},
          "execution_count": 226
        }
      ]
    },
    {
      "cell_type": "code",
      "source": [
        "price_df.shape"
      ],
      "metadata": {
        "colab": {
          "base_uri": "https://localhost:8080/"
        },
        "id": "Q4pLZSjNokBg",
        "outputId": "89879dca-7ebb-45a5-9362-1dae44ae28f5"
      },
      "id": "Q4pLZSjNokBg",
      "execution_count": 227,
      "outputs": [
        {
          "output_type": "execute_result",
          "data": {
            "text/plain": [
              "(193002, 11)"
            ]
          },
          "metadata": {},
          "execution_count": 227
        }
      ]
    },
    {
      "cell_type": "code",
      "source": [
        "pr_last_mn = pd.merge(pr_last_mn, price_df, on=['id', 'month'])\n",
        "pr_last_mn.shape"
      ],
      "metadata": {
        "colab": {
          "base_uri": "https://localhost:8080/"
        },
        "id": "cL_15eG4oUFH",
        "outputId": "7d8e0012-a28a-4320-8e8d-9f1e0368820e"
      },
      "id": "cL_15eG4oUFH",
      "execution_count": 228,
      "outputs": [
        {
          "output_type": "execute_result",
          "data": {
            "text/plain": [
              "(16096, 11)"
            ]
          },
          "metadata": {},
          "execution_count": 228
        }
      ]
    },
    {
      "cell_type": "code",
      "source": [
        "pr_last_mn = pr_last_mn.groupby(['id'])['price_total'].mean().reset_index()"
      ],
      "metadata": {
        "id": "uptAlvNGpAP-"
      },
      "id": "uptAlvNGpAP-",
      "execution_count": 229,
      "outputs": []
    },
    {
      "cell_type": "code",
      "source": [
        "pr_last_mn = pr_last_mn.rename(columns={'price_total':'avg_pr_ttl_lst_mn'})\n",
        "pr_last_mn.head()"
      ],
      "metadata": {
        "colab": {
          "base_uri": "https://localhost:8080/",
          "height": 206
        },
        "id": "00tgJ97YqGVA",
        "outputId": "f669b5d0-5cc9-4f2f-937f-70a56cf0fb8a"
      },
      "id": "00tgJ97YqGVA",
      "execution_count": 230,
      "outputs": [
        {
          "output_type": "execute_result",
          "data": {
            "text/html": [
              "<div>\n",
              "<style scoped>\n",
              "    .dataframe tbody tr th:only-of-type {\n",
              "        vertical-align: middle;\n",
              "    }\n",
              "\n",
              "    .dataframe tbody tr th {\n",
              "        vertical-align: top;\n",
              "    }\n",
              "\n",
              "    .dataframe thead th {\n",
              "        text-align: right;\n",
              "    }\n",
              "</style>\n",
              "<table border=\"1\" class=\"dataframe\">\n",
              "  <thead>\n",
              "    <tr style=\"text-align: right;\">\n",
              "      <th></th>\n",
              "      <th>id</th>\n",
              "      <th>avg_pr_ttl_lst_mn</th>\n",
              "    </tr>\n",
              "  </thead>\n",
              "  <tbody>\n",
              "    <tr>\n",
              "      <th>0</th>\n",
              "      <td>0002203ffbb812588b632b9e628cc38d</td>\n",
              "      <td>81.753068</td>\n",
              "    </tr>\n",
              "    <tr>\n",
              "      <th>1</th>\n",
              "      <td>0004351ebdd665e6ee664792efc4fd13</td>\n",
              "      <td>44.588653</td>\n",
              "    </tr>\n",
              "    <tr>\n",
              "      <th>2</th>\n",
              "      <td>0010bcc39e42b3c2131ed2ce55246e3c</td>\n",
              "      <td>46.145990</td>\n",
              "    </tr>\n",
              "    <tr>\n",
              "      <th>3</th>\n",
              "      <td>0010ee3855fdea87602a5b7aba8e42de</td>\n",
              "      <td>81.735632</td>\n",
              "    </tr>\n",
              "    <tr>\n",
              "      <th>4</th>\n",
              "      <td>00114d74e963e47177db89bc70108537</td>\n",
              "      <td>44.412370</td>\n",
              "    </tr>\n",
              "  </tbody>\n",
              "</table>\n",
              "</div>"
            ],
            "text/plain": [
              "                                 id  avg_pr_ttl_lst_mn\n",
              "0  0002203ffbb812588b632b9e628cc38d          81.753068\n",
              "1  0004351ebdd665e6ee664792efc4fd13          44.588653\n",
              "2  0010bcc39e42b3c2131ed2ce55246e3c          46.145990\n",
              "3  0010ee3855fdea87602a5b7aba8e42de          81.735632\n",
              "4  00114d74e963e47177db89bc70108537          44.412370"
            ]
          },
          "metadata": {},
          "execution_count": 230
        }
      ]
    },
    {
      "cell_type": "code",
      "source": [
        "client_df.shape"
      ],
      "metadata": {
        "colab": {
          "base_uri": "https://localhost:8080/"
        },
        "id": "u-d7GFWoq8SX",
        "outputId": "33e239e5-38fd-425b-a7c3-fee76a126bc3"
      },
      "id": "u-d7GFWoq8SX",
      "execution_count": 231,
      "outputs": [
        {
          "output_type": "execute_result",
          "data": {
            "text/plain": [
              "(14606, 27)"
            ]
          },
          "metadata": {},
          "execution_count": 231
        }
      ]
    },
    {
      "cell_type": "code",
      "source": [
        "cl_ft = pd.merge(pr_last_mn, client_df, on=['id'])\n",
        "cl_ft = pd.merge(pr_ttl_dy_avg, cl_ft, on=['id'])"
      ],
      "metadata": {
        "id": "mbSJK2Lwqbwh"
      },
      "id": "mbSJK2Lwqbwh",
      "execution_count": 232,
      "outputs": []
    },
    {
      "cell_type": "code",
      "source": [
        "cl_ft.shape"
      ],
      "metadata": {
        "colab": {
          "base_uri": "https://localhost:8080/"
        },
        "id": "dUo4yWs3qmpz",
        "outputId": "c7173d8b-f057-442f-c6f0-69d1ced0ce2c"
      },
      "id": "dUo4yWs3qmpz",
      "execution_count": 233,
      "outputs": [
        {
          "output_type": "execute_result",
          "data": {
            "text/plain": [
              "(14606, 29)"
            ]
          },
          "metadata": {},
          "execution_count": 233
        }
      ]
    },
    {
      "cell_type": "code",
      "source": [
        "pr_ttl_dy_avg_hist = cl_ft.groupby(['pr_ttl_dy_avg', 'churn'])['id'].count().reset_index()\n",
        "pr_ttl_dy_avg_hist.head()"
      ],
      "metadata": {
        "colab": {
          "base_uri": "https://localhost:8080/",
          "height": 206
        },
        "id": "0uFDY7Xnsmoq",
        "outputId": "65f8588a-a10f-4029-cb29-0fb36e7f35da"
      },
      "id": "0uFDY7Xnsmoq",
      "execution_count": 234,
      "outputs": [
        {
          "output_type": "execute_result",
          "data": {
            "text/html": [
              "<div>\n",
              "<style scoped>\n",
              "    .dataframe tbody tr th:only-of-type {\n",
              "        vertical-align: middle;\n",
              "    }\n",
              "\n",
              "    .dataframe tbody tr th {\n",
              "        vertical-align: top;\n",
              "    }\n",
              "\n",
              "    .dataframe thead th {\n",
              "        text-align: right;\n",
              "    }\n",
              "</style>\n",
              "<table border=\"1\" class=\"dataframe\">\n",
              "  <thead>\n",
              "    <tr style=\"text-align: right;\">\n",
              "      <th></th>\n",
              "      <th>pr_ttl_dy_avg</th>\n",
              "      <th>churn</th>\n",
              "      <th>id</th>\n",
              "    </tr>\n",
              "  </thead>\n",
              "  <tbody>\n",
              "    <tr>\n",
              "      <th>0</th>\n",
              "      <td>0.000000</td>\n",
              "      <td>0</td>\n",
              "      <td>20</td>\n",
              "    </tr>\n",
              "    <tr>\n",
              "      <th>1</th>\n",
              "      <td>0.000600</td>\n",
              "      <td>0</td>\n",
              "      <td>74</td>\n",
              "    </tr>\n",
              "    <tr>\n",
              "      <th>2</th>\n",
              "      <td>0.000901</td>\n",
              "      <td>0</td>\n",
              "      <td>6</td>\n",
              "    </tr>\n",
              "    <tr>\n",
              "      <th>3</th>\n",
              "      <td>0.019049</td>\n",
              "      <td>0</td>\n",
              "      <td>1</td>\n",
              "    </tr>\n",
              "    <tr>\n",
              "      <th>4</th>\n",
              "      <td>0.028273</td>\n",
              "      <td>0</td>\n",
              "      <td>1</td>\n",
              "    </tr>\n",
              "  </tbody>\n",
              "</table>\n",
              "</div>"
            ],
            "text/plain": [
              "   pr_ttl_dy_avg  churn  id\n",
              "0       0.000000      0  20\n",
              "1       0.000600      0  74\n",
              "2       0.000901      0   6\n",
              "3       0.019049      0   1\n",
              "4       0.028273      0   1"
            ]
          },
          "metadata": {},
          "execution_count": 234
        }
      ]
    },
    {
      "cell_type": "code",
      "source": [
        "plt.figure(figsize=(20,15))\n",
        "sns.histplot(data=pr_ttl_dy_avg_hist, x='pr_ttl_dy_avg', y='id', hue='churn', bins=100)"
      ],
      "metadata": {
        "colab": {
          "base_uri": "https://localhost:8080/",
          "height": 887
        },
        "id": "TxSH4cKBsYL9",
        "outputId": "bbaf3e6b-ec4d-489e-fa8c-2183ab78474a"
      },
      "id": "TxSH4cKBsYL9",
      "execution_count": 235,
      "outputs": [
        {
          "output_type": "execute_result",
          "data": {
            "text/plain": [
              "<matplotlib.axes._subplots.AxesSubplot at 0x7fea16e251d0>"
            ]
          },
          "metadata": {},
          "execution_count": 235
        },
        {
          "output_type": "display_data",
          "data": {
            "image/png": "[encoded data removed]",
            "text/plain": [
              "<Figure size 1440x1080 with 1 Axes>"
            ]
          },
          "metadata": {}
        }
      ]
    },
    {
      "cell_type": "code",
      "source": [
        "avg_pr_ttl_lst_mn_hist = cl_ft.groupby(['avg_pr_ttl_lst_mn', 'churn'])['id'].count().reset_index()\n",
        "avg_pr_ttl_lst_mn_hist.head()"
      ],
      "metadata": {
        "colab": {
          "base_uri": "https://localhost:8080/",
          "height": 206
        },
        "id": "MUim1hyLuNKr",
        "outputId": "eb4b3f5c-53ca-453e-e876-c73a4780ef52"
      },
      "id": "MUim1hyLuNKr",
      "execution_count": 236,
      "outputs": [
        {
          "output_type": "execute_result",
          "data": {
            "text/html": [
              "<div>\n",
              "<style scoped>\n",
              "    .dataframe tbody tr th:only-of-type {\n",
              "        vertical-align: middle;\n",
              "    }\n",
              "\n",
              "    .dataframe tbody tr th {\n",
              "        vertical-align: top;\n",
              "    }\n",
              "\n",
              "    .dataframe thead th {\n",
              "        text-align: right;\n",
              "    }\n",
              "</style>\n",
              "<table border=\"1\" class=\"dataframe\">\n",
              "  <thead>\n",
              "    <tr style=\"text-align: right;\">\n",
              "      <th></th>\n",
              "      <th>avg_pr_ttl_lst_mn</th>\n",
              "      <th>churn</th>\n",
              "      <th>id</th>\n",
              "    </tr>\n",
              "  </thead>\n",
              "  <tbody>\n",
              "    <tr>\n",
              "      <th>0</th>\n",
              "      <td>0.000000</td>\n",
              "      <td>0</td>\n",
              "      <td>25</td>\n",
              "    </tr>\n",
              "    <tr>\n",
              "      <th>1</th>\n",
              "      <td>0.000000</td>\n",
              "      <td>1</td>\n",
              "      <td>1</td>\n",
              "    </tr>\n",
              "    <tr>\n",
              "      <th>2</th>\n",
              "      <td>0.000600</td>\n",
              "      <td>0</td>\n",
              "      <td>74</td>\n",
              "    </tr>\n",
              "    <tr>\n",
              "      <th>3</th>\n",
              "      <td>0.000901</td>\n",
              "      <td>0</td>\n",
              "      <td>6</td>\n",
              "    </tr>\n",
              "    <tr>\n",
              "      <th>4</th>\n",
              "      <td>0.111292</td>\n",
              "      <td>0</td>\n",
              "      <td>5</td>\n",
              "    </tr>\n",
              "  </tbody>\n",
              "</table>\n",
              "</div>"
            ],
            "text/plain": [
              "   avg_pr_ttl_lst_mn  churn  id\n",
              "0           0.000000      0  25\n",
              "1           0.000000      1   1\n",
              "2           0.000600      0  74\n",
              "3           0.000901      0   6\n",
              "4           0.111292      0   5"
            ]
          },
          "metadata": {},
          "execution_count": 236
        }
      ]
    },
    {
      "cell_type": "code",
      "source": [
        "plt.figure(figsize=(20,15))\n",
        "sns.histplot(data=avg_pr_ttl_lst_mn_hist, x='avg_pr_ttl_lst_mn', y='id', hue='churn', bins=100)"
      ],
      "metadata": {
        "colab": {
          "base_uri": "https://localhost:8080/",
          "height": 887
        },
        "id": "eM0M66ACsGln",
        "outputId": "ce454dae-1350-4a84-ca89-04a729b75844"
      },
      "id": "eM0M66ACsGln",
      "execution_count": 237,
      "outputs": [
        {
          "output_type": "execute_result",
          "data": {
            "text/plain": [
              "<matplotlib.axes._subplots.AxesSubplot at 0x7fea1636f5d0>"
            ]
          },
          "metadata": {},
          "execution_count": 237
        },
        {
          "output_type": "display_data",
          "data": {
            "image/png": "[encoded data removed]",
            "text/plain": [
              "<Figure size 1440x1080 with 1 Axes>"
            ]
          },
          "metadata": {}
        }
      ]
    },
    {
      "cell_type": "markdown",
      "source": [
        "CONCLUSION: It's not clearly visible from the graphs regarding whether price sensitivity contributed significantly to customer churn."
      ],
      "metadata": {
        "id": "w2-dH__1wFPG"
      },
      "id": "w2-dH__1wFPG"
    }
  ],
  "metadata": {
    "interpreter": {
      "hash": "152bf6e7dc8ee53edb5af21dc1a8faeab7f134840808a94079ed98d91ece7e0c"
    },
    "kernelspec": {
      "display_name": "Python 3",
      "language": "python",
      "name": "python3"
    },
    "language_info": {
      "codemirror_mode": {
        "name": "ipython",
        "version": 3
      },
      "file_extension": ".py",
      "mimetype": "text/x-python",
      "name": "python",
      "nbconvert_exporter": "python",
      "pygments_lexer": "ipython3",
      "version": "3.7.9"
    },
    "colab": {
      "name": "BCG.ipynb",
      "provenance": [],
      "collapsed_sections": [],
      "include_colab_link": true
    }
  },
  "nbformat": 4,
  "nbformat_minor": 5
}